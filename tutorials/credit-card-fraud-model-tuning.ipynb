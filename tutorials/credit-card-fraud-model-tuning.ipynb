{
 "cells": [
  {
   "cell_type": "markdown",
   "metadata": {},
   "source": [
    "# Credit Card Fraud - Model Tuning"
   ]
  },
  {
   "cell_type": "markdown",
   "metadata": {},
   "source": [
    "Machine Learning models tuning is a type of optimization problem. We have a set of hyperparameters and we aim to find the right combination of their values which can help us to find either the minimum (eg. loss) or the maximum (eg. accuracy) of a function.\n",
    "\n",
    "Below, is shown a really simple example of how to find the minimum of a function using Scipy. \n",
    "\n",
    "In this Notebook, I will walk you through different techniques commonly used in Machine Learning to optimise Hyperparameters selection to improve accuracy results.\n",
    "\n",
    "**Table of Contents:**\n",
    "1. Manual Search\n",
    "2. Random Search\n",
    "3. Grid Search\n",
    "4. Automated Hyperparameter Tuning (Bayesian Optimization, Genetic Algorithms)\n",
    "5. Artificial Neural Networks (ANNs) Tuning"
   ]
  },
  {
   "cell_type": "code",
   "execution_count": 1,
   "metadata": {},
   "outputs": [
    {
     "name": "stdout",
     "output_type": "stream",
     "text": [
      "Global minima (-20-15) at: 0.013750000000006354\n",
      "Local minimum (5-15) at: 12.078382194916786\n"
     ]
    },
    {
     "data": {
      "image/png": "[encoded data removed]",
      "text/plain": [
       "<Figure size 720x576 with 1 Axes>"
      ]
     },
     "metadata": {
      "needs_background": "light"
     },
     "output_type": "display_data"
    }
   ],
   "source": [
    "# Source: https://scipy-lectures.org/intro/scipy/auto_examples/plot_optimize_example2.html\n",
    "import numpy as np \n",
    "import matplotlib.pyplot as plt\n",
    "from scipy import optimize\n",
    "\n",
    "# Creating a function to examine\n",
    "x = np.arange(-20, 15, 0.3)\n",
    "def f(x):\n",
    "    return x**2 - (5*x)/7 - 50*np.cos(x)\n",
    "\n",
    "# Global optimization\n",
    "grid = (-20, 15, 0.3)\n",
    "xmin_global = optimize.brute(f, (grid, ))\n",
    "print(\"Global minima (-20-15) at: {}\".format(float(xmin_global)))\n",
    "\n",
    "# Constrained optimization\n",
    "xmin_local = optimize.fminbound(f, 5, 15)\n",
    "print(\"Local minimum (5-15) at: {}\".format(xmin_local))\n",
    "\n",
    "# Plotting the function\n",
    "fig = plt.figure(figsize=(10, 8))\n",
    "plt.plot(x, f(x), 'b', label=\"f(x)\")\n",
    "\n",
    "# Plotting horizontal line where possible roots can be found \n",
    "plt.axhline(0, color='gray', label=\"Roots Level\")\n",
    "\n",
    "# Plotting the function minima\n",
    "xmins = np.array([xmin_global[0], xmin_local])\n",
    "plt.plot(xmins, f(xmins), 'go', label=\"Minima\")\n",
    "plt.xlabel(\"x\")\n",
    "plt.ylabel(\"f(x)\")\n",
    "plt.title(\"Finding the minimum of a function\")\n",
    "plt.legend(loc='best')\n",
    "plt.show()"
   ]
  },
  {
   "cell_type": "markdown",
   "metadata": {},
   "source": [
    "A machine learning model can be composed by two different types of parameters:\n",
    "- Hyperparamters are all the parameters which can be arbitrarely set by the user before starting training (eg. number of estimators in Random Forest). \n",
    "- Model parameters are instead learned during the model training (eg. weights in Neural Networks, Linear Regression).\n",
    "\n",
    "The model parameters define how to use input data to get a desired output, while the hyperparameters determine how our model is structured in the first place. \n",
    "\n",
    "This can be particularly important when comparing how different Machine Learning models performs on a dataset. In fact, I would be unfair for example to compare an SVM model with the best hyperparameters against a Random Forest model with has not been optimized.\n",
    "\n",
    "I will now walk you through a practical example using Kaggle Credit Card Fraud Dataset. In this case, I decided to use just a subset of the dataset, in order to speed up training times and make sure to achieve a perfect balance between the two different classes. Additionally, just a limited amount of features will be used in order to make the optimization tasks more challenging."
   ]
  },
  {
   "cell_type": "code",
   "execution_count": 2,
   "metadata": {
    "_cell_guid": "b1076dfc-b9ad-4769-8c92-a6c4dae69d19",
    "_uuid": "8f2839f25d086af736a60e9eeb907d3b93b6e0e5"
   },
   "outputs": [
    {
     "name": "stdout",
     "output_type": "stream",
     "text": [
      "/kaggle/input/creditcardfraud/creditcard.csv\n"
     ]
    }
   ],
   "source": [
    "import pandas as pd # data processing, CSV file I/O (e.g. pd.read_csv)\n",
    "from matplotlib.pyplot import figure\n",
    "import seaborn as sns\n",
    "from sklearn.preprocessing import StandardScaler\n",
    "from sklearn.model_selection import train_test_split\n",
    "from sklearn.metrics import classification_report,confusion_matrix\n",
    "from sklearn.ensemble import RandomForestClassifier\n",
    "from sklearn.metrics import accuracy_score\n",
    "from sklearn.model_selection import cross_val_score\n",
    "import os\n",
    "\n",
    "for dirname, _, filenames in os.walk('/kaggle/input'):\n",
    "    for filename in filenames:\n",
    "        print(os.path.join(dirname, filename))"
   ]
  },
  {
   "cell_type": "code",
   "execution_count": 3,
   "metadata": {
    "_cell_guid": "79c7e3d0-c299-4dcb-8224-4455121ee9b0",
    "_uuid": "d629ff2d2480ee46fbb7e2d37f6b5fab8052498a"
   },
   "outputs": [
    {
     "data": {
      "text/html": [
       "<div>\n",
       "<style scoped>\n",
       "    .dataframe tbody tr th:only-of-type {\n",
       "        vertical-align: middle;\n",
       "    }\n",
       "\n",
       "    .dataframe tbody tr th {\n",
       "        vertical-align: top;\n",
       "    }\n",
       "\n",
       "    .dataframe thead th {\n",
       "        text-align: right;\n",
       "    }\n",
       "</style>\n",
       "<table border=\"1\" class=\"dataframe\">\n",
       "  <thead>\n",
       "    <tr style=\"text-align: right;\">\n",
       "      <th></th>\n",
       "      <th>Time</th>\n",
       "      <th>V1</th>\n",
       "      <th>V2</th>\n",
       "      <th>V3</th>\n",
       "      <th>V4</th>\n",
       "      <th>V5</th>\n",
       "      <th>V6</th>\n",
       "      <th>V7</th>\n",
       "      <th>V8</th>\n",
       "      <th>V9</th>\n",
       "      <th>...</th>\n",
       "      <th>V21</th>\n",
       "      <th>V22</th>\n",
       "      <th>V23</th>\n",
       "      <th>V24</th>\n",
       "      <th>V25</th>\n",
       "      <th>V26</th>\n",
       "      <th>V27</th>\n",
       "      <th>V28</th>\n",
       "      <th>Amount</th>\n",
       "      <th>Class</th>\n",
       "    </tr>\n",
       "  </thead>\n",
       "  <tbody>\n",
       "    <tr>\n",
       "      <th>0</th>\n",
       "      <td>0.0</td>\n",
       "      <td>-1.359807</td>\n",
       "      <td>-0.072781</td>\n",
       "      <td>2.536347</td>\n",
       "      <td>1.378155</td>\n",
       "      <td>-0.338321</td>\n",
       "      <td>0.462388</td>\n",
       "      <td>0.239599</td>\n",
       "      <td>0.098698</td>\n",
       "      <td>0.363787</td>\n",
       "      <td>...</td>\n",
       "      <td>-0.018307</td>\n",
       "      <td>0.277838</td>\n",
       "      <td>-0.110474</td>\n",
       "      <td>0.066928</td>\n",
       "      <td>0.128539</td>\n",
       "      <td>-0.189115</td>\n",
       "      <td>0.133558</td>\n",
       "      <td>-0.021053</td>\n",
       "      <td>149.62</td>\n",
       "      <td>0</td>\n",
       "    </tr>\n",
       "    <tr>\n",
       "      <th>1</th>\n",
       "      <td>0.0</td>\n",
       "      <td>1.191857</td>\n",
       "      <td>0.266151</td>\n",
       "      <td>0.166480</td>\n",
       "      <td>0.448154</td>\n",
       "      <td>0.060018</td>\n",
       "      <td>-0.082361</td>\n",
       "      <td>-0.078803</td>\n",
       "      <td>0.085102</td>\n",
       "      <td>-0.255425</td>\n",
       "      <td>...</td>\n",
       "      <td>-0.225775</td>\n",
       "      <td>-0.638672</td>\n",
       "      <td>0.101288</td>\n",
       "      <td>-0.339846</td>\n",
       "      <td>0.167170</td>\n",
       "      <td>0.125895</td>\n",
       "      <td>-0.008983</td>\n",
       "      <td>0.014724</td>\n",
       "      <td>2.69</td>\n",
       "      <td>0</td>\n",
       "    </tr>\n",
       "    <tr>\n",
       "      <th>2</th>\n",
       "      <td>1.0</td>\n",
       "      <td>-1.358354</td>\n",
       "      <td>-1.340163</td>\n",
       "      <td>1.773209</td>\n",
       "      <td>0.379780</td>\n",
       "      <td>-0.503198</td>\n",
       "      <td>1.800499</td>\n",
       "      <td>0.791461</td>\n",
       "      <td>0.247676</td>\n",
       "      <td>-1.514654</td>\n",
       "      <td>...</td>\n",
       "      <td>0.247998</td>\n",
       "      <td>0.771679</td>\n",
       "      <td>0.909412</td>\n",
       "      <td>-0.689281</td>\n",
       "      <td>-0.327642</td>\n",
       "      <td>-0.139097</td>\n",
       "      <td>-0.055353</td>\n",
       "      <td>-0.059752</td>\n",
       "      <td>378.66</td>\n",
       "      <td>0</td>\n",
       "    </tr>\n",
       "    <tr>\n",
       "      <th>3</th>\n",
       "      <td>1.0</td>\n",
       "      <td>-0.966272</td>\n",
       "      <td>-0.185226</td>\n",
       "      <td>1.792993</td>\n",
       "      <td>-0.863291</td>\n",
       "      <td>-0.010309</td>\n",
       "      <td>1.247203</td>\n",
       "      <td>0.237609</td>\n",
       "      <td>0.377436</td>\n",
       "      <td>-1.387024</td>\n",
       "      <td>...</td>\n",
       "      <td>-0.108300</td>\n",
       "      <td>0.005274</td>\n",
       "      <td>-0.190321</td>\n",
       "      <td>-1.175575</td>\n",
       "      <td>0.647376</td>\n",
       "      <td>-0.221929</td>\n",
       "      <td>0.062723</td>\n",
       "      <td>0.061458</td>\n",
       "      <td>123.50</td>\n",
       "      <td>0</td>\n",
       "    </tr>\n",
       "    <tr>\n",
       "      <th>4</th>\n",
       "      <td>2.0</td>\n",
       "      <td>-1.158233</td>\n",
       "      <td>0.877737</td>\n",
       "      <td>1.548718</td>\n",
       "      <td>0.403034</td>\n",
       "      <td>-0.407193</td>\n",
       "      <td>0.095921</td>\n",
       "      <td>0.592941</td>\n",
       "      <td>-0.270533</td>\n",
       "      <td>0.817739</td>\n",
       "      <td>...</td>\n",
       "      <td>-0.009431</td>\n",
       "      <td>0.798278</td>\n",
       "      <td>-0.137458</td>\n",
       "      <td>0.141267</td>\n",
       "      <td>-0.206010</td>\n",
       "      <td>0.502292</td>\n",
       "      <td>0.219422</td>\n",
       "      <td>0.215153</td>\n",
       "      <td>69.99</td>\n",
       "      <td>0</td>\n",
       "    </tr>\n",
       "  </tbody>\n",
       "</table>\n",
       "<p>5 rows × 31 columns</p>\n",
       "</div>"
      ],
      "text/plain": [
       "   Time        V1        V2        V3        V4        V5        V6        V7  \\\n",
       "0   0.0 -1.359807 -0.072781  2.536347  1.378155 -0.338321  0.462388  0.239599   \n",
       "1   0.0  1.191857  0.266151  0.166480  0.448154  0.060018 -0.082361 -0.078803   \n",
       "2   1.0 -1.358354 -1.340163  1.773209  0.379780 -0.503198  1.800499  0.791461   \n",
       "3   1.0 -0.966272 -0.185226  1.792993 -0.863291 -0.010309  1.247203  0.237609   \n",
       "4   2.0 -1.158233  0.877737  1.548718  0.403034 -0.407193  0.095921  0.592941   \n",
       "\n",
       "         V8        V9  ...       V21       V22       V23       V24       V25  \\\n",
       "0  0.098698  0.363787  ... -0.018307  0.277838 -0.110474  0.066928  0.128539   \n",
       "1  0.085102 -0.255425  ... -0.225775 -0.638672  0.101288 -0.339846  0.167170   \n",
       "2  0.247676 -1.514654  ...  0.247998  0.771679  0.909412 -0.689281 -0.327642   \n",
       "3  0.377436 -1.387024  ... -0.108300  0.005274 -0.190321 -1.175575  0.647376   \n",
       "4 -0.270533  0.817739  ... -0.009431  0.798278 -0.137458  0.141267 -0.206010   \n",
       "\n",
       "        V26       V27       V28  Amount  Class  \n",
       "0 -0.189115  0.133558 -0.021053  149.62      0  \n",
       "1  0.125895 -0.008983  0.014724    2.69      0  \n",
       "2 -0.139097 -0.055353 -0.059752  378.66      0  \n",
       "3 -0.221929  0.062723  0.061458  123.50      0  \n",
       "4  0.502292  0.219422  0.215153   69.99      0  \n",
       "\n",
       "[5 rows x 31 columns]"
      ]
     },
     "execution_count": 3,
     "metadata": {},
     "output_type": "execute_result"
    }
   ],
   "source": [
    "df = pd.read_csv(\"../input/creditcardfraud/creditcard.csv\")\n",
    "df.head()"
   ]
  },
  {
   "cell_type": "code",
   "execution_count": 4,
   "metadata": {},
   "outputs": [
    {
     "name": "stdout",
     "output_type": "stream",
     "text": [
      "(284807, 31)\n",
      "Index(['Time', 'V1', 'V2', 'V3', 'V4', 'V5', 'V6', 'V7', 'V8', 'V9', 'V10',\n",
      "       'V11', 'V12', 'V13', 'V14', 'V15', 'V16', 'V17', 'V18', 'V19', 'V20',\n",
      "       'V21', 'V22', 'V23', 'V24', 'V25', 'V26', 'V27', 'V28', 'Amount',\n",
      "       'Class'],\n",
      "      dtype='object')\n"
     ]
    }
   ],
   "source": [
    "print(df.shape)\n",
    "print(df.columns)"
   ]
  },
  {
   "cell_type": "code",
   "execution_count": 5,
   "metadata": {},
   "outputs": [
    {
     "data": {
      "text/html": [
       "<div>\n",
       "<style scoped>\n",
       "    .dataframe tbody tr th:only-of-type {\n",
       "        vertical-align: middle;\n",
       "    }\n",
       "\n",
       "    .dataframe tbody tr th {\n",
       "        vertical-align: top;\n",
       "    }\n",
       "\n",
       "    .dataframe thead th {\n",
       "        text-align: right;\n",
       "    }\n",
       "</style>\n",
       "<table border=\"1\" class=\"dataframe\">\n",
       "  <thead>\n",
       "    <tr style=\"text-align: right;\">\n",
       "      <th></th>\n",
       "      <th>percent_missing</th>\n",
       "    </tr>\n",
       "  </thead>\n",
       "  <tbody>\n",
       "    <tr>\n",
       "      <th>Time</th>\n",
       "      <td>0.0</td>\n",
       "    </tr>\n",
       "    <tr>\n",
       "      <th>V16</th>\n",
       "      <td>0.0</td>\n",
       "    </tr>\n",
       "    <tr>\n",
       "      <th>Amount</th>\n",
       "      <td>0.0</td>\n",
       "    </tr>\n",
       "    <tr>\n",
       "      <th>V28</th>\n",
       "      <td>0.0</td>\n",
       "    </tr>\n",
       "    <tr>\n",
       "      <th>V27</th>\n",
       "      <td>0.0</td>\n",
       "    </tr>\n",
       "    <tr>\n",
       "      <th>V26</th>\n",
       "      <td>0.0</td>\n",
       "    </tr>\n",
       "    <tr>\n",
       "      <th>V25</th>\n",
       "      <td>0.0</td>\n",
       "    </tr>\n",
       "    <tr>\n",
       "      <th>V24</th>\n",
       "      <td>0.0</td>\n",
       "    </tr>\n",
       "    <tr>\n",
       "      <th>V23</th>\n",
       "      <td>0.0</td>\n",
       "    </tr>\n",
       "    <tr>\n",
       "      <th>V22</th>\n",
       "      <td>0.0</td>\n",
       "    </tr>\n",
       "    <tr>\n",
       "      <th>V21</th>\n",
       "      <td>0.0</td>\n",
       "    </tr>\n",
       "    <tr>\n",
       "      <th>V20</th>\n",
       "      <td>0.0</td>\n",
       "    </tr>\n",
       "    <tr>\n",
       "      <th>V19</th>\n",
       "      <td>0.0</td>\n",
       "    </tr>\n",
       "    <tr>\n",
       "      <th>V18</th>\n",
       "      <td>0.0</td>\n",
       "    </tr>\n",
       "    <tr>\n",
       "      <th>V17</th>\n",
       "      <td>0.0</td>\n",
       "    </tr>\n",
       "    <tr>\n",
       "      <th>V15</th>\n",
       "      <td>0.0</td>\n",
       "    </tr>\n",
       "    <tr>\n",
       "      <th>V1</th>\n",
       "      <td>0.0</td>\n",
       "    </tr>\n",
       "    <tr>\n",
       "      <th>V14</th>\n",
       "      <td>0.0</td>\n",
       "    </tr>\n",
       "    <tr>\n",
       "      <th>V13</th>\n",
       "      <td>0.0</td>\n",
       "    </tr>\n",
       "    <tr>\n",
       "      <th>V12</th>\n",
       "      <td>0.0</td>\n",
       "    </tr>\n",
       "    <tr>\n",
       "      <th>V11</th>\n",
       "      <td>0.0</td>\n",
       "    </tr>\n",
       "    <tr>\n",
       "      <th>V10</th>\n",
       "      <td>0.0</td>\n",
       "    </tr>\n",
       "    <tr>\n",
       "      <th>V9</th>\n",
       "      <td>0.0</td>\n",
       "    </tr>\n",
       "    <tr>\n",
       "      <th>V8</th>\n",
       "      <td>0.0</td>\n",
       "    </tr>\n",
       "    <tr>\n",
       "      <th>V7</th>\n",
       "      <td>0.0</td>\n",
       "    </tr>\n",
       "    <tr>\n",
       "      <th>V6</th>\n",
       "      <td>0.0</td>\n",
       "    </tr>\n",
       "    <tr>\n",
       "      <th>V5</th>\n",
       "      <td>0.0</td>\n",
       "    </tr>\n",
       "    <tr>\n",
       "      <th>V4</th>\n",
       "      <td>0.0</td>\n",
       "    </tr>\n",
       "    <tr>\n",
       "      <th>V3</th>\n",
       "      <td>0.0</td>\n",
       "    </tr>\n",
       "    <tr>\n",
       "      <th>V2</th>\n",
       "      <td>0.0</td>\n",
       "    </tr>\n",
       "    <tr>\n",
       "      <th>Class</th>\n",
       "      <td>0.0</td>\n",
       "    </tr>\n",
       "  </tbody>\n",
       "</table>\n",
       "</div>"
      ],
      "text/plain": [
       "        percent_missing\n",
       "Time                0.0\n",
       "V16                 0.0\n",
       "Amount              0.0\n",
       "V28                 0.0\n",
       "V27                 0.0\n",
       "V26                 0.0\n",
       "V25                 0.0\n",
       "V24                 0.0\n",
       "V23                 0.0\n",
       "V22                 0.0\n",
       "V21                 0.0\n",
       "V20                 0.0\n",
       "V19                 0.0\n",
       "V18                 0.0\n",
       "V17                 0.0\n",
       "V15                 0.0\n",
       "V1                  0.0\n",
       "V14                 0.0\n",
       "V13                 0.0\n",
       "V12                 0.0\n",
       "V11                 0.0\n",
       "V10                 0.0\n",
       "V9                  0.0\n",
       "V8                  0.0\n",
       "V7                  0.0\n",
       "V6                  0.0\n",
       "V5                  0.0\n",
       "V4                  0.0\n",
       "V3                  0.0\n",
       "V2                  0.0\n",
       "Class               0.0"
      ]
     },
     "execution_count": 5,
     "metadata": {},
     "output_type": "execute_result"
    }
   ],
   "source": [
    "percent_missing = df.isnull().sum() * 100 / len(df)\n",
    "missing_values = pd.DataFrame({'percent_missing': percent_missing})\n",
    "missing_values.sort_values(by ='percent_missing' , ascending=False)"
   ]
  },
  {
   "cell_type": "code",
   "execution_count": 6,
   "metadata": {},
   "outputs": [
    {
     "data": {
      "image/png": "[encoded data removed]",
      "text/plain": [
       "<Figure size 800x640 with 1 Axes>"
      ]
     },
     "metadata": {},
     "output_type": "display_data"
    }
   ],
   "source": [
    "figure(num=None, figsize=(10, 8), dpi=80, facecolor='w', edgecolor='k')\n",
    "\n",
    "sns.set(style=\"ticks\")\n",
    "f = sns.countplot(x=\"Class\", data=df, palette=\"bwr\")\n",
    "plt.show()"
   ]
  },
  {
   "cell_type": "code",
   "execution_count": 7,
   "metadata": {},
   "outputs": [
    {
     "data": {
      "text/plain": [
       "<matplotlib.axes._subplots.AxesSubplot at 0x7fbdff644e10>"
      ]
     },
     "execution_count": 7,
     "metadata": {},
     "output_type": "execute_result"
    },
    {
     "data": {
      "image/png": "[encoded data removed]",
      "text/plain": [
       "<Figure size 800x640 with 2 Axes>"
      ]
     },
     "metadata": {},
     "output_type": "display_data"
    }
   ],
   "source": [
    "figure(num=None, figsize=(10, 8), dpi=80, facecolor='w', edgecolor='k')\n",
    "\n",
    "corr=df.corr()\n",
    "sns.heatmap(corr, xticklabels=corr.columns.values, yticklabels=corr.columns.values)"
   ]
  },
  {
   "cell_type": "code",
   "execution_count": 8,
   "metadata": {},
   "outputs": [
    {
     "name": "stdout",
     "output_type": "stream",
     "text": [
      "(400, 31)\n",
      "(400, 31)\n"
     ]
    },
    {
     "data": {
      "text/plain": [
       "(800, 31)"
      ]
     },
     "execution_count": 8,
     "metadata": {},
     "output_type": "execute_result"
    }
   ],
   "source": [
    "df2 = df[df.Class == 1][0:400]\n",
    "print(df2.shape)\n",
    "df3 = df[df.Class == 0][0:400]\n",
    "print(df3.shape)\n",
    "\n",
    "df = df2.append(df3, ignore_index=True)\n",
    "#df4.head()\n",
    "df.shape"
   ]
  },
  {
   "cell_type": "code",
   "execution_count": 9,
   "metadata": {},
   "outputs": [
    {
     "data": {
      "text/html": [
       "<div>\n",
       "<style scoped>\n",
       "    .dataframe tbody tr th:only-of-type {\n",
       "        vertical-align: middle;\n",
       "    }\n",
       "\n",
       "    .dataframe tbody tr th {\n",
       "        vertical-align: top;\n",
       "    }\n",
       "\n",
       "    .dataframe thead th {\n",
       "        text-align: right;\n",
       "    }\n",
       "</style>\n",
       "<table border=\"1\" class=\"dataframe\">\n",
       "  <thead>\n",
       "    <tr style=\"text-align: right;\">\n",
       "      <th></th>\n",
       "      <th>Time</th>\n",
       "      <th>V1</th>\n",
       "      <th>V2</th>\n",
       "      <th>V3</th>\n",
       "      <th>V4</th>\n",
       "      <th>V5</th>\n",
       "      <th>V6</th>\n",
       "      <th>V7</th>\n",
       "      <th>V8</th>\n",
       "      <th>V9</th>\n",
       "      <th>...</th>\n",
       "      <th>V21</th>\n",
       "      <th>V22</th>\n",
       "      <th>V23</th>\n",
       "      <th>V24</th>\n",
       "      <th>V25</th>\n",
       "      <th>V26</th>\n",
       "      <th>V27</th>\n",
       "      <th>V28</th>\n",
       "      <th>Amount</th>\n",
       "      <th>Class</th>\n",
       "    </tr>\n",
       "  </thead>\n",
       "  <tbody>\n",
       "    <tr>\n",
       "      <th>0</th>\n",
       "      <td>406.0</td>\n",
       "      <td>-2.312227</td>\n",
       "      <td>1.951992</td>\n",
       "      <td>-1.609851</td>\n",
       "      <td>3.997906</td>\n",
       "      <td>-0.522188</td>\n",
       "      <td>-1.426545</td>\n",
       "      <td>-2.537387</td>\n",
       "      <td>1.391657</td>\n",
       "      <td>-2.770089</td>\n",
       "      <td>...</td>\n",
       "      <td>0.517232</td>\n",
       "      <td>-0.035049</td>\n",
       "      <td>-0.465211</td>\n",
       "      <td>0.320198</td>\n",
       "      <td>0.044519</td>\n",
       "      <td>0.177840</td>\n",
       "      <td>0.261145</td>\n",
       "      <td>-0.143276</td>\n",
       "      <td>0.00</td>\n",
       "      <td>1</td>\n",
       "    </tr>\n",
       "    <tr>\n",
       "      <th>1</th>\n",
       "      <td>472.0</td>\n",
       "      <td>-3.043541</td>\n",
       "      <td>-3.157307</td>\n",
       "      <td>1.088463</td>\n",
       "      <td>2.288644</td>\n",
       "      <td>1.359805</td>\n",
       "      <td>-1.064823</td>\n",
       "      <td>0.325574</td>\n",
       "      <td>-0.067794</td>\n",
       "      <td>-0.270953</td>\n",
       "      <td>...</td>\n",
       "      <td>0.661696</td>\n",
       "      <td>0.435477</td>\n",
       "      <td>1.375966</td>\n",
       "      <td>-0.293803</td>\n",
       "      <td>0.279798</td>\n",
       "      <td>-0.145362</td>\n",
       "      <td>-0.252773</td>\n",
       "      <td>0.035764</td>\n",
       "      <td>529.00</td>\n",
       "      <td>1</td>\n",
       "    </tr>\n",
       "    <tr>\n",
       "      <th>2</th>\n",
       "      <td>4462.0</td>\n",
       "      <td>-2.303350</td>\n",
       "      <td>1.759247</td>\n",
       "      <td>-0.359745</td>\n",
       "      <td>2.330243</td>\n",
       "      <td>-0.821628</td>\n",
       "      <td>-0.075788</td>\n",
       "      <td>0.562320</td>\n",
       "      <td>-0.399147</td>\n",
       "      <td>-0.238253</td>\n",
       "      <td>...</td>\n",
       "      <td>-0.294166</td>\n",
       "      <td>-0.932391</td>\n",
       "      <td>0.172726</td>\n",
       "      <td>-0.087330</td>\n",
       "      <td>-0.156114</td>\n",
       "      <td>-0.542628</td>\n",
       "      <td>0.039566</td>\n",
       "      <td>-0.153029</td>\n",
       "      <td>239.93</td>\n",
       "      <td>1</td>\n",
       "    </tr>\n",
       "    <tr>\n",
       "      <th>3</th>\n",
       "      <td>6986.0</td>\n",
       "      <td>-4.397974</td>\n",
       "      <td>1.358367</td>\n",
       "      <td>-2.592844</td>\n",
       "      <td>2.679787</td>\n",
       "      <td>-1.128131</td>\n",
       "      <td>-1.706536</td>\n",
       "      <td>-3.496197</td>\n",
       "      <td>-0.248778</td>\n",
       "      <td>-0.247768</td>\n",
       "      <td>...</td>\n",
       "      <td>0.573574</td>\n",
       "      <td>0.176968</td>\n",
       "      <td>-0.436207</td>\n",
       "      <td>-0.053502</td>\n",
       "      <td>0.252405</td>\n",
       "      <td>-0.657488</td>\n",
       "      <td>-0.827136</td>\n",
       "      <td>0.849573</td>\n",
       "      <td>59.00</td>\n",
       "      <td>1</td>\n",
       "    </tr>\n",
       "    <tr>\n",
       "      <th>4</th>\n",
       "      <td>7519.0</td>\n",
       "      <td>1.234235</td>\n",
       "      <td>3.019740</td>\n",
       "      <td>-4.304597</td>\n",
       "      <td>4.732795</td>\n",
       "      <td>3.624201</td>\n",
       "      <td>-1.357746</td>\n",
       "      <td>1.713445</td>\n",
       "      <td>-0.496358</td>\n",
       "      <td>-1.282858</td>\n",
       "      <td>...</td>\n",
       "      <td>-0.379068</td>\n",
       "      <td>-0.704181</td>\n",
       "      <td>-0.656805</td>\n",
       "      <td>-1.632653</td>\n",
       "      <td>1.488901</td>\n",
       "      <td>0.566797</td>\n",
       "      <td>-0.010016</td>\n",
       "      <td>0.146793</td>\n",
       "      <td>1.00</td>\n",
       "      <td>1</td>\n",
       "    </tr>\n",
       "  </tbody>\n",
       "</table>\n",
       "<p>5 rows × 31 columns</p>\n",
       "</div>"
      ],
      "text/plain": [
       "     Time        V1        V2        V3        V4        V5        V6  \\\n",
       "0   406.0 -2.312227  1.951992 -1.609851  3.997906 -0.522188 -1.426545   \n",
       "1   472.0 -3.043541 -3.157307  1.088463  2.288644  1.359805 -1.064823   \n",
       "2  4462.0 -2.303350  1.759247 -0.359745  2.330243 -0.821628 -0.075788   \n",
       "3  6986.0 -4.397974  1.358367 -2.592844  2.679787 -1.128131 -1.706536   \n",
       "4  7519.0  1.234235  3.019740 -4.304597  4.732795  3.624201 -1.357746   \n",
       "\n",
       "         V7        V8        V9  ...       V21       V22       V23       V24  \\\n",
       "0 -2.537387  1.391657 -2.770089  ...  0.517232 -0.035049 -0.465211  0.320198   \n",
       "1  0.325574 -0.067794 -0.270953  ...  0.661696  0.435477  1.375966 -0.293803   \n",
       "2  0.562320 -0.399147 -0.238253  ... -0.294166 -0.932391  0.172726 -0.087330   \n",
       "3 -3.496197 -0.248778 -0.247768  ...  0.573574  0.176968 -0.436207 -0.053502   \n",
       "4  1.713445 -0.496358 -1.282858  ... -0.379068 -0.704181 -0.656805 -1.632653   \n",
       "\n",
       "        V25       V26       V27       V28  Amount  Class  \n",
       "0  0.044519  0.177840  0.261145 -0.143276    0.00      1  \n",
       "1  0.279798 -0.145362 -0.252773  0.035764  529.00      1  \n",
       "2 -0.156114 -0.542628  0.039566 -0.153029  239.93      1  \n",
       "3  0.252405 -0.657488 -0.827136  0.849573   59.00      1  \n",
       "4  1.488901  0.566797 -0.010016  0.146793    1.00      1  \n",
       "\n",
       "[5 rows x 31 columns]"
      ]
     },
     "execution_count": 9,
     "metadata": {},
     "output_type": "execute_result"
    }
   ],
   "source": [
    "df.head()"
   ]
  },
  {
   "cell_type": "code",
   "execution_count": 10,
   "metadata": {},
   "outputs": [
    {
     "data": {
      "image/png": "[encoded data removed]",
      "text/plain": [
       "<Figure size 800x640 with 1 Axes>"
      ]
     },
     "metadata": {},
     "output_type": "display_data"
    }
   ],
   "source": [
    "figure(num=None, figsize=(10, 8), dpi=80, facecolor='w', edgecolor='k')\n",
    "\n",
    "sns.set(style=\"ticks\")\n",
    "f = sns.countplot(x=\"Class\", data=df, palette=\"bwr\")\n",
    "plt.show()"
   ]
  },
  {
   "cell_type": "code",
   "execution_count": 11,
   "metadata": {},
   "outputs": [],
   "source": [
    "X = df.drop(['Class'], axis = 1).values\n",
    "Y = df['Class']\n",
    "\n",
    "X = StandardScaler().fit_transform(X)\n",
    "\n",
    "X_Train, X_Test, Y_Train, Y_Test = train_test_split(X, Y, test_size = 0.30, random_state = 101)"
   ]
  },
  {
   "cell_type": "code",
   "execution_count": 12,
   "metadata": {},
   "outputs": [
    {
     "name": "stdout",
     "output_type": "stream",
     "text": [
      "[[116   0]\n",
      " [  0 124]]\n",
      "              precision    recall  f1-score   support\n",
      "\n",
      "           0       1.00      1.00      1.00       116\n",
      "           1       1.00      1.00      1.00       124\n",
      "\n",
      "    accuracy                           1.00       240\n",
      "   macro avg       1.00      1.00      1.00       240\n",
      "weighted avg       1.00      1.00      1.00       240\n",
      "\n"
     ]
    }
   ],
   "source": [
    "model = RandomForestClassifier(n_estimators=300).fit(X_Train,Y_Train)\n",
    "predictionforest = model.predict(X_Test)\n",
    "print(confusion_matrix(Y_Test,predictionforest))\n",
    "print(classification_report(Y_Test,predictionforest))"
   ]
  },
  {
   "cell_type": "code",
   "execution_count": 13,
   "metadata": {},
   "outputs": [
    {
     "data": {
      "text/plain": [
       "<matplotlib.axes._subplots.AxesSubplot at 0x7fbdff415dd8>"
      ]
     },
     "execution_count": 13,
     "metadata": {},
     "output_type": "execute_result"
    },
    {
     "data": {
      "image/png": "[encoded data removed]",
      "text/plain": [
       "<Figure size 800x640 with 1 Axes>"
      ]
     },
     "metadata": {},
     "output_type": "display_data"
    }
   ],
   "source": [
    "figure(num=None, figsize=(10, 8), dpi=80, facecolor='w', edgecolor='k')\n",
    "\n",
    "feat_importances = pd.Series(model.feature_importances_, index=df.drop(df[['Class']], \n",
    "                                                                       axis=1).columns)\n",
    "feat_importances.nlargest(30).plot(kind='barh')"
   ]
  },
  {
   "cell_type": "code",
   "execution_count": 14,
   "metadata": {},
   "outputs": [
    {
     "data": {
      "text/html": [
       "<div>\n",
       "<style scoped>\n",
       "    .dataframe tbody tr th:only-of-type {\n",
       "        vertical-align: middle;\n",
       "    }\n",
       "\n",
       "    .dataframe tbody tr th {\n",
       "        vertical-align: top;\n",
       "    }\n",
       "\n",
       "    .dataframe thead th {\n",
       "        text-align: right;\n",
       "    }\n",
       "</style>\n",
       "<table border=\"1\" class=\"dataframe\">\n",
       "  <thead>\n",
       "    <tr style=\"text-align: right;\">\n",
       "      <th></th>\n",
       "      <th>V17</th>\n",
       "      <th>V9</th>\n",
       "      <th>V6</th>\n",
       "      <th>V12</th>\n",
       "      <th>Class</th>\n",
       "    </tr>\n",
       "  </thead>\n",
       "  <tbody>\n",
       "    <tr>\n",
       "      <th>0</th>\n",
       "      <td>-2.830056</td>\n",
       "      <td>-2.770089</td>\n",
       "      <td>-1.426545</td>\n",
       "      <td>-2.899907</td>\n",
       "      <td>1</td>\n",
       "    </tr>\n",
       "    <tr>\n",
       "      <th>1</th>\n",
       "      <td>0.599717</td>\n",
       "      <td>-0.270953</td>\n",
       "      <td>-1.064823</td>\n",
       "      <td>-0.503141</td>\n",
       "      <td>1</td>\n",
       "    </tr>\n",
       "    <tr>\n",
       "      <th>2</th>\n",
       "      <td>-4.781831</td>\n",
       "      <td>-0.238253</td>\n",
       "      <td>-0.075788</td>\n",
       "      <td>-6.560124</td>\n",
       "      <td>1</td>\n",
       "    </tr>\n",
       "    <tr>\n",
       "      <th>3</th>\n",
       "      <td>-12.598419</td>\n",
       "      <td>-0.247768</td>\n",
       "      <td>-1.706536</td>\n",
       "      <td>-10.912819</td>\n",
       "      <td>1</td>\n",
       "    </tr>\n",
       "    <tr>\n",
       "      <th>4</th>\n",
       "      <td>6.739384</td>\n",
       "      <td>-1.282858</td>\n",
       "      <td>-1.357746</td>\n",
       "      <td>-4.609628</td>\n",
       "      <td>1</td>\n",
       "    </tr>\n",
       "  </tbody>\n",
       "</table>\n",
       "</div>"
      ],
      "text/plain": [
       "         V17        V9        V6        V12  Class\n",
       "0  -2.830056 -2.770089 -1.426545  -2.899907      1\n",
       "1   0.599717 -0.270953 -1.064823  -0.503141      1\n",
       "2  -4.781831 -0.238253 -0.075788  -6.560124      1\n",
       "3 -12.598419 -0.247768 -1.706536 -10.912819      1\n",
       "4   6.739384 -1.282858 -1.357746  -4.609628      1"
      ]
     },
     "execution_count": 14,
     "metadata": {},
     "output_type": "execute_result"
    }
   ],
   "source": [
    "df[['V17', 'V9', 'V6', 'V12','Class']].head()"
   ]
  },
  {
   "cell_type": "code",
   "execution_count": 15,
   "metadata": {},
   "outputs": [],
   "source": [
    "X = df[['V17', 'V9', 'V6', 'V12']]\n",
    "Y = df['Class']\n",
    "\n",
    "X = StandardScaler().fit_transform(X)\n",
    "\n",
    "X_Train, X_Test, Y_Train, Y_Test = train_test_split(X, Y, test_size = 0.30, random_state = 101)"
   ]
  },
  {
   "cell_type": "code",
   "execution_count": 16,
   "metadata": {},
   "outputs": [
    {
     "name": "stdout",
     "output_type": "stream",
     "text": [
      "[[110   6]\n",
      " [  6 118]]\n",
      "              precision    recall  f1-score   support\n",
      "\n",
      "           0       0.95      0.95      0.95       116\n",
      "           1       0.95      0.95      0.95       124\n",
      "\n",
      "    accuracy                           0.95       240\n",
      "   macro avg       0.95      0.95      0.95       240\n",
      "weighted avg       0.95      0.95      0.95       240\n",
      "\n"
     ]
    },
    {
     "name": "stderr",
     "output_type": "stream",
     "text": [
      "/opt/conda/lib/python3.6/site-packages/sklearn/ensemble/forest.py:245: FutureWarning: The default value of n_estimators will change from 10 in version 0.20 to 100 in 0.22.\n",
      "  \"10 in version 0.20 to 100 in 0.22.\", FutureWarning)\n"
     ]
    }
   ],
   "source": [
    "model = RandomForestClassifier(random_state= 101).fit(X_Train,Y_Train)\n",
    "predictionforest = model.predict(X_Test)\n",
    "print(confusion_matrix(Y_Test,predictionforest))\n",
    "print(classification_report(Y_Test,predictionforest))\n",
    "acc1 = accuracy_score(Y_Test,predictionforest)"
   ]
  },
  {
   "cell_type": "markdown",
   "metadata": {},
   "source": [
    "## Manual Search"
   ]
  },
  {
   "cell_type": "markdown",
   "metadata": {},
   "source": [
    "When using Manual Search, we choose some model hyperparameters based on our judgment/experience. We then train the model, evaluate its accuracy and start the process again. This loop is repeated until a satisficatory accuracy is scored."
   ]
  },
  {
   "cell_type": "markdown",
   "metadata": {},
   "source": [
    "The main parameters used by a Random Forest Classifier are:\n",
    "- criterion = the function used to evaluate the quality of a split.\n",
    "- max_depth = maximum number of levels allowed in each tree.\n",
    "- max_features = maximum number of features considered when splitting a node.\n",
    "- min_samples_leaf = minimum number of samples which can be stored in a tree leaf.\n",
    "- min_samples_split = minimum number of samples necessary in a node to cause node splitting.\n",
    "- n_estimators = number of trees in the ensamble."
   ]
  },
  {
   "cell_type": "code",
   "execution_count": 17,
   "metadata": {},
   "outputs": [
    {
     "name": "stdout",
     "output_type": "stream",
     "text": [
      "[[110   6]\n",
      " [  6 118]]\n",
      "              precision    recall  f1-score   support\n",
      "\n",
      "           0       0.95      0.95      0.95       116\n",
      "           1       0.95      0.95      0.95       124\n",
      "\n",
      "    accuracy                           0.95       240\n",
      "   macro avg       0.95      0.95      0.95       240\n",
      "weighted avg       0.95      0.95      0.95       240\n",
      "\n"
     ]
    }
   ],
   "source": [
    "model = RandomForestClassifier(n_estimators=10, random_state= 101).fit(X_Train,Y_Train)\n",
    "predictionforest = model.predict(X_Test)\n",
    "print(confusion_matrix(Y_Test,predictionforest))\n",
    "print(classification_report(Y_Test,predictionforest))\n",
    "acc2 = accuracy_score(Y_Test,predictionforest)"
   ]
  },
  {
   "cell_type": "code",
   "execution_count": 18,
   "metadata": {},
   "outputs": [
    {
     "name": "stdout",
     "output_type": "stream",
     "text": [
      "[[114   2]\n",
      " [ 13 111]]\n",
      "              precision    recall  f1-score   support\n",
      "\n",
      "           0       0.90      0.98      0.94       116\n",
      "           1       0.98      0.90      0.94       124\n",
      "\n",
      "    accuracy                           0.94       240\n",
      "   macro avg       0.94      0.94      0.94       240\n",
      "weighted avg       0.94      0.94      0.94       240\n",
      "\n"
     ]
    }
   ],
   "source": [
    "model = RandomForestClassifier(n_estimators= 200, max_features = \"log2\", min_samples_leaf = 20,\n",
    "                               random_state= 101).fit(X_Train,Y_Train)\n",
    "predictionforest = model.predict(X_Test)\n",
    "print(confusion_matrix(Y_Test,predictionforest))\n",
    "print(classification_report(Y_Test,predictionforest))"
   ]
  },
  {
   "cell_type": "markdown",
   "metadata": {},
   "source": [
    "## Random Search"
   ]
  },
  {
   "cell_type": "markdown",
   "metadata": {},
   "source": [
    "In Random Search, we create a grid of hyperparameters and train/test our model on just some random combination of these hyperparameters."
   ]
  },
  {
   "cell_type": "markdown",
   "metadata": {},
   "source": [
    "#### Simple Random Search with Data Visualization"
   ]
  },
  {
   "cell_type": "markdown",
   "metadata": {},
   "source": [
    "(This same data visualization analysis can be easily repeated using Grid Search and changing the appropriate parameters)"
   ]
  },
  {
   "cell_type": "code",
   "execution_count": 19,
   "metadata": {},
   "outputs": [
    {
     "name": "stdout",
     "output_type": "stream",
     "text": [
      "{'max_features': ['auto', 'sqrt', 'log2', None], 'n_estimators': [151, 267, 384, 500, 617, 733, 850, 966, 1083, 1200]}\n"
     ]
    }
   ],
   "source": [
    "from sklearn.model_selection import RandomizedSearchCV\n",
    "\n",
    "random_search = {\n",
    "               'max_features': ['auto', 'sqrt','log2', None],\n",
    "               'n_estimators': list(np.linspace(151, 1200, 10, dtype = int))}\n",
    "\n",
    "print(random_search)"
   ]
  },
  {
   "cell_type": "markdown",
   "metadata": {},
   "source": [
    "In this example, I additionally decided to perform Cross-Validation on the training set. When performing Machine Learning tasks, we generally divide our dataset in training and test sets. This is done so that to test our model after having trained it to check it's performances when working with unseen data. When using Cross-Validation, we divide our training set in N other partitions to make sure our model is not overfitting our data. \n",
    "\n",
    "One of the most common used Cross-Validation methods is K-Fold Validation. In K-Fold, we divide our dataset in N partitions and then iteratively train our model using N-1 partitions and test it with the left-over partition (at each iteration we change the left-over partition). Once having trained N times our model we then average the training results obtained in each iteration to obtain our overall training performance results.\n",
    "\n",
    "![](http://ethen8181.github.io/machine-learning/model_selection/img/kfolds.png)"
   ]
  },
  {
   "cell_type": "markdown",
   "metadata": {},
   "source": [
    "Using Cross-Validation when implementing Hyperparameters optimization can be really important. In this way, we might avoid using some Hyperparameters which works really good on the training data but not so good with the test data. "
   ]
  },
  {
   "cell_type": "code",
   "execution_count": 20,
   "metadata": {},
   "outputs": [
    {
     "name": "stdout",
     "output_type": "stream",
     "text": [
      "Fitting 4 folds for each of 40 candidates, totalling 160 fits\n"
     ]
    },
    {
     "name": "stderr",
     "output_type": "stream",
     "text": [
      "/opt/conda/lib/python3.6/site-packages/sklearn/model_selection/_search.py:266: UserWarning: The total space of parameters 40 is smaller than n_iter=80. Running 40 iterations. For exhaustive searches, use GridSearchCV.\n",
      "  % (grid_size, self.n_iter, grid_size), UserWarning)\n",
      "[Parallel(n_jobs=-1)]: Using backend LokyBackend with 4 concurrent workers.\n",
      "[Parallel(n_jobs=-1)]: Done  10 tasks      | elapsed:    5.3s\n",
      "[Parallel(n_jobs=-1)]: Done  64 tasks      | elapsed:   30.1s\n",
      "[Parallel(n_jobs=-1)]: Done 160 out of 160 | elapsed:  1.4min finished\n"
     ]
    },
    {
     "data": {
      "text/plain": [
       "RandomizedSearchCV(cv=4, error_score='raise-deprecating',\n",
       "                   estimator=RandomForestClassifier(bootstrap=True,\n",
       "                                                    class_weight=None,\n",
       "                                                    criterion='gini',\n",
       "                                                    max_depth=None,\n",
       "                                                    max_features='auto',\n",
       "                                                    max_leaf_nodes=None,\n",
       "                                                    min_impurity_decrease=0.0,\n",
       "                                                    min_impurity_split=None,\n",
       "                                                    min_samples_leaf=1,\n",
       "                                                    min_samples_split=2,\n",
       "                                                    min_weight_fraction_leaf=0.0,\n",
       "                                                    n_estimators='warn',\n",
       "                                                    n_jobs=None,\n",
       "                                                    oob_score=False,\n",
       "                                                    random_state=None,\n",
       "                                                    verbose=0,\n",
       "                                                    warm_start=False),\n",
       "                   iid='warn', n_iter=80, n_jobs=-1,\n",
       "                   param_distributions={'max_features': ['auto', 'sqrt', 'log2',\n",
       "                                                         None],\n",
       "                                        'n_estimators': [151, 267, 384, 500,\n",
       "                                                         617, 733, 850, 966,\n",
       "                                                         1083, 1200]},\n",
       "                   pre_dispatch='2*n_jobs', random_state=101, refit=True,\n",
       "                   return_train_score=False, scoring=None, verbose=5)"
      ]
     },
     "execution_count": 20,
     "metadata": {},
     "output_type": "execute_result"
    }
   ],
   "source": [
    "clf = RandomForestClassifier()\n",
    "model = RandomizedSearchCV(estimator = clf, param_distributions = random_search, n_iter = 80, \n",
    "                               cv = 4, verbose= 5, random_state= 101, n_jobs = -1)\n",
    "model.fit(X_Train,Y_Train)"
   ]
  },
  {
   "cell_type": "code",
   "execution_count": 21,
   "metadata": {},
   "outputs": [
    {
     "data": {
      "text/plain": [
       "<matplotlib.axes._subplots.AxesSubplot at 0x7fbdff31d198>"
      ]
     },
     "execution_count": 21,
     "metadata": {},
     "output_type": "execute_result"
    },
    {
     "data": {
      "image/png": "[encoded data removed]",
      "text/plain": [
       "<Figure size 432x288 with 2 Axes>"
      ]
     },
     "metadata": {},
     "output_type": "display_data"
    }
   ],
   "source": [
    "table = pd.pivot_table(pd.DataFrame(model.cv_results_),\n",
    "    values='mean_test_score', index='param_n_estimators', columns='param_max_features')\n",
    "     \n",
    "sns.heatmap(table)"
   ]
  },
  {
   "cell_type": "markdown",
   "metadata": {},
   "source": [
    "Chaning evaluation metric from Accuracy to Area Under the Curve (AUC)."
   ]
  },
  {
   "cell_type": "code",
   "execution_count": 22,
   "metadata": {},
   "outputs": [
    {
     "name": "stderr",
     "output_type": "stream",
     "text": [
      "/opt/conda/lib/python3.6/site-packages/sklearn/model_selection/_search.py:266: UserWarning: The total space of parameters 40 is smaller than n_iter=80. Running 40 iterations. For exhaustive searches, use GridSearchCV.\n",
      "  % (grid_size, self.n_iter, grid_size), UserWarning)\n",
      "[Parallel(n_jobs=-1)]: Using backend LokyBackend with 4 concurrent workers.\n"
     ]
    },
    {
     "name": "stdout",
     "output_type": "stream",
     "text": [
      "Fitting 4 folds for each of 40 candidates, totalling 160 fits\n"
     ]
    },
    {
     "name": "stderr",
     "output_type": "stream",
     "text": [
      "[Parallel(n_jobs=-1)]: Done  10 tasks      | elapsed:    2.3s\n",
      "[Parallel(n_jobs=-1)]: Done  64 tasks      | elapsed:   27.5s\n",
      "[Parallel(n_jobs=-1)]: Done 160 out of 160 | elapsed:  1.3min finished\n"
     ]
    }
   ],
   "source": [
    "from sklearn.metrics import make_scorer\n",
    "from sklearn.metrics import roc_auc_score\n",
    "\n",
    "def auc_metric(true, pred):\n",
    "    auc_score = roc_auc_score(pred, true)    \n",
    "    return auc_score\n",
    "\n",
    "metric = make_scorer(auc_metric, greater_is_better=True)\n",
    "\n",
    "clf = RandomForestClassifier()\n",
    "model = RandomizedSearchCV(estimator = clf, param_distributions = random_search,  \n",
    "                               n_iter = 80, cv = 4, verbose= 5, random_state= 101, \n",
    "                               n_jobs = -1, scoring = metric)\n",
    "\n",
    "model.fit(X_Train,Y_Train)\n",
    "\n",
    "n_estimators, max_features = list(np.linspace(151, 1200, 10, dtype = int)), ['auto', 'sqrt','log2', None]\n",
    "\n",
    "res = model.cv_results_['mean_test_score'].reshape(len(n_estimators), len(max_features))"
   ]
  },
  {
   "cell_type": "code",
   "execution_count": 23,
   "metadata": {},
   "outputs": [
    {
     "data": {
      "text/plain": [
       "Text(0.5, 1.0, 'Using Area Under the Curve instead of Accuracy as evaluation metric')"
      ]
     },
     "execution_count": 23,
     "metadata": {},
     "output_type": "execute_result"
    },
    {
     "data": {
      "image/png": "[encoded data removed]",
      "text/plain": [
       "<Figure size 432x288 with 2 Axes>"
      ]
     },
     "metadata": {},
     "output_type": "display_data"
    }
   ],
   "source": [
    "table = pd.pivot_table(pd.DataFrame(model.cv_results_), \n",
    "                       values='mean_test_score', index='param_n_estimators', columns='param_max_features')\n",
    "     \n",
    "sns.heatmap(table)\n",
    "plt.title(\"Using Area Under the Curve instead of Accuracy as evaluation metric\")"
   ]
  },
  {
   "cell_type": "markdown",
   "metadata": {},
   "source": [
    "Visualizing how cross validation accuracy changes varying the number of estimators and maximum features."
   ]
  },
  {
   "cell_type": "code",
   "execution_count": 24,
   "metadata": {},
   "outputs": [
    {
     "name": "stderr",
     "output_type": "stream",
     "text": [
      "/opt/conda/lib/python3.6/site-packages/matplotlib/cbook/__init__.py:424: MatplotlibDeprecationWarning: \n",
      "Passing one of 'on', 'true', 'off', 'false' as a boolean is deprecated; use an actual boolean (True/False) instead.\n",
      "  warn_deprecated(\"2.2\", \"Passing one of 'on', 'true', 'off', 'false' as a \"\n"
     ]
    },
    {
     "data": {
      "image/png": "[encoded data removed]",
      "text/plain": [
       "<Figure size 800x640 with 1 Axes>"
      ]
     },
     "metadata": {},
     "output_type": "display_data"
    }
   ],
   "source": [
    "def search_plot(grid, param1, param2, name1, name2):\n",
    "\n",
    "    grid = grid.cv_results_\n",
    "    scores_mean = grid['mean_test_score']\n",
    "    scores_mean = np.array(scores_mean).reshape(len(param2),len(param1))\n",
    "\n",
    "    figure(num=None, figsize=(10, 8), dpi=80, facecolor='w', edgecolor='k')\n",
    "    for idx, val in enumerate(param2):\n",
    "        plt.plot(param1, scores_mean[idx,:], '-o', label= name2 + ': ' + str(val))\n",
    "\n",
    "    plt.title(\"Random Search Accuracy\", fontsize=15)\n",
    "    plt.xlabel(name1, fontsize=12)\n",
    "    plt.ylabel('Cross-Validation Average Accuracy', fontsize=12)\n",
    "    plt.legend(loc=\"best\", fontsize=12)\n",
    "    plt.grid('on')\n",
    "    \n",
    "search_plot(model, n_estimators, max_features, 'Estimators Number', 'Max Features')"
   ]
  },
  {
   "cell_type": "markdown",
   "metadata": {},
   "source": [
    "Visualizing how validation accuracy changes varying the estimators number (incorporating uncertainty in accuracy)."
   ]
  },
  {
   "cell_type": "code",
   "execution_count": 25,
   "metadata": {},
   "outputs": [],
   "source": [
    "# From: https://matthewbilyeu.com/blog/2019-02-05/validation-curve-plot-from-gridsearchcv-results\n",
    "import numbers\n",
    "\n",
    "def plot_grid_search_validation_curve(grid, param_to_vary, title='Validation Accuracy Curve', ylim=None,\n",
    "                                      xlim=None, log=None):\n",
    "\n",
    "    df_cv_results = pd.DataFrame(grid.cv_results_)\n",
    "    valid_scores_mean = df_cv_results['mean_test_score']\n",
    "    valid_scores_std = df_cv_results['std_test_score']\n",
    "\n",
    "    param_cols = [c for c in df_cv_results.columns if c[:6] == 'param_']\n",
    "    param_ranges = [grid.param_distributions[p[6:]] for p in param_cols]\n",
    "    param_ranges_lengths = [len(pr) for pr in param_ranges]\n",
    "\n",
    "    valid_scores_mean = np.array(valid_scores_mean).reshape(*param_ranges_lengths)\n",
    "    valid_scores_std = np.array(valid_scores_std).reshape(*param_ranges_lengths)\n",
    "\n",
    "    param_to_vary_idx = param_cols.index('param_{}'.format(param_to_vary))\n",
    "\n",
    "    slices = []\n",
    "    for idx, param in enumerate(grid.best_params_):\n",
    "        if (idx == param_to_vary_idx):\n",
    "            slices.append(slice(None))\n",
    "            continue\n",
    "        best_param_val = grid.best_params_[param]\n",
    "        idx_of_best_param = 0\n",
    "        if isinstance(param_ranges[idx], np.ndarray):\n",
    "            idx_of_best_param = param_ranges[idx].tolist().index(best_param_val)\n",
    "        else:\n",
    "            idx_of_best_param = param_ranges[idx].index(best_param_val)\n",
    "        slices.append(idx_of_best_param)\n",
    "\n",
    "    valid_scores_mean = valid_scores_mean[tuple(slices)]\n",
    "    valid_scores_std = valid_scores_std[tuple(slices)]\n",
    "\n",
    "    plt.clf()\n",
    "    plt.title(title)\n",
    "    plt.xlabel(param_to_vary)\n",
    "    plt.ylabel('Score')\n",
    "\n",
    "    if (ylim is None):\n",
    "        plt.ylim(0.0, 1.1)\n",
    "    else:\n",
    "        plt.ylim(*ylim)\n",
    "    if (not (xlim is None)):\n",
    "        plt.xlim(*xlim)\n",
    "        \n",
    "    lw = 2\n",
    "    plot_fn = plt.plot\n",
    "    if log:\n",
    "        plot_fn = plt.semilogx\n",
    "\n",
    "    param_range = param_ranges[param_to_vary_idx]\n",
    "    if (not isinstance(param_range[0], numbers.Number)):\n",
    "        param_range = [str(x) for x in param_range]\n",
    "    plot_fn(param_range, valid_scores_mean, label='Cross-Validation Accuracy',\n",
    "            color='b', lw=lw)\n",
    "    plt.fill_between(param_range, valid_scores_mean - valid_scores_std,\n",
    "                     valid_scores_mean + valid_scores_std, alpha=0.1,\n",
    "                     color='b', lw=lw)\n",
    "    plt.legend(loc='lower right')\n",
    "    plt.show()"
   ]
  },
  {
   "cell_type": "code",
   "execution_count": 26,
   "metadata": {},
   "outputs": [
    {
     "data": {
      "image/png": "[encoded data removed]",
      "text/plain": [
       "<Figure size 432x288 with 1 Axes>"
      ]
     },
     "metadata": {},
     "output_type": "display_data"
    }
   ],
   "source": [
    "plot_grid_search_validation_curve(model, 'n_estimators', log=True, ylim=(.88, 1.02))"
   ]
  },
  {
   "cell_type": "markdown",
   "metadata": {},
   "source": [
    "#### Complete Random Search"
   ]
  },
  {
   "cell_type": "code",
   "execution_count": 27,
   "metadata": {},
   "outputs": [
    {
     "name": "stdout",
     "output_type": "stream",
     "text": [
      "Fitting 4 folds for each of 80 candidates, totalling 320 fits\n"
     ]
    },
    {
     "name": "stderr",
     "output_type": "stream",
     "text": [
      "[Parallel(n_jobs=-1)]: Using backend LokyBackend with 4 concurrent workers.\n",
      "[Parallel(n_jobs=-1)]: Done  10 tasks      | elapsed:    4.5s\n",
      "[Parallel(n_jobs=-1)]: Done  64 tasks      | elapsed:   28.8s\n",
      "[Parallel(n_jobs=-1)]: Done 154 tasks      | elapsed:  1.2min\n",
      "[Parallel(n_jobs=-1)]: Done 280 tasks      | elapsed:  2.3min\n",
      "[Parallel(n_jobs=-1)]: Done 320 out of 320 | elapsed:  2.7min finished\n"
     ]
    },
    {
     "data": {
      "text/plain": [
       "{'n_estimators': 500,\n",
       " 'min_samples_split': 7,\n",
       " 'min_samples_leaf': 4,\n",
       " 'max_features': 'log2',\n",
       " 'max_depth': 142,\n",
       " 'criterion': 'entropy'}"
      ]
     },
     "execution_count": 27,
     "metadata": {},
     "output_type": "execute_result"
    }
   ],
   "source": [
    "random_search = {'criterion': ['entropy', 'gini'],\n",
    "               'max_depth': list(np.linspace(10, 1200, 10, dtype = int)) + [None],\n",
    "               'max_features': ['auto', 'sqrt','log2', None],\n",
    "               'min_samples_leaf': [4, 6, 8, 12],\n",
    "               'min_samples_split': [5, 7, 10, 14],\n",
    "               'n_estimators': list(np.linspace(151, 1200, 10, dtype = int))}\n",
    "\n",
    "clf = RandomForestClassifier()\n",
    "model = RandomizedSearchCV(estimator = clf, param_distributions = random_search, n_iter = 80, \n",
    "                               cv = 4, verbose= 5, random_state= 101, n_jobs = -1)\n",
    "model.fit(X_Train,Y_Train)\n",
    "\n",
    "model.best_params_"
   ]
  },
  {
   "cell_type": "code",
   "execution_count": 28,
   "metadata": {},
   "outputs": [
    {
     "data": {
      "text/plain": [
       "<matplotlib.axes._subplots.AxesSubplot at 0x7fbded5a85c0>"
      ]
     },
     "execution_count": 28,
     "metadata": {},
     "output_type": "execute_result"
    },
    {
     "data": {
      "image/png": "[encoded data removed]",
      "text/plain": [
       "<Figure size 432x288 with 2 Axes>"
      ]
     },
     "metadata": {},
     "output_type": "display_data"
    }
   ],
   "source": [
    "table = pd.pivot_table(pd.DataFrame(model.cv_results_),\n",
    "    values='mean_test_score', index='param_max_depth', columns='param_min_samples_split')\n",
    "     \n",
    "sns.heatmap(table)"
   ]
  },
  {
   "cell_type": "code",
   "execution_count": 29,
   "metadata": {},
   "outputs": [
    {
     "data": {
      "text/plain": [
       "<matplotlib.axes._subplots.AxesSubplot at 0x7fbded3560b8>"
      ]
     },
     "execution_count": 29,
     "metadata": {},
     "output_type": "execute_result"
    },
    {
     "data": {
      "image/png": "[encoded data removed]",
      "text/plain": [
       "<Figure size 432x288 with 2 Axes>"
      ]
     },
     "metadata": {},
     "output_type": "display_data"
    }
   ],
   "source": [
    "table = pd.pivot_table(pd.DataFrame(model.cv_results_),\n",
    "    values='mean_test_score', index='param_max_depth', columns='param_min_samples_leaf')\n",
    "     \n",
    "sns.heatmap(table)"
   ]
  },
  {
   "cell_type": "code",
   "execution_count": 30,
   "metadata": {},
   "outputs": [
    {
     "data": {
      "text/plain": [
       "<matplotlib.axes._subplots.AxesSubplot at 0x7fbded2d5208>"
      ]
     },
     "execution_count": 30,
     "metadata": {},
     "output_type": "execute_result"
    },
    {
     "data": {
      "image/png": "[encoded data removed]",
      "text/plain": [
       "<Figure size 432x288 with 2 Axes>"
      ]
     },
     "metadata": {},
     "output_type": "display_data"
    }
   ],
   "source": [
    "table = pd.pivot_table(pd.DataFrame(model.cv_results_),\n",
    "    values='mean_test_score', index='param_n_estimators', columns='param_criterion')\n",
    "     \n",
    "sns.heatmap(table)"
   ]
  },
  {
   "cell_type": "code",
   "execution_count": 31,
   "metadata": {},
   "outputs": [
    {
     "name": "stdout",
     "output_type": "stream",
     "text": [
      "[[115   1]\n",
      " [  6 118]]\n",
      "              precision    recall  f1-score   support\n",
      "\n",
      "           0       0.95      0.99      0.97       116\n",
      "           1       0.99      0.95      0.97       124\n",
      "\n",
      "    accuracy                           0.97       240\n",
      "   macro avg       0.97      0.97      0.97       240\n",
      "weighted avg       0.97      0.97      0.97       240\n",
      "\n"
     ]
    }
   ],
   "source": [
    "predictionforest = model.best_estimator_.predict(X_Test)\n",
    "print(confusion_matrix(Y_Test,predictionforest))\n",
    "print(classification_report(Y_Test,predictionforest))\n",
    "acc3 = accuracy_score(Y_Test,predictionforest)"
   ]
  },
  {
   "cell_type": "markdown",
   "metadata": {},
   "source": [
    "#### Plotly Interactive Visualization"
   ]
  },
  {
   "cell_type": "markdown",
   "metadata": {},
   "source": [
    "This interactive data visualization was realised following Xoel López Barata\n",
    "guide: https://towardsdatascience.com/using-3d-visualizations-to-tune-hyperparameters-of-ml-models-with-python-ba2885eab2e9"
   ]
  },
  {
   "cell_type": "code",
   "execution_count": 32,
   "metadata": {},
   "outputs": [
    {
     "data": {
      "text/html": [
       "<div>\n",
       "<style scoped>\n",
       "    .dataframe tbody tr th:only-of-type {\n",
       "        vertical-align: middle;\n",
       "    }\n",
       "\n",
       "    .dataframe tbody tr th {\n",
       "        vertical-align: top;\n",
       "    }\n",
       "\n",
       "    .dataframe thead th {\n",
       "        text-align: right;\n",
       "    }\n",
       "</style>\n",
       "<table border=\"1\" class=\"dataframe\">\n",
       "  <thead>\n",
       "    <tr style=\"text-align: right;\">\n",
       "      <th></th>\n",
       "      <th>mean_fit_time</th>\n",
       "      <th>std_fit_time</th>\n",
       "      <th>mean_score_time</th>\n",
       "      <th>std_score_time</th>\n",
       "      <th>param_n_estimators</th>\n",
       "      <th>param_min_samples_split</th>\n",
       "      <th>param_min_samples_leaf</th>\n",
       "      <th>param_max_features</th>\n",
       "      <th>param_max_depth</th>\n",
       "      <th>param_criterion</th>\n",
       "      <th>params</th>\n",
       "      <th>split0_test_score</th>\n",
       "      <th>split1_test_score</th>\n",
       "      <th>split2_test_score</th>\n",
       "      <th>split3_test_score</th>\n",
       "      <th>mean_test_score</th>\n",
       "      <th>std_test_score</th>\n",
       "      <th>rank_test_score</th>\n",
       "    </tr>\n",
       "  </thead>\n",
       "  <tbody>\n",
       "    <tr>\n",
       "      <th>0</th>\n",
       "      <td>0.707879</td>\n",
       "      <td>0.005801</td>\n",
       "      <td>0.037025</td>\n",
       "      <td>0.001669</td>\n",
       "      <td>267.0</td>\n",
       "      <td>14.0</td>\n",
       "      <td>4.0</td>\n",
       "      <td>log2</td>\n",
       "      <td>1200</td>\n",
       "      <td>gini</td>\n",
       "      <td>{'n_estimators': 267, 'min_samples_split': 14,...</td>\n",
       "      <td>0.928571</td>\n",
       "      <td>0.942857</td>\n",
       "      <td>0.914286</td>\n",
       "      <td>0.928571</td>\n",
       "      <td>0.928571</td>\n",
       "      <td>0.010102</td>\n",
       "      <td>61</td>\n",
       "    </tr>\n",
       "    <tr>\n",
       "      <th>1</th>\n",
       "      <td>2.803975</td>\n",
       "      <td>0.018831</td>\n",
       "      <td>0.124854</td>\n",
       "      <td>0.005802</td>\n",
       "      <td>966.0</td>\n",
       "      <td>10.0</td>\n",
       "      <td>8.0</td>\n",
       "      <td>sqrt</td>\n",
       "      <td>274</td>\n",
       "      <td>entropy</td>\n",
       "      <td>{'n_estimators': 966, 'min_samples_split': 10,...</td>\n",
       "      <td>0.921429</td>\n",
       "      <td>0.957143</td>\n",
       "      <td>0.921429</td>\n",
       "      <td>0.935714</td>\n",
       "      <td>0.933929</td>\n",
       "      <td>0.014617</td>\n",
       "      <td>14</td>\n",
       "    </tr>\n",
       "    <tr>\n",
       "      <th>2</th>\n",
       "      <td>0.790679</td>\n",
       "      <td>0.019953</td>\n",
       "      <td>0.037929</td>\n",
       "      <td>0.002827</td>\n",
       "      <td>267.0</td>\n",
       "      <td>5.0</td>\n",
       "      <td>8.0</td>\n",
       "      <td>auto</td>\n",
       "      <td>274</td>\n",
       "      <td>entropy</td>\n",
       "      <td>{'n_estimators': 267, 'min_samples_split': 5, ...</td>\n",
       "      <td>0.928571</td>\n",
       "      <td>0.957143</td>\n",
       "      <td>0.921429</td>\n",
       "      <td>0.935714</td>\n",
       "      <td>0.935714</td>\n",
       "      <td>0.013363</td>\n",
       "      <td>6</td>\n",
       "    </tr>\n",
       "    <tr>\n",
       "      <th>3</th>\n",
       "      <td>2.288275</td>\n",
       "      <td>0.035759</td>\n",
       "      <td>0.114665</td>\n",
       "      <td>0.004402</td>\n",
       "      <td>850.0</td>\n",
       "      <td>5.0</td>\n",
       "      <td>4.0</td>\n",
       "      <td>log2</td>\n",
       "      <td>142</td>\n",
       "      <td>gini</td>\n",
       "      <td>{'n_estimators': 850, 'min_samples_split': 5, ...</td>\n",
       "      <td>0.928571</td>\n",
       "      <td>0.950000</td>\n",
       "      <td>0.928571</td>\n",
       "      <td>0.928571</td>\n",
       "      <td>0.933929</td>\n",
       "      <td>0.009279</td>\n",
       "      <td>14</td>\n",
       "    </tr>\n",
       "    <tr>\n",
       "      <th>4</th>\n",
       "      <td>2.463521</td>\n",
       "      <td>0.052918</td>\n",
       "      <td>0.089374</td>\n",
       "      <td>0.005642</td>\n",
       "      <td>733.0</td>\n",
       "      <td>7.0</td>\n",
       "      <td>8.0</td>\n",
       "      <td>None</td>\n",
       "      <td>1067</td>\n",
       "      <td>entropy</td>\n",
       "      <td>{'n_estimators': 733, 'min_samples_split': 7, ...</td>\n",
       "      <td>0.907143</td>\n",
       "      <td>0.957143</td>\n",
       "      <td>0.928571</td>\n",
       "      <td>0.928571</td>\n",
       "      <td>0.930357</td>\n",
       "      <td>0.017768</td>\n",
       "      <td>51</td>\n",
       "    </tr>\n",
       "  </tbody>\n",
       "</table>\n",
       "</div>"
      ],
      "text/plain": [
       "   mean_fit_time  std_fit_time  mean_score_time  std_score_time  \\\n",
       "0       0.707879      0.005801         0.037025        0.001669   \n",
       "1       2.803975      0.018831         0.124854        0.005802   \n",
       "2       0.790679      0.019953         0.037929        0.002827   \n",
       "3       2.288275      0.035759         0.114665        0.004402   \n",
       "4       2.463521      0.052918         0.089374        0.005642   \n",
       "\n",
       "   param_n_estimators  param_min_samples_split  param_min_samples_leaf  \\\n",
       "0               267.0                     14.0                     4.0   \n",
       "1               966.0                     10.0                     8.0   \n",
       "2               267.0                      5.0                     8.0   \n",
       "3               850.0                      5.0                     4.0   \n",
       "4               733.0                      7.0                     8.0   \n",
       "\n",
       "  param_max_features param_max_depth param_criterion  \\\n",
       "0               log2            1200            gini   \n",
       "1               sqrt             274         entropy   \n",
       "2               auto             274         entropy   \n",
       "3               log2             142            gini   \n",
       "4               None            1067         entropy   \n",
       "\n",
       "                                              params  split0_test_score  \\\n",
       "0  {'n_estimators': 267, 'min_samples_split': 14,...           0.928571   \n",
       "1  {'n_estimators': 966, 'min_samples_split': 10,...           0.921429   \n",
       "2  {'n_estimators': 267, 'min_samples_split': 5, ...           0.928571   \n",
       "3  {'n_estimators': 850, 'min_samples_split': 5, ...           0.928571   \n",
       "4  {'n_estimators': 733, 'min_samples_split': 7, ...           0.907143   \n",
       "\n",
       "   split1_test_score  split2_test_score  split3_test_score  mean_test_score  \\\n",
       "0           0.942857           0.914286           0.928571         0.928571   \n",
       "1           0.957143           0.921429           0.935714         0.933929   \n",
       "2           0.957143           0.921429           0.935714         0.935714   \n",
       "3           0.950000           0.928571           0.928571         0.933929   \n",
       "4           0.957143           0.928571           0.928571         0.930357   \n",
       "\n",
       "   std_test_score  rank_test_score  \n",
       "0        0.010102               61  \n",
       "1        0.014617               14  \n",
       "2        0.013363                6  \n",
       "3        0.009279               14  \n",
       "4        0.017768               51  "
      ]
     },
     "execution_count": 32,
     "metadata": {},
     "output_type": "execute_result"
    }
   ],
   "source": [
    "df = pd.DataFrame.from_dict(model.cv_results_)\n",
    "df['param_min_samples_leaf'] = df['param_min_samples_leaf'].astype(float)\n",
    "df['param_n_estimators'] = df['param_n_estimators'].astype(float)\n",
    "df['param_min_samples_split'] = df['param_min_samples_split'].astype(float)\n",
    "df['mean_fit_time'] = df['mean_fit_time'].astype(float)\n",
    "df['mean_test_score'] = df['mean_test_score'].astype(float)\n",
    "df.head()"
   ]
  },
  {
   "cell_type": "code",
   "execution_count": 33,
   "metadata": {},
   "outputs": [],
   "source": [
    "text = list(\n",
    "    zip(\n",
    "        'max_features: ' + df['param_max_features'].apply(str),\n",
    "        'n_estimators: ' + df['param_n_estimators'].apply(str),\n",
    "        'min_samples_split: ' + df['param_min_samples_split'].apply(str),\n",
    "        'Test score: ' + df['mean_test_score'].round(3).apply(str),\n",
    "        'Training time: ' + (df['mean_fit_time'] % 60).round(3).apply(str) + ' s',\n",
    "    )\n",
    ")\n",
    "\n",
    "hower_text = ['<br>'.join(i) for i in text]\n",
    "df['hover_text'] = hower_text"
   ]
  },
  {
   "cell_type": "code",
   "execution_count": null,
   "outputs": [],
   "source": [],
   "metadata": {
    "collapsed": false,
    "pycharm": {
     "name": "#%%\n"
    }
   }
  },
  {
   "cell_type": "code",
   "execution_count": 34,
   "metadata": {},
   "outputs": [
    {
     "data": {
      "application/vnd.jupyter.widget-view+json": {
       "model_id": "c081de3dd04e4990a5aceb649036b2ee",
       "version_major": 2,
       "version_minor": 0
      },
      "text/plain": [
       "VBox(children=(interactive(children=(FloatRangeSlider(value=(151.0, 1200.0), description='n_estimators', layou…"
      ]
     },
     "metadata": {},
     "output_type": "display_data"
    }
   ],
   "source": [
    "import plotly.graph_objs as go\n",
    "from ipywidgets import interactive, VBox, widgets, interact\n",
    "\n",
    "trace = go.Scatter3d(\n",
    "    x= df['param_n_estimators'],\n",
    "    y= df['param_min_samples_leaf'],\n",
    "    z= df['param_min_samples_split'],\n",
    "    mode='markers', \n",
    "    marker=dict(\n",
    "        size= 7,\n",
    "        color= df['mean_test_score'],\n",
    "        colorscale= 'Jet',\n",
    "        colorbar= dict(title = 'Cross-Validation Accuracy')\n",
    "    ),\n",
    "    text= df['hover_text'],\n",
    "    hoverinfo= 'text'\n",
    ")\n",
    "\n",
    "data = [trace]\n",
    "layout = go.Layout(\n",
    "    scene = dict(\n",
    "        camera = dict(\n",
    "            up=dict(x=0, y=0, z=1),\n",
    "            center=dict(x=0, y=0, z=0),\n",
    "            eye=dict(x=2, y=2, z=1.25)\n",
    "        ),\n",
    "        xaxis = dict(\n",
    "            title='n_estimators',\n",
    "            range=[min(df['param_n_estimators']), max(df['param_n_estimators'])]\n",
    "        ),\n",
    "        yaxis = dict(\n",
    "            title='min_leaf',\n",
    "            type='log'\n",
    "        ),\n",
    "        zaxis = dict(\n",
    "            title='min_split',\n",
    "            type='log'\n",
    "\n",
    "        ),\n",
    "    ),\n",
    ")\n",
    "\n",
    "fig = go.FigureWidget(data,layout)\n",
    "\n",
    "xmin, xmax = fig['layout']['scene']['xaxis']['range']\n",
    "\n",
    "slider = widgets.FloatRangeSlider(\n",
    "    value= fig.layout.scene.xaxis.range,\n",
    "    min= xmin,\n",
    "    max= xmax,\n",
    "    step= (xmax - xmin) / 50,\n",
    "    description= 'n_estimators')\n",
    "slider.layout.width = '700px'\n",
    "\n",
    "def update_range(y):\n",
    "    fig.layout.scene.xaxis.range = [y[0], y[1]]\n",
    "    \n",
    "box = VBox((interactive(update_range, y=slider), fig))\n",
    "box.layout.align_items = 'center'\n",
    "box"
   ]
  },
  {
   "cell_type": "code",
   "execution_count": 35,
   "metadata": {},
   "outputs": [
    {
     "data": {
      "application/vnd.jupyter.widget-view+json": {
       "model_id": "65c9385adad947a98e72cbb33f5f3c35",
       "version_major": 2,
       "version_minor": 0
      },
      "text/plain": [
       "FigureWidget({\n",
       "    'data': [{'hoverinfo': 'text',\n",
       "              'marker': {'color': array([0.92857143, 0.93392…"
      ]
     },
     "metadata": {},
     "output_type": "display_data"
    }
   ],
   "source": [
    "listn = list(set(df['param_n_estimators']))\n",
    "listn.sort()\n",
    "\n",
    "data = []\n",
    "for i, n in enumerate(listn):\n",
    "    filtered_df = df[df.param_n_estimators==n]\n",
    "    trace = [\n",
    "        go.Scatter3d(\n",
    "    x= filtered_df['param_n_estimators'],\n",
    "    y= filtered_df['param_min_samples_leaf'],\n",
    "    z= filtered_df['param_min_samples_split'],\n",
    "    mode='markers', \n",
    "    marker=dict(\n",
    "        size= 7,\n",
    "        color= df['mean_test_score'],\n",
    "        colorscale= 'Jet',\n",
    "        colorbar= dict(title = 'Cross-Validation Accuracy')\n",
    "    ),\n",
    "    text= filtered_df['hover_text'],\n",
    "    hoverinfo= 'text'\n",
    ")\n",
    "    ]\n",
    "    \n",
    "    data.append(trace[0])\n",
    "    data[i].showlegend=False\n",
    "\n",
    "steps = []\n",
    "for i, n in enumerate(listn):\n",
    "    step = dict(\n",
    "        method='restyle',\n",
    "        args = ['visible', [False] * len(data) * 2]\n",
    "    )\n",
    "    step['args'][1][i] = True # toggle i'th traces to 'visible'\n",
    "    step['label'] = str(n)\n",
    "    steps.append(step)\n",
    "\n",
    "\n",
    "\n",
    "sliders = [dict(\n",
    "    active = 4,\n",
    "    currentvalue = {\"prefix\": \"n_estimators: \"},\n",
    "    pad = {\"t\": 10, 'b': 20},\n",
    "    steps = steps,\n",
    "    len=.5,\n",
    "    xanchor = 'center',\n",
    "    x = 0.5\n",
    ")]\n",
    "\n",
    "layout = go.Layout(\n",
    "    title = \"Cross-Validation Accuracy Varying Hyperparameters\",\n",
    "    width=700,\n",
    "    height=600,\n",
    "    sliders = sliders,\n",
    "    scene = dict(\n",
    "        camera = dict(\n",
    "            up=dict(x=0, y=0, z=1),\n",
    "            center=dict(x=0, y=0, z=0),\n",
    "            eye=dict(x=2, y=2, z=1.25)\n",
    "        ),\n",
    "        xaxis = dict(\n",
    "            title='n_estimators',\n",
    "        ),\n",
    "        yaxis = dict(\n",
    "            title='min_leaf',\n",
    "            type='log'\n",
    "        ),\n",
    "        zaxis = dict(\n",
    "            title='min_split',\n",
    "            type='log'\n",
    "\n",
    "        ),\n",
    "    ),\n",
    ")\n",
    "\n",
    "\n",
    "fig = go.FigureWidget(data,layout)\n",
    "fig"
   ]
  },
  {
   "cell_type": "code",
   "execution_count": 36,
   "metadata": {},
   "outputs": [
    {
     "data": {
      "application/vnd.jupyter.widget-view+json": {
       "model_id": "2a3fdefd1ac64511b458a098c037a845",
       "version_major": 2,
       "version_minor": 0
      },
      "text/plain": [
       "FigureWidget({\n",
       "    'data': [{'hoverinfo': 'text',\n",
       "              'marker': {'color': array([0.92857143, 0.93392…"
      ]
     },
     "metadata": {},
     "output_type": "display_data"
    }
   ],
   "source": [
    "data = []\n",
    "for i, n in enumerate(listn):\n",
    "    filtered_df = df[df.param_n_estimators==n]\n",
    "    trace = [\n",
    "        go.Scatter3d(\n",
    "    x= filtered_df['param_n_estimators'],\n",
    "    y= filtered_df['param_min_samples_leaf'],\n",
    "    z= filtered_df['mean_test_score'],\n",
    "    mode='markers', \n",
    "    marker=dict(\n",
    "        size= 7,\n",
    "        color= df['mean_test_score'],\n",
    "        colorscale= 'Jet',\n",
    "    ),\n",
    "    text= filtered_df['hover_text'],\n",
    "    hoverinfo= 'text'\n",
    ")\n",
    "    ]\n",
    "    \n",
    "    data.append(trace[0])\n",
    "    data[i].showlegend=False\n",
    "\n",
    "steps = []\n",
    "for i, n in enumerate(listn):\n",
    "    step = dict(\n",
    "        method='restyle',\n",
    "        args = ['visible', [False] * len(data) * 2]\n",
    "    )\n",
    "    step['args'][1][i] = True # toggle i'th traces to 'visible'\n",
    "    step['label'] = str(n)\n",
    "    steps.append(step)\n",
    "\n",
    "\n",
    "\n",
    "sliders = [dict(\n",
    "    active = 4,\n",
    "    currentvalue = {\"prefix\": \"n_estimators: \"},\n",
    "    pad = {\"t\": 10, 'b': 20},\n",
    "    steps = steps,\n",
    "    len=.5,\n",
    "    xanchor = 'center',\n",
    "    x = 0.5\n",
    ")]\n",
    "\n",
    "layout = go.Layout(\n",
    "    title = \"Cross-Validation Accuracy Varying n_estimators and min_leaf\",\n",
    "    width=700,\n",
    "    height=600,\n",
    "    sliders = sliders,\n",
    "    scene = dict(\n",
    "        camera = dict(\n",
    "            up=dict(x=0, y=0, z=1),\n",
    "            center=dict(x=0, y=0, z=0),\n",
    "            eye=dict(x=2, y=2, z=1.25)\n",
    "        ),\n",
    "        xaxis = dict(\n",
    "            title='n_estimators',\n",
    "        ),\n",
    "        yaxis = dict(\n",
    "            title='min_leaf',\n",
    "            type='log'\n",
    "        ),\n",
    "        zaxis = dict(\n",
    "            title='accuracy',\n",
    "            type='log'\n",
    "\n",
    "        ),\n",
    "    ),\n",
    ")\n",
    "\n",
    "fig = go.FigureWidget(data,layout)\n",
    "fig"
   ]
  },
  {
   "cell_type": "markdown",
   "metadata": {},
   "source": [
    "## Grid Search"
   ]
  },
  {
   "cell_type": "markdown",
   "metadata": {},
   "source": [
    "In Grid Search, we set up a grid of hyperparameters and train/test our model on each of the possible combinations. \n"
   ]
  },
  {
   "cell_type": "markdown",
   "metadata": {},
   "source": [
    "In order to choose the parameters to use in Grid Search, we can try to run first Random Search to get an understanding of which values might perform best on the considered dataset."
   ]
  },
  {
   "cell_type": "code",
   "execution_count": 37,
   "metadata": {},
   "outputs": [
    {
     "name": "stdout",
     "output_type": "stream",
     "text": [
      "{'criterion': ['entropy'], 'max_depth': [142], 'max_features': ['log2'], 'min_samples_leaf': [2, 4, 6], 'min_samples_split': [4, 7, 10], 'n_estimators': [350, 400, 500, 600, 650]}\n"
     ]
    }
   ],
   "source": [
    "from sklearn.model_selection import GridSearchCV\n",
    "\n",
    "grid_search = {\n",
    "    'criterion': [model.best_params_['criterion']],\n",
    "    'max_depth': [model.best_params_['max_depth']],\n",
    "    'max_features': [model.best_params_['max_features']],\n",
    "    'min_samples_leaf': [model.best_params_['min_samples_leaf'] - 2, \n",
    "                         model.best_params_['min_samples_leaf'], \n",
    "                         model.best_params_['min_samples_leaf'] + 2],\n",
    "    'min_samples_split': [model.best_params_['min_samples_split'] - 3, \n",
    "                          model.best_params_['min_samples_split'], \n",
    "                          model.best_params_['min_samples_split'] + 3],\n",
    "    'n_estimators': [model.best_params_['n_estimators'] - 150, model.best_params_['n_estimators'] - 100, \n",
    "                     model.best_params_['n_estimators'], \n",
    "                     model.best_params_['n_estimators'] + 100, model.best_params_['n_estimators'] + 150]\n",
    "}\n",
    "\n",
    "print(grid_search)"
   ]
  },
  {
   "cell_type": "code",
   "execution_count": 38,
   "metadata": {},
   "outputs": [
    {
     "name": "stdout",
     "output_type": "stream",
     "text": [
      "Fitting 4 folds for each of 45 candidates, totalling 180 fits\n"
     ]
    },
    {
     "name": "stderr",
     "output_type": "stream",
     "text": [
      "[Parallel(n_jobs=-1)]: Using backend LokyBackend with 4 concurrent workers.\n",
      "[Parallel(n_jobs=-1)]: Done  10 tasks      | elapsed:    4.1s\n",
      "[Parallel(n_jobs=-1)]: Done  64 tasks      | elapsed:   26.4s\n",
      "[Parallel(n_jobs=-1)]: Done 154 tasks      | elapsed:  1.0min\n",
      "[Parallel(n_jobs=-1)]: Done 180 out of 180 | elapsed:  1.2min finished\n"
     ]
    },
    {
     "data": {
      "text/plain": [
       "GridSearchCV(cv=4, error_score='raise-deprecating',\n",
       "             estimator=RandomForestClassifier(bootstrap=True, class_weight=None,\n",
       "                                              criterion='gini', max_depth=None,\n",
       "                                              max_features='auto',\n",
       "                                              max_leaf_nodes=None,\n",
       "                                              min_impurity_decrease=0.0,\n",
       "                                              min_impurity_split=None,\n",
       "                                              min_samples_leaf=1,\n",
       "                                              min_samples_split=2,\n",
       "                                              min_weight_fraction_leaf=0.0,\n",
       "                                              n_estimators='warn', n_jobs=None,\n",
       "                                              oob_score=False,\n",
       "                                              random_state=None, verbose=0,\n",
       "                                              warm_start=False),\n",
       "             iid='warn', n_jobs=-1,\n",
       "             param_grid={'criterion': ['entropy'], 'max_depth': [142],\n",
       "                         'max_features': ['log2'],\n",
       "                         'min_samples_leaf': [2, 4, 6],\n",
       "                         'min_samples_split': [4, 7, 10],\n",
       "                         'n_estimators': [350, 400, 500, 600, 650]},\n",
       "             pre_dispatch='2*n_jobs', refit=True, return_train_score=False,\n",
       "             scoring=None, verbose=5)"
      ]
     },
     "execution_count": 38,
     "metadata": {},
     "output_type": "execute_result"
    }
   ],
   "source": [
    "clf = RandomForestClassifier()\n",
    "model = GridSearchCV(estimator = clf, param_grid = grid_search, \n",
    "                               cv = 4, verbose= 5, n_jobs = -1)\n",
    "model.fit(X_Train,Y_Train)"
   ]
  },
  {
   "cell_type": "code",
   "execution_count": 39,
   "metadata": {},
   "outputs": [
    {
     "data": {
      "text/plain": [
       "{'criterion': 'entropy',\n",
       " 'max_depth': 142,\n",
       " 'max_features': 'log2',\n",
       " 'min_samples_leaf': 2,\n",
       " 'min_samples_split': 10,\n",
       " 'n_estimators': 500}"
      ]
     },
     "execution_count": 39,
     "metadata": {},
     "output_type": "execute_result"
    }
   ],
   "source": [
    "model.best_params_"
   ]
  },
  {
   "cell_type": "code",
   "execution_count": 40,
   "metadata": {},
   "outputs": [
    {
     "name": "stdout",
     "output_type": "stream",
     "text": [
      "[[115   1]\n",
      " [  7 117]]\n",
      "              precision    recall  f1-score   support\n",
      "\n",
      "           0       0.94      0.99      0.97       116\n",
      "           1       0.99      0.94      0.97       124\n",
      "\n",
      "    accuracy                           0.97       240\n",
      "   macro avg       0.97      0.97      0.97       240\n",
      "weighted avg       0.97      0.97      0.97       240\n",
      "\n"
     ]
    }
   ],
   "source": [
    "predictionforest = model.best_estimator_.predict(X_Test)\n",
    "print(confusion_matrix(Y_Test,predictionforest))\n",
    "print(classification_report(Y_Test,predictionforest))\n",
    "acc4 = accuracy_score(Y_Test,predictionforest)"
   ]
  },
  {
   "cell_type": "markdown",
   "metadata": {},
   "source": [
    "Grid Search is slower compared to Random Search but can be more effective because it can go through the whole search space. Instead, Random Search can be faster fast, but might miss some important points in the search space."
   ]
  },
  {
   "cell_type": "markdown",
   "metadata": {},
   "source": [
    "## Automated Hyperparameter Tuning"
   ]
  },
  {
   "cell_type": "markdown",
   "metadata": {},
   "source": [
    "Using Automated Hyperparameter Tuning, the model hyperparameters to try are identified using techniques such as: Bayesian Optimization, Gradient Descent and Evolutionary Algorithms. "
   ]
  },
  {
   "cell_type": "markdown",
   "metadata": {},
   "source": [
    "### Bayesian Optimization"
   ]
  },
  {
   "cell_type": "markdown",
   "metadata": {},
   "source": [
    "Hyperopt is a Python library used to optimize Machine Learning models using Bayesian Optimization. Bayesian optimization uses probability to find the minimum of a function. The final aim is to find the input value to a function which can gives us the lowest possible output value. <br>\n",
    "\n",
    "Baysian optimization has been proved to be more efficient than random, grid or manual search. Bayesian Optimization can therefore lead to better performance in the testing phase and reduced optimization time."
   ]
  },
  {
   "cell_type": "markdown",
   "metadata": {},
   "source": [
    "In Hyperopt, Bayesian Optimization can be implemented giving 3 three main parameters to the function fmin. <br>\n",
    "\n",
    "- Objective Function = defines the loss function to minimize.\n",
    "- Domain Space = defines the range of input values to test (in Bayesian Optimization this space creates a probability distribution for each of the used Hyperparameters).\n",
    "- Optimization Algorithm = defines the search algorithm to use to select the best input values to use in each new iteration. \n",
    "\n",
    "Additionally, can also be defined in fmin the maximum number of evaluations to perform."
   ]
  },
  {
   "cell_type": "markdown",
   "metadata": {},
   "source": [
    "Bayesian Optimization can reduce the number of search iterations by choosing the input values bearing in mind the past outcomes. In this way, we can concentrate our search from the beginning on values which are closer to our desired output."
   ]
  },
  {
   "cell_type": "code",
   "execution_count": 41,
   "metadata": {},
   "outputs": [],
   "source": [
    "from hyperopt import hp, fmin, tpe, STATUS_OK, Trials\n",
    "from sklearn.metrics import accuracy_score"
   ]
  },
  {
   "cell_type": "code",
   "execution_count": 42,
   "metadata": {},
   "outputs": [],
   "source": [
    "space = {'criterion': hp.choice('criterion', ['entropy', 'gini']),\n",
    "        'max_depth': hp.quniform('max_depth', 10, 1200, 10),\n",
    "        'max_features': hp.choice('max_features', ['auto', 'sqrt','log2', None]),\n",
    "        'min_samples_leaf': hp.uniform ('min_samples_leaf', 0, 0.5),\n",
    "        'min_samples_split' : hp.uniform ('min_samples_split', 0, 1),\n",
    "        'n_estimators' : hp.choice('n_estimators', [10, 50, 300, 750, 1200])\n",
    "    }"
   ]
  },
  {
   "cell_type": "code",
   "execution_count": 43,
   "metadata": {},
   "outputs": [],
   "source": [
    "def objective(space):\n",
    "    model = RandomForestClassifier(criterion = space['criterion'], max_depth = space['max_depth'],\n",
    "                                 max_features = space['max_features'],\n",
    "                                 min_samples_leaf = space['min_samples_leaf'],\n",
    "                                 min_samples_split = space['min_samples_split'],\n",
    "                                 n_estimators = space['n_estimators'], \n",
    "                                 )\n",
    "    \n",
    "    accuracy = cross_val_score(model, X_Train, Y_Train, cv = 4).mean()\n",
    "\n",
    "    # We aim to maximize accuracy, therefore we return it as a negative value\n",
    "    return {'loss': -accuracy, 'status': STATUS_OK }"
   ]
  },
  {
   "cell_type": "markdown",
   "metadata": {},
   "source": [
    "We can now run our Bayesian Optimizer using the fmin() function. A Trials() object is first created to make possible later to visualize later what was going on while the fmin() function was running (eg. how the loss function was changing and how to used Hyperparameters were changing)."
   ]
  },
  {
   "cell_type": "code",
   "execution_count": 44,
   "metadata": {},
   "outputs": [
    {
     "name": "stdout",
     "output_type": "stream",
     "text": [
      "100%|██████████| 80/80 [03:07<00:00,  2.02s/it, best loss: -0.9339285714285713]\n"
     ]
    },
    {
     "data": {
      "text/plain": [
       "{'criterion': 1,\n",
       " 'max_depth': 120.0,\n",
       " 'max_features': 2,\n",
       " 'min_samples_leaf': 0.0006380325074247448,\n",
       " 'min_samples_split': 0.06603114636418073,\n",
       " 'n_estimators': 1}"
      ]
     },
     "execution_count": 44,
     "metadata": {},
     "output_type": "execute_result"
    }
   ],
   "source": [
    "trials = Trials()\n",
    "best = fmin(fn= objective,\n",
    "            space= space,\n",
    "            algo= tpe.suggest,\n",
    "            max_evals = 80,\n",
    "            trials= trials)\n",
    "best"
   ]
  },
  {
   "cell_type": "code",
   "execution_count": 45,
   "metadata": {},
   "outputs": [
    {
     "name": "stdout",
     "output_type": "stream",
     "text": [
      "0 criterion\n",
      "1 max_depth\n",
      "2 max_features\n",
      "3 min_samples_leaf\n",
      "4 min_samples_split\n",
      "5 n_estimators\n"
     ]
    },
    {
     "data": {
      "image/png": "[encoded data removed]",
      "text/plain": [
       "<Figure size 1080x720 with 6 Axes>"
      ]
     },
     "metadata": {},
     "output_type": "display_data"
    }
   ],
   "source": [
    "# From: https://medium.com/district-data-labs/parameter-tuning-with-hyperopt-faa86acdfdce\n",
    "parameters = ['criterion', 'max_depth', 'max_features', 'min_samples_leaf', 'min_samples_split',\n",
    "              'n_estimators']\n",
    "f, axes = plt.subplots(nrows=3, ncols=2, figsize=(15,10))\n",
    "f.tight_layout()\n",
    "cmap = plt.cm.jet\n",
    "for i, val in enumerate(parameters):\n",
    "    print(i, val)\n",
    "    xs = np.array([t['misc']['vals'][val] for t in trials.trials]).ravel()\n",
    "    ys = [-t['result']['loss'] for t in trials.trials]\n",
    "    xs, ys = zip(*sorted(zip(xs, ys)))\n",
    "    ys = np.array(ys)\n",
    "    axes[i//2,i%2].scatter(xs, ys, s=20, linewidth=0.01, alpha=0.5, c=cmap(float(i)/len(parameters)))\n",
    "    axes[i//2,i%2].set_title(val)"
   ]
  },
  {
   "cell_type": "code",
   "execution_count": 46,
   "metadata": {},
   "outputs": [
    {
     "name": "stdout",
     "output_type": "stream",
     "text": [
      "gini\n",
      "log2\n",
      "50\n"
     ]
    }
   ],
   "source": [
    "crit = {0: 'entropy', 1: 'gini'}\n",
    "feat = {0: 'auto', 1: 'sqrt', 2: 'log2', 3: None}\n",
    "est = {0: 10, 1: 50, 2: 300, 3: 750, 4: 1200}\n",
    "\n",
    "print(crit[best['criterion']])\n",
    "print(feat[best['max_features']])\n",
    "print(est[best['n_estimators']])"
   ]
  },
  {
   "cell_type": "code",
   "execution_count": 47,
   "metadata": {},
   "outputs": [
    {
     "name": "stdout",
     "output_type": "stream",
     "text": [
      "[[114   2]\n",
      " [ 11 113]]\n",
      "              precision    recall  f1-score   support\n",
      "\n",
      "           0       0.91      0.98      0.95       116\n",
      "           1       0.98      0.91      0.95       124\n",
      "\n",
      "    accuracy                           0.95       240\n",
      "   macro avg       0.95      0.95      0.95       240\n",
      "weighted avg       0.95      0.95      0.95       240\n",
      "\n"
     ]
    }
   ],
   "source": [
    "trainedforest = RandomForestClassifier(criterion = crit[best['criterion']], max_depth = best['max_depth'], \n",
    "                                       max_features = feat[best['max_features']], \n",
    "                                       min_samples_leaf = best['min_samples_leaf'], \n",
    "                                       min_samples_split = best['min_samples_split'], \n",
    "                                       n_estimators = est[best['n_estimators']]).fit(X_Train,Y_Train)\n",
    "predictionforest = trainedforest.predict(X_Test)\n",
    "print(confusion_matrix(Y_Test,predictionforest))\n",
    "print(classification_report(Y_Test,predictionforest))\n",
    "acc5 = accuracy_score(Y_Test,predictionforest)"
   ]
  },
  {
   "cell_type": "markdown",
   "metadata": {},
   "source": [
    "### Genetic Algorithms"
   ]
  },
  {
   "cell_type": "markdown",
   "metadata": {},
   "source": [
    "Genetic Algorithms tries to apply natural selection mechanisms to Machine Learning contexts. \n",
    "\n",
    "Let's immagine we create a population of N Machine Learning models with some predifined Hyperparameters. We can then calculate the accuracy of each model and decide to keep just half of the models (the ones that performs best). We can now generate some offsprings having similar Hyperparameters to the ones of the best models so that go get again a population of N models. At this point we can again caltulate the accuracy of each model and repeate the cycle for a defined number of generations. In this way, just the best models will survive at the end of the process."
   ]
  },
  {
   "cell_type": "code",
   "execution_count": 48,
   "metadata": {},
   "outputs": [],
   "source": [
    "parameters = {'criterion': ['entropy', 'gini'],\n",
    "               'max_depth': list(np.linspace(10, 1200, 10, dtype = int)) + [None],\n",
    "               'max_features': ['auto', 'sqrt','log2', None],\n",
    "               'min_samples_leaf': [4, 12],\n",
    "               'min_samples_split': [5, 10],\n",
    "               'n_estimators': list(np.linspace(151, 1200, 10, dtype = int))}"
   ]
  },
  {
   "cell_type": "code",
   "execution_count": 49,
   "metadata": {},
   "outputs": [
    {
     "data": {
      "application/vnd.jupyter.widget-view+json": {
       "model_id": "e137e74a5fbf44f5a344652df1758136",
       "version_major": 2,
       "version_minor": 0
      },
      "text/plain": [
       "HBox(children=(IntProgress(value=0, description='Optimization Progress', max=84, style=ProgressStyle(descripti…"
      ]
     },
     "metadata": {},
     "output_type": "display_data"
    },
    {
     "name": "stdout",
     "output_type": "stream",
     "text": [
      "Generation 1 - Current best internal CV score: 0.9392857142857143\n",
      "Generation 2 - Current best internal CV score: 0.9392857142857143\n",
      "Generation 3 - Current best internal CV score: 0.9392857142857143\n",
      "Generation 4 - Current best internal CV score: 0.9392857142857143\n",
      "Generation 5 - Current best internal CV score: 0.9392857142857143\n",
      "\r\n",
      "Best pipeline: RandomForestClassifier(CombineDFs(input_matrix, input_matrix), criterion=entropy, max_depth=406, max_features=log2, min_samples_leaf=4, min_samples_split=5, n_estimators=617)\n"
     ]
    },
    {
     "data": {
      "text/plain": [
       "TPOTClassifier(config_dict={'sklearn.ensemble.RandomForestClassifier': {'criterion': ['entropy',\n",
       "                                                                                      'gini'],\n",
       "                                                                        'max_depth': [10,\n",
       "                                                                                      142,\n",
       "                                                                                      274,\n",
       "                                                                                      406,\n",
       "                                                                                      538,\n",
       "                                                                                      671,\n",
       "                                                                                      803,\n",
       "                                                                                      935,\n",
       "                                                                                      1067,\n",
       "                                                                                      1200,\n",
       "                                                                                      None],\n",
       "                                                                        'max_features': ['auto',\n",
       "                                                                                         'sqrt',\n",
       "                                                                                         'log2',\n",
       "                                                                                         None],\n",
       "                                                                        'min_samples_leaf': [4,\n",
       "                                                                                             12],\n",
       "                                                                        'min_samples_split': [5,\n",
       "                                                                                              10],\n",
       "                                                                        'n_estimators': [151,\n",
       "                                                                                         267,\n",
       "                                                                                         384,\n",
       "                                                                                         500,\n",
       "                                                                                         617,\n",
       "                                                                                         733,\n",
       "                                                                                         850,\n",
       "                                                                                         966,\n",
       "                                                                                         1083,\n",
       "                                                                                         1200]}},\n",
       "               crossover_rate=0.1, cv=4, disable_update_check=False,\n",
       "               early_stop=12, generations=5, max_eval_time_mins=5,\n",
       "               max_time_mins=None, memory=None, mutation_rate=0.9, n_jobs=1,\n",
       "               offspring_size=12, periodic_checkpoint_folder=None,\n",
       "               population_size=24, random_state=None, scoring='accuracy',\n",
       "               subsample=1.0, template=None, use_dask=False, verbosity=2,\n",
       "               warm_start=False)"
      ]
     },
     "execution_count": 49,
     "metadata": {},
     "output_type": "execute_result"
    }
   ],
   "source": [
    "from tpot import TPOTClassifier\n",
    "from deap.gp import Primitive\n",
    "\n",
    "\n",
    "tpot_classifier = TPOTClassifier(generations= 5, population_size= 24, offspring_size= 12,\n",
    "                                 verbosity= 2, early_stop= 12,\n",
    "                                 config_dict={'sklearn.ensemble.RandomForestClassifier': parameters}, \n",
    "                                 cv = 4, scoring = 'accuracy')\n",
    "tpot_classifier.fit(X_Train,Y_Train)"
   ]
  },
  {
   "cell_type": "code",
   "execution_count": 50,
   "metadata": {},
   "outputs": [
    {
     "name": "stdout",
     "output_type": "stream",
     "text": [
      "0.9708333333333333\n"
     ]
    },
    {
     "name": "stderr",
     "output_type": "stream",
     "text": [
      "/opt/conda/lib/python3.6/site-packages/sklearn/preprocessing/_function_transformer.py:97: FutureWarning:\n",
      "\n",
      "The default validate=True will be replaced by validate=False in 0.22.\n",
      "\n",
      "/opt/conda/lib/python3.6/site-packages/sklearn/preprocessing/_function_transformer.py:97: FutureWarning:\n",
      "\n",
      "The default validate=True will be replaced by validate=False in 0.22.\n",
      "\n"
     ]
    }
   ],
   "source": [
    "acc6 = tpot_classifier.score(X_Test, Y_Test)\n",
    "print(acc6)"
   ]
  },
  {
   "cell_type": "code",
   "execution_count": 51,
   "metadata": {},
   "outputs": [],
   "source": [
    "# https://medium.com/cindicator/genetic-algorithms-and-hyperparameters-weekend-of-a-data-scientist-8f069669015e\n",
    "args = {}\n",
    "for arg in tpot_classifier._optimized_pipeline:\n",
    "    if type(arg) != Primitive:\n",
    "        try:\n",
    "            if arg.value.split('__')[1].split('=')[0] in ['criterion', 'max_depth', \n",
    "                                                          'max_features', 'min_samples_leaf', \n",
    "                                                          'min_samples_split',\n",
    "                                                          'n_estimators']:\n",
    "                args[arg.value.split('__')[1].split('=')[0]] = int(arg.value.split('__')[1].split('=')[1])\n",
    "            else:\n",
    "                args[arg.value.split('__')[1].split('=')[0]] = float(arg.value.split('__')[1].split('=')[1])\n",
    "        except:\n",
    "            pass\n",
    "params = args"
   ]
  },
  {
   "cell_type": "code",
   "execution_count": 52,
   "metadata": {},
   "outputs": [
    {
     "data": {
      "text/plain": [
       "{'max_depth': 406,\n",
       " 'min_samples_leaf': 4,\n",
       " 'min_samples_split': 5,\n",
       " 'n_estimators': 617}"
      ]
     },
     "execution_count": 52,
     "metadata": {},
     "output_type": "execute_result"
    }
   ],
   "source": [
    "params"
   ]
  },
  {
   "cell_type": "code",
   "execution_count": 53,
   "metadata": {},
   "outputs": [
    {
     "name": "stdout",
     "output_type": "stream",
     "text": [
      "[[115   1]\n",
      " [  7 117]]\n",
      "              precision    recall  f1-score   support\n",
      "\n",
      "           0       0.94      0.99      0.97       116\n",
      "           1       0.99      0.94      0.97       124\n",
      "\n",
      "    accuracy                           0.97       240\n",
      "   macro avg       0.97      0.97      0.97       240\n",
      "weighted avg       0.97      0.97      0.97       240\n",
      "\n"
     ]
    },
    {
     "data": {
      "text/plain": [
       "0.9666666666666667"
      ]
     },
     "execution_count": 53,
     "metadata": {},
     "output_type": "execute_result"
    }
   ],
   "source": [
    "model = RandomForestClassifier( max_depth = params['max_depth'],\n",
    "                             min_samples_leaf = params['min_samples_leaf'],\n",
    "                             min_samples_split = params['min_samples_split'],\n",
    "                             n_estimators = params['n_estimators'], \n",
    "                             )\n",
    "model.fit(X_Train,Y_Train)\n",
    "predictionforest = model.predict(X_Test)\n",
    "print(confusion_matrix(Y_Test,predictionforest))\n",
    "print(classification_report(Y_Test,predictionforest))\n",
    "accuracy_score(Y_Test,predictionforest)"
   ]
  },
  {
   "cell_type": "markdown",
   "metadata": {},
   "source": [
    "## Artificial Neural Networks (ANNs) Tuning"
   ]
  },
  {
   "cell_type": "markdown",
   "metadata": {},
   "source": [
    "Using KerasClassifier wrapper, it is possible to apply Grid Search and Random Search for Deep Learning models in the same way it was done when using Sklearn Machine Learning models. More examples are available here:\n",
    "- https://machinelearningmastery.com/grid-search-hyperparameters-deep-learning-models-python-keras/"
   ]
  },
  {
   "cell_type": "code",
   "execution_count": 54,
   "metadata": {},
   "outputs": [
    {
     "name": "stderr",
     "output_type": "stream",
     "text": [
      "Using TensorFlow backend.\n",
      "/opt/conda/lib/python3.6/site-packages/tensorflow/python/framework/dtypes.py:516: FutureWarning:\n",
      "\n",
      "Passing (type, 1) or '1type' as a synonym of type is deprecated; in a future version of numpy, it will be understood as (type, (1,)) / '(1,)type'.\n",
      "\n",
      "/opt/conda/lib/python3.6/site-packages/tensorflow/python/framework/dtypes.py:517: FutureWarning:\n",
      "\n",
      "Passing (type, 1) or '1type' as a synonym of type is deprecated; in a future version of numpy, it will be understood as (type, (1,)) / '(1,)type'.\n",
      "\n",
      "/opt/conda/lib/python3.6/site-packages/tensorflow/python/framework/dtypes.py:518: FutureWarning:\n",
      "\n",
      "Passing (type, 1) or '1type' as a synonym of type is deprecated; in a future version of numpy, it will be understood as (type, (1,)) / '(1,)type'.\n",
      "\n",
      "/opt/conda/lib/python3.6/site-packages/tensorflow/python/framework/dtypes.py:519: FutureWarning:\n",
      "\n",
      "Passing (type, 1) or '1type' as a synonym of type is deprecated; in a future version of numpy, it will be understood as (type, (1,)) / '(1,)type'.\n",
      "\n",
      "/opt/conda/lib/python3.6/site-packages/tensorflow/python/framework/dtypes.py:520: FutureWarning:\n",
      "\n",
      "Passing (type, 1) or '1type' as a synonym of type is deprecated; in a future version of numpy, it will be understood as (type, (1,)) / '(1,)type'.\n",
      "\n",
      "/opt/conda/lib/python3.6/site-packages/tensorflow/python/framework/dtypes.py:525: FutureWarning:\n",
      "\n",
      "Passing (type, 1) or '1type' as a synonym of type is deprecated; in a future version of numpy, it will be understood as (type, (1,)) / '(1,)type'.\n",
      "\n",
      "/opt/conda/lib/python3.6/site-packages/tensorboard/compat/tensorflow_stub/dtypes.py:541: FutureWarning:\n",
      "\n",
      "Passing (type, 1) or '1type' as a synonym of type is deprecated; in a future version of numpy, it will be understood as (type, (1,)) / '(1,)type'.\n",
      "\n",
      "/opt/conda/lib/python3.6/site-packages/tensorboard/compat/tensorflow_stub/dtypes.py:542: FutureWarning:\n",
      "\n",
      "Passing (type, 1) or '1type' as a synonym of type is deprecated; in a future version of numpy, it will be understood as (type, (1,)) / '(1,)type'.\n",
      "\n",
      "/opt/conda/lib/python3.6/site-packages/tensorboard/compat/tensorflow_stub/dtypes.py:543: FutureWarning:\n",
      "\n",
      "Passing (type, 1) or '1type' as a synonym of type is deprecated; in a future version of numpy, it will be understood as (type, (1,)) / '(1,)type'.\n",
      "\n",
      "/opt/conda/lib/python3.6/site-packages/tensorboard/compat/tensorflow_stub/dtypes.py:544: FutureWarning:\n",
      "\n",
      "Passing (type, 1) or '1type' as a synonym of type is deprecated; in a future version of numpy, it will be understood as (type, (1,)) / '(1,)type'.\n",
      "\n",
      "/opt/conda/lib/python3.6/site-packages/tensorboard/compat/tensorflow_stub/dtypes.py:545: FutureWarning:\n",
      "\n",
      "Passing (type, 1) or '1type' as a synonym of type is deprecated; in a future version of numpy, it will be understood as (type, (1,)) / '(1,)type'.\n",
      "\n",
      "/opt/conda/lib/python3.6/site-packages/tensorboard/compat/tensorflow_stub/dtypes.py:550: FutureWarning:\n",
      "\n",
      "Passing (type, 1) or '1type' as a synonym of type is deprecated; in a future version of numpy, it will be understood as (type, (1,)) / '(1,)type'.\n",
      "\n",
      "/opt/conda/lib/python3.6/site-packages/sklearn/model_selection/_split.py:1978: FutureWarning:\n",
      "\n",
      "The default value of cv will change from 3 to 5 in version 0.22. Specify it explicitly to silence this warning.\n",
      "\n",
      "/opt/conda/lib/python3.6/site-packages/joblib/externals/loky/process_executor.py:706: UserWarning:\n",
      "\n",
      "A worker stopped while some jobs were given to the executor. This can be caused by a too short worker timeout or by a memory leak.\n",
      "\n",
      "/opt/conda/lib/python3.6/site-packages/sklearn/model_selection/_search.py:814: DeprecationWarning:\n",
      "\n",
      "The default of the `iid` parameter will change from True to False in version 0.22 and will be removed in 0.24. This will change numeric results when test-set sizes are unequal.\n",
      "\n"
     ]
    },
    {
     "name": "stdout",
     "output_type": "stream",
     "text": [
      "Max Accuracy Registred: 0.932 using {'activation': 'relu', 'neurons': 35, 'optimizer': 'Adam'}\n",
      "Overall accuracy of 0.488 % using: {'activation': 'softmax', 'neurons': 5, 'optimizer': 'SGD'}\n",
      "Overall accuracy of 0.887 % using: {'activation': 'softmax', 'neurons': 5, 'optimizer': 'Adam'}\n",
      "Overall accuracy of 0.891 % using: {'activation': 'softmax', 'neurons': 5, 'optimizer': 'Adamax'}\n",
      "Overall accuracy of 0.455 % using: {'activation': 'softmax', 'neurons': 10, 'optimizer': 'SGD'}\n",
      "Overall accuracy of 0.887 % using: {'activation': 'softmax', 'neurons': 10, 'optimizer': 'Adam'}\n",
      "Overall accuracy of 0.879 % using: {'activation': 'softmax', 'neurons': 10, 'optimizer': 'Adamax'}\n",
      "Overall accuracy of 0.454 % using: {'activation': 'softmax', 'neurons': 15, 'optimizer': 'SGD'}\n",
      "Overall accuracy of 0.887 % using: {'activation': 'softmax', 'neurons': 15, 'optimizer': 'Adam'}\n",
      "Overall accuracy of 0.882 % using: {'activation': 'softmax', 'neurons': 15, 'optimizer': 'Adamax'}\n",
      "Overall accuracy of 0.459 % using: {'activation': 'softmax', 'neurons': 25, 'optimizer': 'SGD'}\n",
      "Overall accuracy of 0.891 % using: {'activation': 'softmax', 'neurons': 25, 'optimizer': 'Adam'}\n",
      "Overall accuracy of 0.882 % using: {'activation': 'softmax', 'neurons': 25, 'optimizer': 'Adamax'}\n",
      "Overall accuracy of 0.459 % using: {'activation': 'softmax', 'neurons': 35, 'optimizer': 'SGD'}\n",
      "Overall accuracy of 0.889 % using: {'activation': 'softmax', 'neurons': 35, 'optimizer': 'Adam'}\n",
      "Overall accuracy of 0.879 % using: {'activation': 'softmax', 'neurons': 35, 'optimizer': 'Adamax'}\n",
      "Overall accuracy of 0.459 % using: {'activation': 'softmax', 'neurons': 50, 'optimizer': 'SGD'}\n",
      "Overall accuracy of 0.887 % using: {'activation': 'softmax', 'neurons': 50, 'optimizer': 'Adam'}\n",
      "Overall accuracy of 0.88 % using: {'activation': 'softmax', 'neurons': 50, 'optimizer': 'Adamax'}\n",
      "Overall accuracy of 0.902 % using: {'activation': 'relu', 'neurons': 5, 'optimizer': 'SGD'}\n",
      "Overall accuracy of 0.898 % using: {'activation': 'relu', 'neurons': 5, 'optimizer': 'Adam'}\n",
      "Overall accuracy of 0.902 % using: {'activation': 'relu', 'neurons': 5, 'optimizer': 'Adamax'}\n",
      "Overall accuracy of 0.895 % using: {'activation': 'relu', 'neurons': 10, 'optimizer': 'SGD'}\n",
      "Overall accuracy of 0.923 % using: {'activation': 'relu', 'neurons': 10, 'optimizer': 'Adam'}\n",
      "Overall accuracy of 0.914 % using: {'activation': 'relu', 'neurons': 10, 'optimizer': 'Adamax'}\n",
      "Overall accuracy of 0.902 % using: {'activation': 'relu', 'neurons': 15, 'optimizer': 'SGD'}\n",
      "Overall accuracy of 0.921 % using: {'activation': 'relu', 'neurons': 15, 'optimizer': 'Adam'}\n",
      "Overall accuracy of 0.92 % using: {'activation': 'relu', 'neurons': 15, 'optimizer': 'Adamax'}\n",
      "Overall accuracy of 0.9 % using: {'activation': 'relu', 'neurons': 25, 'optimizer': 'SGD'}\n",
      "Overall accuracy of 0.929 % using: {'activation': 'relu', 'neurons': 25, 'optimizer': 'Adam'}\n",
      "Overall accuracy of 0.929 % using: {'activation': 'relu', 'neurons': 25, 'optimizer': 'Adamax'}\n",
      "Overall accuracy of 0.896 % using: {'activation': 'relu', 'neurons': 35, 'optimizer': 'SGD'}\n",
      "Overall accuracy of 0.932 % using: {'activation': 'relu', 'neurons': 35, 'optimizer': 'Adam'}\n",
      "Overall accuracy of 0.93 % using: {'activation': 'relu', 'neurons': 35, 'optimizer': 'Adamax'}\n",
      "Overall accuracy of 0.902 % using: {'activation': 'relu', 'neurons': 50, 'optimizer': 'SGD'}\n",
      "Overall accuracy of 0.93 % using: {'activation': 'relu', 'neurons': 50, 'optimizer': 'Adam'}\n",
      "Overall accuracy of 0.93 % using: {'activation': 'relu', 'neurons': 50, 'optimizer': 'Adamax'}\n",
      "Overall accuracy of 0.893 % using: {'activation': 'tanh', 'neurons': 5, 'optimizer': 'SGD'}\n",
      "Overall accuracy of 0.909 % using: {'activation': 'tanh', 'neurons': 5, 'optimizer': 'Adam'}\n",
      "Overall accuracy of 0.907 % using: {'activation': 'tanh', 'neurons': 5, 'optimizer': 'Adamax'}\n",
      "Overall accuracy of 0.905 % using: {'activation': 'tanh', 'neurons': 10, 'optimizer': 'SGD'}\n",
      "Overall accuracy of 0.923 % using: {'activation': 'tanh', 'neurons': 10, 'optimizer': 'Adam'}\n",
      "Overall accuracy of 0.921 % using: {'activation': 'tanh', 'neurons': 10, 'optimizer': 'Adamax'}\n",
      "Overall accuracy of 0.909 % using: {'activation': 'tanh', 'neurons': 15, 'optimizer': 'SGD'}\n",
      "Overall accuracy of 0.925 % using: {'activation': 'tanh', 'neurons': 15, 'optimizer': 'Adam'}\n",
      "Overall accuracy of 0.916 % using: {'activation': 'tanh', 'neurons': 15, 'optimizer': 'Adamax'}\n",
      "Overall accuracy of 0.905 % using: {'activation': 'tanh', 'neurons': 25, 'optimizer': 'SGD'}\n",
      "Overall accuracy of 0.925 % using: {'activation': 'tanh', 'neurons': 25, 'optimizer': 'Adam'}\n",
      "Overall accuracy of 0.927 % using: {'activation': 'tanh', 'neurons': 25, 'optimizer': 'Adamax'}\n",
      "Overall accuracy of 0.905 % using: {'activation': 'tanh', 'neurons': 35, 'optimizer': 'SGD'}\n",
      "Overall accuracy of 0.929 % using: {'activation': 'tanh', 'neurons': 35, 'optimizer': 'Adam'}\n",
      "Overall accuracy of 0.927 % using: {'activation': 'tanh', 'neurons': 35, 'optimizer': 'Adamax'}\n",
      "Overall accuracy of 0.907 % using: {'activation': 'tanh', 'neurons': 50, 'optimizer': 'SGD'}\n",
      "Overall accuracy of 0.925 % using: {'activation': 'tanh', 'neurons': 50, 'optimizer': 'Adam'}\n",
      "Overall accuracy of 0.927 % using: {'activation': 'tanh', 'neurons': 50, 'optimizer': 'Adamax'}\n",
      "Overall accuracy of 0.714 % using: {'activation': 'sigmoid', 'neurons': 5, 'optimizer': 'SGD'}\n",
      "Overall accuracy of 0.882 % using: {'activation': 'sigmoid', 'neurons': 5, 'optimizer': 'Adam'}\n",
      "Overall accuracy of 0.87 % using: {'activation': 'sigmoid', 'neurons': 5, 'optimizer': 'Adamax'}\n",
      "Overall accuracy of 0.63 % using: {'activation': 'sigmoid', 'neurons': 10, 'optimizer': 'SGD'}\n",
      "Overall accuracy of 0.893 % using: {'activation': 'sigmoid', 'neurons': 10, 'optimizer': 'Adam'}\n",
      "Overall accuracy of 0.891 % using: {'activation': 'sigmoid', 'neurons': 10, 'optimizer': 'Adamax'}\n",
      "Overall accuracy of 0.777 % using: {'activation': 'sigmoid', 'neurons': 15, 'optimizer': 'SGD'}\n",
      "Overall accuracy of 0.896 % using: {'activation': 'sigmoid', 'neurons': 15, 'optimizer': 'Adam'}\n",
      "Overall accuracy of 0.893 % using: {'activation': 'sigmoid', 'neurons': 15, 'optimizer': 'Adamax'}\n",
      "Overall accuracy of 0.825 % using: {'activation': 'sigmoid', 'neurons': 25, 'optimizer': 'SGD'}\n",
      "Overall accuracy of 0.898 % using: {'activation': 'sigmoid', 'neurons': 25, 'optimizer': 'Adam'}\n",
      "Overall accuracy of 0.898 % using: {'activation': 'sigmoid', 'neurons': 25, 'optimizer': 'Adamax'}\n",
      "Overall accuracy of 0.795 % using: {'activation': 'sigmoid', 'neurons': 35, 'optimizer': 'SGD'}\n",
      "Overall accuracy of 0.9 % using: {'activation': 'sigmoid', 'neurons': 35, 'optimizer': 'Adam'}\n",
      "Overall accuracy of 0.896 % using: {'activation': 'sigmoid', 'neurons': 35, 'optimizer': 'Adamax'}\n",
      "Overall accuracy of 0.705 % using: {'activation': 'sigmoid', 'neurons': 50, 'optimizer': 'SGD'}\n",
      "Overall accuracy of 0.909 % using: {'activation': 'sigmoid', 'neurons': 50, 'optimizer': 'Adam'}\n",
      "Overall accuracy of 0.902 % using: {'activation': 'sigmoid', 'neurons': 50, 'optimizer': 'Adamax'}\n",
      "Overall accuracy of 0.898 % using: {'activation': 'linear', 'neurons': 5, 'optimizer': 'SGD'}\n",
      "Overall accuracy of 0.914 % using: {'activation': 'linear', 'neurons': 5, 'optimizer': 'Adam'}\n",
      "Overall accuracy of 0.905 % using: {'activation': 'linear', 'neurons': 5, 'optimizer': 'Adamax'}\n",
      "Overall accuracy of 0.909 % using: {'activation': 'linear', 'neurons': 10, 'optimizer': 'SGD'}\n",
      "Overall accuracy of 0.923 % using: {'activation': 'linear', 'neurons': 10, 'optimizer': 'Adam'}\n",
      "Overall accuracy of 0.921 % using: {'activation': 'linear', 'neurons': 10, 'optimizer': 'Adamax'}\n",
      "Overall accuracy of 0.904 % using: {'activation': 'linear', 'neurons': 15, 'optimizer': 'SGD'}\n",
      "Overall accuracy of 0.925 % using: {'activation': 'linear', 'neurons': 15, 'optimizer': 'Adam'}\n",
      "Overall accuracy of 0.914 % using: {'activation': 'linear', 'neurons': 15, 'optimizer': 'Adamax'}\n",
      "Overall accuracy of 0.907 % using: {'activation': 'linear', 'neurons': 25, 'optimizer': 'SGD'}\n",
      "Overall accuracy of 0.923 % using: {'activation': 'linear', 'neurons': 25, 'optimizer': 'Adam'}\n",
      "Overall accuracy of 0.925 % using: {'activation': 'linear', 'neurons': 25, 'optimizer': 'Adamax'}\n",
      "Overall accuracy of 0.909 % using: {'activation': 'linear', 'neurons': 35, 'optimizer': 'SGD'}\n",
      "Overall accuracy of 0.925 % using: {'activation': 'linear', 'neurons': 35, 'optimizer': 'Adam'}\n",
      "Overall accuracy of 0.927 % using: {'activation': 'linear', 'neurons': 35, 'optimizer': 'Adamax'}\n",
      "Overall accuracy of 0.907 % using: {'activation': 'linear', 'neurons': 50, 'optimizer': 'SGD'}\n",
      "Overall accuracy of 0.927 % using: {'activation': 'linear', 'neurons': 50, 'optimizer': 'Adam'}\n",
      "Overall accuracy of 0.929 % using: {'activation': 'linear', 'neurons': 50, 'optimizer': 'Adamax'}\n"
     ]
    }
   ],
   "source": [
    "from keras.models import Sequential\n",
    "from keras.layers import Dense, Dropout\n",
    "from keras.wrappers.scikit_learn import KerasClassifier\n",
    "\n",
    "def DL_Model(activation= 'linear', neurons= 5, optimizer='Adam'):\n",
    "    model = Sequential()\n",
    "    model.add(Dense(neurons, input_dim= 4, activation= activation))\n",
    "    model.add(Dense(neurons, activation= activation))\n",
    "    model.add(Dropout(0.3))\n",
    "    model.add(Dense(1, activation='sigmoid'))\n",
    "    model.compile(loss='binary_crossentropy', optimizer= optimizer, metrics=['accuracy'])\n",
    "    return model\n",
    "\n",
    "# Definying grid parameters\n",
    "activation = ['softmax', 'relu', 'tanh', 'sigmoid', 'linear']\n",
    "neurons = [5, 10, 15, 25, 35, 50]\n",
    "optimizer = ['SGD', 'Adam', 'Adamax']\n",
    "param_grid = dict(activation = activation, neurons = neurons, optimizer = optimizer)\n",
    "\n",
    "clf = KerasClassifier(build_fn= DL_Model, epochs= 80, batch_size=40, verbose= 0)\n",
    "\n",
    "model = GridSearchCV(estimator= clf, param_grid=param_grid, n_jobs=-1)\n",
    "model.fit(X_Train,Y_Train)\n",
    "\n",
    "print(\"Max Accuracy Registred: {} using {}\".format(round(model.best_score_,3), model.best_params_))\n",
    "acc = model.cv_results_['mean_test_score']\n",
    "hyper = model.cv_results_['params']\n",
    "\n",
    "for mean, param in zip(acc, hyper):\n",
    "    print(\"Overall accuracy of {} % using: {}\".format(round(mean, 3), param))"
   ]
  },
  {
   "cell_type": "code",
   "execution_count": 55,
   "metadata": {},
   "outputs": [
    {
     "name": "stdout",
     "output_type": "stream",
     "text": [
      "[[115   1]\n",
      " [  8 116]]\n",
      "              precision    recall  f1-score   support\n",
      "\n",
      "           0       0.93      0.99      0.96       116\n",
      "           1       0.99      0.94      0.96       124\n",
      "\n",
      "    accuracy                           0.96       240\n",
      "   macro avg       0.96      0.96      0.96       240\n",
      "weighted avg       0.96      0.96      0.96       240\n",
      "\n"
     ]
    }
   ],
   "source": [
    "predictionforest = model.predict(X_Test)\n",
    "print(confusion_matrix(Y_Test,predictionforest))\n",
    "print(classification_report(Y_Test,predictionforest))\n",
    "acc7 = accuracy_score(Y_Test,predictionforest)"
   ]
  },
  {
   "cell_type": "markdown",
   "metadata": {},
   "source": [
    "## Comparison"
   ]
  },
  {
   "cell_type": "code",
   "execution_count": 56,
   "metadata": {},
   "outputs": [
    {
     "name": "stdout",
     "output_type": "stream",
     "text": [
      "Base Accuracy vs Manual Search 0.0000%.\n",
      "Base Accuracy vs Random Search 2.1930%.\n",
      "Base Accuracy vs Grid Search 1.7544%.\n",
      "Base Accuracy vs Bayesian Optimization Accuracy -0.4386%.\n",
      "Base Accuracy vs Evolutionary Algorithms 2.1930%.\n",
      "Base Accuracy vs Optimized ANN 1.3158%.\n"
     ]
    }
   ],
   "source": [
    "print('Base Accuracy vs Manual Search {:0.4f}%.'.format( 100 * (acc2 - acc1) / acc1))\n",
    "print('Base Accuracy vs Random Search {:0.4f}%.'.format( 100 * (acc3 - acc1) / acc1))\n",
    "print('Base Accuracy vs Grid Search {:0.4f}%.'.format( 100 * (acc4 - acc1) / acc1))\n",
    "print('Base Accuracy vs Bayesian Optimization Accuracy {:0.4f}%.'.format( 100 * (acc5 - acc1) / acc1))\n",
    "print('Base Accuracy vs Evolutionary Algorithms {:0.4f}%.'.format( 100 * (acc6 - acc1) / acc1))\n",
    "print('Base Accuracy vs Optimized ANN {:0.4f}%.'.format( 100 * (acc7 - acc1) / acc1))"
   ]
  }
 ],
 "metadata": {
  "kernelspec": {
   "display_name": "Python 3",
   "language": "python",
   "name": "python3"
  },
  "language_info": {
   "codemirror_mode": {
    "name": "ipython",
    "version": 3
   },
   "file_extension": ".py",
   "mimetype": "text/x-python",
   "name": "python",
   "nbconvert_exporter": "python",
   "pygments_lexer": "ipython3",
   "version": "3.6.6"
  },
  "widgets": {
   "application/vnd.jupyter.widget-state+json": {
    "state": {
     "2a3fdefd1ac64511b458a098c037a845": {
      "buffers": [
       {
        "data": "btu2bdu27T8svuIrvuLtPxZf8RVf8e0/LL7iK77i7T9YfMVXfMXtP1h8xVd8xe0/Qh3UQR3U7T9YfMVXfMXtPxZf8RVf8e0/6qAO6qAO7j8svuIrvuLtPwAAAAAAAO4/AAAAAAAA7j8svuIrvuLtP1h8xVd8xe0/Qh3UQR3U7T+EOqiDOqjtPyy+4iu+4u0/btu2bdu27T/FV3zFV3ztP7D4iq/4iu0/Qh3UQR3U7T8svuIrvuLtPyy+4iu+4u0/xVd8xVd87T/FV3zFV3ztP27btm3btu0/AAAAAAAA7j8svuIrvuLtPxZf8RVf8e0/LL7iK77i7T8WX/EVX/HtP1h8xVd8xe0/btu2bdu27T9CHdRBHdTtP27btm3btu0/Qh3UQR3U7T9u27Zt27btPyy+4iu+4u0/LL7iK77i7T8WX/EVX/HtP0Id1EEd1O0/btu2bdu27T9u27Zt27btP8VXfMVXfO0/WHzFV3zF7T8svuIrvuLtP0Id1EEd1O0/btu2bdu27T9YfMVXfMXtP0Id1EEd1O0/Fl/xFV/x7T8svuIrvuLtPyy+4iu+4u0/27Zt27Zt7T9YfMVXfMXtPwAAAAAAAO4/Qh3UQR3U7T9u27Zt27btPyy+4iu+4u0/LL7iK77i7T9CHdRBHdTtPyy+4iu+4u0/Qh3UQR3U7T9CHdRBHdTtP27btm3btu0/Qh3UQR3U7T9CHdRBHdTtP1h8xVd8xe0/Fl/xFV/x7T8svuIrvuLtP1h8xVd8xe0/Fl/xFV/x7T/FV3zFV3ztP0Id1EEd1O0/Qh3UQR3U7T9CHdRBHdTtP27btm3btu0/LL7iK77i7T9CHdRBHdTtPw==",
        "encoding": "base64",
        "path": [
         "_data",
         0,
         "marker",
         "color",
         "buffer"
        ]
       },
       {
        "data": "AAAAAADgYkAAAAAAAOBiQAAAAAAA4GJAAAAAAADgYkAAAAAAAOBiQAAAAAAA4GJA",
        "encoding": "base64",
        "path": [
         "_data",
         0,
         "x",
         "buffer"
        ]
       },
       {
        "data": "AAAAAAAAGEAAAAAAAAAYQAAAAAAAAChAAAAAAAAAEEAAAAAAAAAoQAAAAAAAACBA",
        "encoding": "base64",
        "path": [
         "_data",
         0,
         "y",
         "buffer"
        ]
       },
       {
        "data": "Qh3UQR3U7T+EOqiDOqjtP7D4iq/4iu0/Qh3UQR3U7T9CHdRBHdTtP0Id1EEd1O0/",
        "encoding": "base64",
        "path": [
         "_data",
         0,
         "z",
         "buffer"
        ]
       },
       {
        "data": "btu2bdu27T8svuIrvuLtPxZf8RVf8e0/LL7iK77i7T9YfMVXfMXtP1h8xVd8xe0/Qh3UQR3U7T9YfMVXfMXtPxZf8RVf8e0/6qAO6qAO7j8svuIrvuLtPwAAAAAAAO4/AAAAAAAA7j8svuIrvuLtP1h8xVd8xe0/Qh3UQR3U7T+EOqiDOqjtPyy+4iu+4u0/btu2bdu27T/FV3zFV3ztP7D4iq/4iu0/Qh3UQR3U7T8svuIrvuLtPyy+4iu+4u0/xVd8xVd87T/FV3zFV3ztP27btm3btu0/AAAAAAAA7j8svuIrvuLtPxZf8RVf8e0/LL7iK77i7T8WX/EVX/HtP1h8xVd8xe0/btu2bdu27T9CHdRBHdTtP27btm3btu0/Qh3UQR3U7T9u27Zt27btPyy+4iu+4u0/LL7iK77i7T8WX/EVX/HtP0Id1EEd1O0/btu2bdu27T9u27Zt27btP8VXfMVXfO0/WHzFV3zF7T8svuIrvuLtP0Id1EEd1O0/btu2bdu27T9YfMVXfMXtP0Id1EEd1O0/Fl/xFV/x7T8svuIrvuLtPyy+4iu+4u0/27Zt27Zt7T9YfMVXfMXtPwAAAAAAAO4/Qh3UQR3U7T9u27Zt27btPyy+4iu+4u0/LL7iK77i7T9CHdRBHdTtPyy+4iu+4u0/Qh3UQR3U7T9CHdRBHdTtP27btm3btu0/Qh3UQR3U7T9CHdRBHdTtP1h8xVd8xe0/Fl/xFV/x7T8svuIrvuLtP1h8xVd8xe0/Fl/xFV/x7T/FV3zFV3ztP0Id1EEd1O0/Qh3UQR3U7T9CHdRBHdTtP27btm3btu0/LL7iK77i7T9CHdRBHdTtPw==",
        "encoding": "base64",
        "path": [
         "_data",
         1,
         "marker",
         "color",
         "buffer"
        ]
       },
       {
        "data": "AAAAAACwcEAAAAAAALBwQAAAAAAAsHBAAAAAAACwcEAAAAAAALBwQAAAAAAAsHBAAAAAAACwcEAAAAAAALBwQAAAAAAAsHBAAAAAAACwcEAAAAAAALBwQAAAAAAAsHBA",
        "encoding": "base64",
        "path": [
         "_data",
         1,
         "x",
         "buffer"
        ]
       },
       {
        "data": "AAAAAAAAEEAAAAAAAAAgQAAAAAAAABhAAAAAAAAAEEAAAAAAAAAgQAAAAAAAABhAAAAAAAAAEEAAAAAAAAAYQAAAAAAAAChAAAAAAAAAGEAAAAAAAAAYQAAAAAAAABBA",
        "encoding": "base64",
        "path": [
         "_data",
         1,
         "y",
         "buffer"
        ]
       },
       {
        "data": "btu2bdu27T8WX/EVX/HtP0Id1EEd1O0/WHzFV3zF7T8svuIrvuLtPyy+4iu+4u0/LL7iK77i7T9u27Zt27btP27btm3btu0/Qh3UQR3U7T9CHdRBHdTtPxZf8RVf8e0/",
        "encoding": "base64",
        "path": [
         "_data",
         1,
         "z",
         "buffer"
        ]
       },
       {
        "data": "btu2bdu27T8svuIrvuLtPxZf8RVf8e0/LL7iK77i7T9YfMVXfMXtP1h8xVd8xe0/Qh3UQR3U7T9YfMVXfMXtPxZf8RVf8e0/6qAO6qAO7j8svuIrvuLtPwAAAAAAAO4/AAAAAAAA7j8svuIrvuLtP1h8xVd8xe0/Qh3UQR3U7T+EOqiDOqjtPyy+4iu+4u0/btu2bdu27T/FV3zFV3ztP7D4iq/4iu0/Qh3UQR3U7T8svuIrvuLtPyy+4iu+4u0/xVd8xVd87T/FV3zFV3ztP27btm3btu0/AAAAAAAA7j8svuIrvuLtPxZf8RVf8e0/LL7iK77i7T8WX/EVX/HtP1h8xVd8xe0/btu2bdu27T9CHdRBHdTtP27btm3btu0/Qh3UQR3U7T9u27Zt27btPyy+4iu+4u0/LL7iK77i7T8WX/EVX/HtP0Id1EEd1O0/btu2bdu27T9u27Zt27btP8VXfMVXfO0/WHzFV3zF7T8svuIrvuLtP0Id1EEd1O0/btu2bdu27T9YfMVXfMXtP0Id1EEd1O0/Fl/xFV/x7T8svuIrvuLtPyy+4iu+4u0/27Zt27Zt7T9YfMVXfMXtPwAAAAAAAO4/Qh3UQR3U7T9u27Zt27btPyy+4iu+4u0/LL7iK77i7T9CHdRBHdTtPyy+4iu+4u0/Qh3UQR3U7T9CHdRBHdTtP27btm3btu0/Qh3UQR3U7T9CHdRBHdTtP1h8xVd8xe0/Fl/xFV/x7T8svuIrvuLtP1h8xVd8xe0/Fl/xFV/x7T/FV3zFV3ztP0Id1EEd1O0/Qh3UQR3U7T9CHdRBHdTtP27btm3btu0/LL7iK77i7T9CHdRBHdTtPw==",
        "encoding": "base64",
        "path": [
         "_data",
         2,
         "marker",
         "color",
         "buffer"
        ]
       },
       {
        "data": "AAAAAAAAeEAAAAAAAAB4QAAAAAAAAHhAAAAAAAAAeEAAAAAAAAB4QAAAAAAAAHhAAAAAAAAAeEAAAAAAAAB4QAAAAAAAAHhA",
        "encoding": "base64",
        "path": [
         "_data",
         2,
         "x",
         "buffer"
        ]
       },
       {
        "data": "AAAAAAAAGEAAAAAAAAAYQAAAAAAAAChAAAAAAAAAKEAAAAAAAAAQQAAAAAAAABhAAAAAAAAAKEAAAAAAAAAgQAAAAAAAABhA",
        "encoding": "base64",
        "path": [
         "_data",
         2,
         "y",
         "buffer"
        ]
       },
       {
        "data": "LL7iK77i7T8svuIrvuLtP27btm3btu0/xVd8xVd87T8WX/EVX/HtP1h8xVd8xe0/27Zt27Zt7T8svuIrvuLtP0Id1EEd1O0/",
        "encoding": "base64",
        "path": [
         "_data",
         2,
         "z",
         "buffer"
        ]
       },
       {
        "data": "btu2bdu27T8svuIrvuLtPxZf8RVf8e0/LL7iK77i7T9YfMVXfMXtP1h8xVd8xe0/Qh3UQR3U7T9YfMVXfMXtPxZf8RVf8e0/6qAO6qAO7j8svuIrvuLtPwAAAAAAAO4/AAAAAAAA7j8svuIrvuLtP1h8xVd8xe0/Qh3UQR3U7T+EOqiDOqjtPyy+4iu+4u0/btu2bdu27T/FV3zFV3ztP7D4iq/4iu0/Qh3UQR3U7T8svuIrvuLtPyy+4iu+4u0/xVd8xVd87T/FV3zFV3ztP27btm3btu0/AAAAAAAA7j8svuIrvuLtPxZf8RVf8e0/LL7iK77i7T8WX/EVX/HtP1h8xVd8xe0/btu2bdu27T9CHdRBHdTtP27btm3btu0/Qh3UQR3U7T9u27Zt27btPyy+4iu+4u0/LL7iK77i7T8WX/EVX/HtP0Id1EEd1O0/btu2bdu27T9u27Zt27btP8VXfMVXfO0/WHzFV3zF7T8svuIrvuLtP0Id1EEd1O0/btu2bdu27T9YfMVXfMXtP0Id1EEd1O0/Fl/xFV/x7T8svuIrvuLtPyy+4iu+4u0/27Zt27Zt7T9YfMVXfMXtPwAAAAAAAO4/Qh3UQR3U7T9u27Zt27btPyy+4iu+4u0/LL7iK77i7T9CHdRBHdTtPyy+4iu+4u0/Qh3UQR3U7T9CHdRBHdTtP27btm3btu0/Qh3UQR3U7T9CHdRBHdTtP1h8xVd8xe0/Fl/xFV/x7T8svuIrvuLtP1h8xVd8xe0/Fl/xFV/x7T/FV3zFV3ztP0Id1EEd1O0/Qh3UQR3U7T9CHdRBHdTtP27btm3btu0/LL7iK77i7T9CHdRBHdTtPw==",
        "encoding": "base64",
        "path": [
         "_data",
         3,
         "marker",
         "color",
         "buffer"
        ]
       },
       {
        "data": "AAAAAABAf0AAAAAAAEB/QAAAAAAAQH9AAAAAAABAf0AAAAAAAEB/QAAAAAAAQH9AAAAAAABAf0AAAAAAAEB/QAAAAAAAQH9AAAAAAABAf0A=",
        "encoding": "base64",
        "path": [
         "_data",
         3,
         "x",
         "buffer"
        ]
       },
       {
        "data": "AAAAAAAAGEAAAAAAAAAQQAAAAAAAABhAAAAAAAAAKEAAAAAAAAAgQAAAAAAAAChAAAAAAAAAIEAAAAAAAAAoQAAAAAAAACBAAAAAAAAAIEA=",
        "encoding": "base64",
        "path": [
         "_data",
         3,
         "y",
         "buffer"
        ]
       },
       {
        "data": "WHzFV3zF7T/qoA7qoA7uPwAAAAAAAO4/xVd8xVd87T9CHdRBHdTtP27btm3btu0/Qh3UQR3U7T9u27Zt27btPxZf8RVf8e0/Qh3UQR3U7T8=",
        "encoding": "base64",
        "path": [
         "_data",
         3,
         "z",
         "buffer"
        ]
       },
       {
        "data": "btu2bdu27T8svuIrvuLtPxZf8RVf8e0/LL7iK77i7T9YfMVXfMXtP1h8xVd8xe0/Qh3UQR3U7T9YfMVXfMXtPxZf8RVf8e0/6qAO6qAO7j8svuIrvuLtPwAAAAAAAO4/AAAAAAAA7j8svuIrvuLtP1h8xVd8xe0/Qh3UQR3U7T+EOqiDOqjtPyy+4iu+4u0/btu2bdu27T/FV3zFV3ztP7D4iq/4iu0/Qh3UQR3U7T8svuIrvuLtPyy+4iu+4u0/xVd8xVd87T/FV3zFV3ztP27btm3btu0/AAAAAAAA7j8svuIrvuLtPxZf8RVf8e0/LL7iK77i7T8WX/EVX/HtP1h8xVd8xe0/btu2bdu27T9CHdRBHdTtP27btm3btu0/Qh3UQR3U7T9u27Zt27btPyy+4iu+4u0/LL7iK77i7T8WX/EVX/HtP0Id1EEd1O0/btu2bdu27T9u27Zt27btP8VXfMVXfO0/WHzFV3zF7T8svuIrvuLtP0Id1EEd1O0/btu2bdu27T9YfMVXfMXtP0Id1EEd1O0/Fl/xFV/x7T8svuIrvuLtPyy+4iu+4u0/27Zt27Zt7T9YfMVXfMXtPwAAAAAAAO4/Qh3UQR3U7T9u27Zt27btPyy+4iu+4u0/LL7iK77i7T9CHdRBHdTtPyy+4iu+4u0/Qh3UQR3U7T9CHdRBHdTtP27btm3btu0/Qh3UQR3U7T9CHdRBHdTtP1h8xVd8xe0/Fl/xFV/x7T8svuIrvuLtP1h8xVd8xe0/Fl/xFV/x7T/FV3zFV3ztP0Id1EEd1O0/Qh3UQR3U7T9CHdRBHdTtP27btm3btu0/LL7iK77i7T9CHdRBHdTtPw==",
        "encoding": "base64",
        "path": [
         "_data",
         4,
         "marker",
         "color",
         "buffer"
        ]
       },
       {
        "data": "AAAAAABIg0AAAAAAAEiDQAAAAAAASINAAAAAAABIg0AAAAAAAEiDQA==",
        "encoding": "base64",
        "path": [
         "_data",
         4,
         "x",
         "buffer"
        ]
       },
       {
        "data": "AAAAAAAAEEAAAAAAAAAYQAAAAAAAACBAAAAAAAAAEEAAAAAAAAAgQA==",
        "encoding": "base64",
        "path": [
         "_data",
         4,
         "y",
         "buffer"
        ]
       },
       {
        "data": "AAAAAAAA7j8svuIrvuLtP1h8xVd8xe0/AAAAAAAA7j9u27Zt27btPw==",
        "encoding": "base64",
        "path": [
         "_data",
         4,
         "z",
         "buffer"
        ]
       },
       {
        "data": "btu2bdu27T8svuIrvuLtPxZf8RVf8e0/LL7iK77i7T9YfMVXfMXtP1h8xVd8xe0/Qh3UQR3U7T9YfMVXfMXtPxZf8RVf8e0/6qAO6qAO7j8svuIrvuLtPwAAAAAAAO4/AAAAAAAA7j8svuIrvuLtP1h8xVd8xe0/Qh3UQR3U7T+EOqiDOqjtPyy+4iu+4u0/btu2bdu27T/FV3zFV3ztP7D4iq/4iu0/Qh3UQR3U7T8svuIrvuLtPyy+4iu+4u0/xVd8xVd87T/FV3zFV3ztP27btm3btu0/AAAAAAAA7j8svuIrvuLtPxZf8RVf8e0/LL7iK77i7T8WX/EVX/HtP1h8xVd8xe0/btu2bdu27T9CHdRBHdTtP27btm3btu0/Qh3UQR3U7T9u27Zt27btPyy+4iu+4u0/LL7iK77i7T8WX/EVX/HtP0Id1EEd1O0/btu2bdu27T9u27Zt27btP8VXfMVXfO0/WHzFV3zF7T8svuIrvuLtP0Id1EEd1O0/btu2bdu27T9YfMVXfMXtP0Id1EEd1O0/Fl/xFV/x7T8svuIrvuLtPyy+4iu+4u0/27Zt27Zt7T9YfMVXfMXtPwAAAAAAAO4/Qh3UQR3U7T9u27Zt27btPyy+4iu+4u0/LL7iK77i7T9CHdRBHdTtPyy+4iu+4u0/Qh3UQR3U7T9CHdRBHdTtP27btm3btu0/Qh3UQR3U7T9CHdRBHdTtP1h8xVd8xe0/Fl/xFV/x7T8svuIrvuLtP1h8xVd8xe0/Fl/xFV/x7T/FV3zFV3ztP0Id1EEd1O0/Qh3UQR3U7T9CHdRBHdTtP27btm3btu0/LL7iK77i7T9CHdRBHdTtPw==",
        "encoding": "base64",
        "path": [
         "_data",
         5,
         "marker",
         "color",
         "buffer"
        ]
       },
       {
        "data": "AAAAAADohkAAAAAAAOiGQAAAAAAA6IZAAAAAAADohkAAAAAAAOiGQAAAAAAA6IZA",
        "encoding": "base64",
        "path": [
         "_data",
         5,
         "x",
         "buffer"
        ]
       },
       {
        "data": "AAAAAAAAIEAAAAAAAAAYQAAAAAAAACBAAAAAAAAAGEAAAAAAAAAYQAAAAAAAACBA",
        "encoding": "base64",
        "path": [
         "_data",
         5,
         "y",
         "buffer"
        ]
       },
       {
        "data": "WHzFV3zF7T8svuIrvuLtP0Id1EEd1O0/LL7iK77i7T8WX/EVX/HtP0Id1EEd1O0/",
        "encoding": "base64",
        "path": [
         "_data",
         5,
         "z",
         "buffer"
        ]
       },
       {
        "data": "btu2bdu27T8svuIrvuLtPxZf8RVf8e0/LL7iK77i7T9YfMVXfMXtP1h8xVd8xe0/Qh3UQR3U7T9YfMVXfMXtPxZf8RVf8e0/6qAO6qAO7j8svuIrvuLtPwAAAAAAAO4/AAAAAAAA7j8svuIrvuLtP1h8xVd8xe0/Qh3UQR3U7T+EOqiDOqjtPyy+4iu+4u0/btu2bdu27T/FV3zFV3ztP7D4iq/4iu0/Qh3UQR3U7T8svuIrvuLtPyy+4iu+4u0/xVd8xVd87T/FV3zFV3ztP27btm3btu0/AAAAAAAA7j8svuIrvuLtPxZf8RVf8e0/LL7iK77i7T8WX/EVX/HtP1h8xVd8xe0/btu2bdu27T9CHdRBHdTtP27btm3btu0/Qh3UQR3U7T9u27Zt27btPyy+4iu+4u0/LL7iK77i7T8WX/EVX/HtP0Id1EEd1O0/btu2bdu27T9u27Zt27btP8VXfMVXfO0/WHzFV3zF7T8svuIrvuLtP0Id1EEd1O0/btu2bdu27T9YfMVXfMXtP0Id1EEd1O0/Fl/xFV/x7T8svuIrvuLtPyy+4iu+4u0/27Zt27Zt7T9YfMVXfMXtPwAAAAAAAO4/Qh3UQR3U7T9u27Zt27btPyy+4iu+4u0/LL7iK77i7T9CHdRBHdTtPyy+4iu+4u0/Qh3UQR3U7T9CHdRBHdTtP27btm3btu0/Qh3UQR3U7T9CHdRBHdTtP1h8xVd8xe0/Fl/xFV/x7T8svuIrvuLtP1h8xVd8xe0/Fl/xFV/x7T/FV3zFV3ztP0Id1EEd1O0/Qh3UQR3U7T9CHdRBHdTtP27btm3btu0/LL7iK77i7T9CHdRBHdTtPw==",
        "encoding": "base64",
        "path": [
         "_data",
         6,
         "marker",
         "color",
         "buffer"
        ]
       },
       {
        "data": "AAAAAACQikAAAAAAAJCKQAAAAAAAkIpAAAAAAACQikAAAAAAAJCKQAAAAAAAkIpAAAAAAACQikAAAAAAAJCKQAAAAAAAkIpA",
        "encoding": "base64",
        "path": [
         "_data",
         6,
         "x",
         "buffer"
        ]
       },
       {
        "data": "AAAAAAAAEEAAAAAAAAAoQAAAAAAAAChAAAAAAAAAKEAAAAAAAAAgQAAAAAAAACBAAAAAAAAAGEAAAAAAAAAoQAAAAAAAAChA",
        "encoding": "base64",
        "path": [
         "_data",
         6,
         "y",
         "buffer"
        ]
       },
       {
        "data": "LL7iK77i7T/FV3zFV3ztP8VXfMVXfO0/WHzFV3zF7T8svuIrvuLtPyy+4iu+4u0/Qh3UQR3U7T9u27Zt27btP0Id1EEd1O0/",
        "encoding": "base64",
        "path": [
         "_data",
         6,
         "z",
         "buffer"
        ]
       },
       {
        "data": "btu2bdu27T8svuIrvuLtPxZf8RVf8e0/LL7iK77i7T9YfMVXfMXtP1h8xVd8xe0/Qh3UQR3U7T9YfMVXfMXtPxZf8RVf8e0/6qAO6qAO7j8svuIrvuLtPwAAAAAAAO4/AAAAAAAA7j8svuIrvuLtP1h8xVd8xe0/Qh3UQR3U7T+EOqiDOqjtPyy+4iu+4u0/btu2bdu27T/FV3zFV3ztP7D4iq/4iu0/Qh3UQR3U7T8svuIrvuLtPyy+4iu+4u0/xVd8xVd87T/FV3zFV3ztP27btm3btu0/AAAAAAAA7j8svuIrvuLtPxZf8RVf8e0/LL7iK77i7T8WX/EVX/HtP1h8xVd8xe0/btu2bdu27T9CHdRBHdTtP27btm3btu0/Qh3UQR3U7T9u27Zt27btPyy+4iu+4u0/LL7iK77i7T8WX/EVX/HtP0Id1EEd1O0/btu2bdu27T9u27Zt27btP8VXfMVXfO0/WHzFV3zF7T8svuIrvuLtP0Id1EEd1O0/btu2bdu27T9YfMVXfMXtP0Id1EEd1O0/Fl/xFV/x7T8svuIrvuLtPyy+4iu+4u0/27Zt27Zt7T9YfMVXfMXtPwAAAAAAAO4/Qh3UQR3U7T9u27Zt27btPyy+4iu+4u0/LL7iK77i7T9CHdRBHdTtPyy+4iu+4u0/Qh3UQR3U7T9CHdRBHdTtP27btm3btu0/Qh3UQR3U7T9CHdRBHdTtP1h8xVd8xe0/Fl/xFV/x7T8svuIrvuLtP1h8xVd8xe0/Fl/xFV/x7T/FV3zFV3ztP0Id1EEd1O0/Qh3UQR3U7T9CHdRBHdTtP27btm3btu0/LL7iK77i7T9CHdRBHdTtPw==",
        "encoding": "base64",
        "path": [
         "_data",
         7,
         "marker",
         "color",
         "buffer"
        ]
       },
       {
        "data": "AAAAAAAwjkAAAAAAADCOQAAAAAAAMI5AAAAAAAAwjkAAAAAAADCOQAAAAAAAMI5AAAAAAAAwjkA=",
        "encoding": "base64",
        "path": [
         "_data",
         7,
         "x",
         "buffer"
        ]
       },
       {
        "data": "AAAAAAAAIEAAAAAAAAAoQAAAAAAAABBAAAAAAAAAKEAAAAAAAAAoQAAAAAAAAChAAAAAAAAAGEA=",
        "encoding": "base64",
        "path": [
         "_data",
         7,
         "y",
         "buffer"
        ]
       },
       {
        "data": "LL7iK77i7T9u27Zt27btPxZf8RVf8e0/btu2bdu27T9CHdRBHdTtP8VXfMVXfO0/LL7iK77i7T8=",
        "encoding": "base64",
        "path": [
         "_data",
         7,
         "z",
         "buffer"
        ]
       },
       {
        "data": "btu2bdu27T8svuIrvuLtPxZf8RVf8e0/LL7iK77i7T9YfMVXfMXtP1h8xVd8xe0/Qh3UQR3U7T9YfMVXfMXtPxZf8RVf8e0/6qAO6qAO7j8svuIrvuLtPwAAAAAAAO4/AAAAAAAA7j8svuIrvuLtP1h8xVd8xe0/Qh3UQR3U7T+EOqiDOqjtPyy+4iu+4u0/btu2bdu27T/FV3zFV3ztP7D4iq/4iu0/Qh3UQR3U7T8svuIrvuLtPyy+4iu+4u0/xVd8xVd87T/FV3zFV3ztP27btm3btu0/AAAAAAAA7j8svuIrvuLtPxZf8RVf8e0/LL7iK77i7T8WX/EVX/HtP1h8xVd8xe0/btu2bdu27T9CHdRBHdTtP27btm3btu0/Qh3UQR3U7T9u27Zt27btPyy+4iu+4u0/LL7iK77i7T8WX/EVX/HtP0Id1EEd1O0/btu2bdu27T9u27Zt27btP8VXfMVXfO0/WHzFV3zF7T8svuIrvuLtP0Id1EEd1O0/btu2bdu27T9YfMVXfMXtP0Id1EEd1O0/Fl/xFV/x7T8svuIrvuLtPyy+4iu+4u0/27Zt27Zt7T9YfMVXfMXtPwAAAAAAAO4/Qh3UQR3U7T9u27Zt27btPyy+4iu+4u0/LL7iK77i7T9CHdRBHdTtPyy+4iu+4u0/Qh3UQR3U7T9CHdRBHdTtP27btm3btu0/Qh3UQR3U7T9CHdRBHdTtP1h8xVd8xe0/Fl/xFV/x7T8svuIrvuLtP1h8xVd8xe0/Fl/xFV/x7T/FV3zFV3ztP0Id1EEd1O0/Qh3UQR3U7T9CHdRBHdTtP27btm3btu0/LL7iK77i7T9CHdRBHdTtPw==",
        "encoding": "base64",
        "path": [
         "_data",
         8,
         "marker",
         "color",
         "buffer"
        ]
       },
       {
        "data": "AAAAAADskEAAAAAAAOyQQAAAAAAA7JBAAAAAAADskEAAAAAAAOyQQAAAAAAA7JBA",
        "encoding": "base64",
        "path": [
         "_data",
         8,
         "x",
         "buffer"
        ]
       },
       {
        "data": "AAAAAAAAIEAAAAAAAAAoQAAAAAAAABhAAAAAAAAAKEAAAAAAAAAoQAAAAAAAACBA",
        "encoding": "base64",
        "path": [
         "_data",
         8,
         "y",
         "buffer"
        ]
       },
       {
        "data": "LL7iK77i7T9u27Zt27btPyy+4iu+4u0/Qh3UQR3U7T9u27Zt27btP1h8xVd8xe0/",
        "encoding": "base64",
        "path": [
         "_data",
         8,
         "z",
         "buffer"
        ]
       },
       {
        "data": "btu2bdu27T8svuIrvuLtPxZf8RVf8e0/LL7iK77i7T9YfMVXfMXtP1h8xVd8xe0/Qh3UQR3U7T9YfMVXfMXtPxZf8RVf8e0/6qAO6qAO7j8svuIrvuLtPwAAAAAAAO4/AAAAAAAA7j8svuIrvuLtP1h8xVd8xe0/Qh3UQR3U7T+EOqiDOqjtPyy+4iu+4u0/btu2bdu27T/FV3zFV3ztP7D4iq/4iu0/Qh3UQR3U7T8svuIrvuLtPyy+4iu+4u0/xVd8xVd87T/FV3zFV3ztP27btm3btu0/AAAAAAAA7j8svuIrvuLtPxZf8RVf8e0/LL7iK77i7T8WX/EVX/HtP1h8xVd8xe0/btu2bdu27T9CHdRBHdTtP27btm3btu0/Qh3UQR3U7T9u27Zt27btPyy+4iu+4u0/LL7iK77i7T8WX/EVX/HtP0Id1EEd1O0/btu2bdu27T9u27Zt27btP8VXfMVXfO0/WHzFV3zF7T8svuIrvuLtP0Id1EEd1O0/btu2bdu27T9YfMVXfMXtP0Id1EEd1O0/Fl/xFV/x7T8svuIrvuLtPyy+4iu+4u0/27Zt27Zt7T9YfMVXfMXtPwAAAAAAAO4/Qh3UQR3U7T9u27Zt27btPyy+4iu+4u0/LL7iK77i7T9CHdRBHdTtPyy+4iu+4u0/Qh3UQR3U7T9CHdRBHdTtP27btm3btu0/Qh3UQR3U7T9CHdRBHdTtP1h8xVd8xe0/Fl/xFV/x7T8svuIrvuLtP1h8xVd8xe0/Fl/xFV/x7T/FV3zFV3ztP0Id1EEd1O0/Qh3UQR3U7T9CHdRBHdTtP27btm3btu0/LL7iK77i7T9CHdRBHdTtPw==",
        "encoding": "base64",
        "path": [
         "_data",
         9,
         "marker",
         "color",
         "buffer"
        ]
       },
       {
        "data": "AAAAAADAkkAAAAAAAMCSQAAAAAAAwJJAAAAAAADAkkAAAAAAAMCSQAAAAAAAwJJAAAAAAADAkkAAAAAAAMCSQAAAAAAAwJJAAAAAAADAkkA=",
        "encoding": "base64",
        "path": [
         "_data",
         9,
         "x",
         "buffer"
        ]
       },
       {
        "data": "AAAAAAAAIEAAAAAAAAAYQAAAAAAAABhAAAAAAAAAEEAAAAAAAAAQQAAAAAAAACBAAAAAAAAAEEAAAAAAAAAYQAAAAAAAABBAAAAAAAAAGEA=",
        "encoding": "base64",
        "path": [
         "_data",
         9,
         "y",
         "buffer"
        ]
       },
       {
        "data": "WHzFV3zF7T8WX/EVX/HtPyy+4iu+4u0/AAAAAAAA7j8WX/EVX/HtP0Id1EEd1O0/WHzFV3zF7T8svuIrvuLtPyy+4iu+4u0/WHzFV3zF7T8=",
        "encoding": "base64",
        "path": [
         "_data",
         9,
         "z",
         "buffer"
        ]
       }
      ],
      "model_module": "plotlywidget",
      "model_module_version": "^1.1.0",
      "model_name": "FigureModel",
      "state": {
       "_config": {
        "plotlyServerURL": "https://plot.ly"
       },
       "_data": [
        {
         "hoverinfo": "text",
         "marker": {
          "color": {
           "dtype": "float64",
           "shape": [
            80
           ]
          },
          "colorscale": [
           [
            0.0,
            "rgb(0,0,131)"
           ],
           [
            0.2,
            "rgb(0,60,170)"
           ],
           [
            0.4,
            "rgb(5,255,255)"
           ],
           [
            0.6,
            "rgb(255,255,0)"
           ],
           [
            0.8,
            "rgb(250,0,0)"
           ],
           [
            1.0,
            "rgb(128,0,0)"
           ]
          ],
          "size": 7
         },
         "mode": "markers",
         "showlegend": false,
         "text": [
          "max_features: auto<br>n_estimators: 151.0<br>min_samples_split: 10.0<br>Test score: 0.932<br>Training time: 0.441 s",
          "max_features: sqrt<br>n_estimators: 151.0<br>min_samples_split: 10.0<br>Test score: 0.927<br>Training time: 0.411 s",
          "max_features: auto<br>n_estimators: 151.0<br>min_samples_split: 10.0<br>Test score: 0.923<br>Training time: 0.396 s",
          "max_features: auto<br>n_estimators: 151.0<br>min_samples_split: 7.0<br>Test score: 0.932<br>Training time: 0.41 s",
          "max_features: auto<br>n_estimators: 151.0<br>min_samples_split: 10.0<br>Test score: 0.932<br>Training time: 0.438 s",
          "max_features: log2<br>n_estimators: 151.0<br>min_samples_split: 10.0<br>Test score: 0.932<br>Training time: 0.442 s"
         ],
         "type": "scatter3d",
         "uid": "67866b5c-c717-4d84-9353-f245a7237a6c",
         "x": {
          "dtype": "float64",
          "shape": [
           6
          ]
         },
         "y": {
          "dtype": "float64",
          "shape": [
           6
          ]
         },
         "z": {
          "dtype": "float64",
          "shape": [
           6
          ]
         }
        },
        {
         "hoverinfo": "text",
         "marker": {
          "color": {
           "dtype": "float64",
           "shape": [
            80
           ]
          },
          "colorscale": [
           [
            0.0,
            "rgb(0,0,131)"
           ],
           [
            0.2,
            "rgb(0,60,170)"
           ],
           [
            0.4,
            "rgb(5,255,255)"
           ],
           [
            0.6,
            "rgb(255,255,0)"
           ],
           [
            0.8,
            "rgb(250,0,0)"
           ],
           [
            1.0,
            "rgb(128,0,0)"
           ]
          ],
          "size": 7
         },
         "mode": "markers",
         "showlegend": false,
         "text": [
          "max_features: log2<br>n_estimators: 267.0<br>min_samples_split: 14.0<br>Test score: 0.929<br>Training time: 0.708 s",
          "max_features: auto<br>n_estimators: 267.0<br>min_samples_split: 5.0<br>Test score: 0.936<br>Training time: 0.791 s",
          "max_features: log2<br>n_estimators: 267.0<br>min_samples_split: 10.0<br>Test score: 0.932<br>Training time: 0.788 s",
          "max_features: None<br>n_estimators: 267.0<br>min_samples_split: 10.0<br>Test score: 0.93<br>Training time: 0.773 s",
          "max_features: auto<br>n_estimators: 267.0<br>min_samples_split: 14.0<br>Test score: 0.934<br>Training time: 0.712 s",
          "max_features: log2<br>n_estimators: 267.0<br>min_samples_split: 7.0<br>Test score: 0.934<br>Training time: 0.799 s",
          "max_features: None<br>n_estimators: 267.0<br>min_samples_split: 7.0<br>Test score: 0.934<br>Training time: 0.796 s",
          "max_features: sqrt<br>n_estimators: 267.0<br>min_samples_split: 5.0<br>Test score: 0.929<br>Training time: 0.714 s",
          "max_features: None<br>n_estimators: 267.0<br>min_samples_split: 7.0<br>Test score: 0.929<br>Training time: 0.857 s",
          "max_features: sqrt<br>n_estimators: 267.0<br>min_samples_split: 5.0<br>Test score: 0.932<br>Training time: 0.794 s",
          "max_features: auto<br>n_estimators: 267.0<br>min_samples_split: 14.0<br>Test score: 0.932<br>Training time: 0.795 s",
          "max_features: log2<br>n_estimators: 267.0<br>min_samples_split: 7.0<br>Test score: 0.936<br>Training time: 0.806 s"
         ],
         "type": "scatter3d",
         "uid": "39d792b4-95f7-475d-92d4-a69fdbf8dad9",
         "x": {
          "dtype": "float64",
          "shape": [
           12
          ]
         },
         "y": {
          "dtype": "float64",
          "shape": [
           12
          ]
         },
         "z": {
          "dtype": "float64",
          "shape": [
           12
          ]
         }
        },
        {
         "hoverinfo": "text",
         "marker": {
          "color": {
           "dtype": "float64",
           "shape": [
            80
           ]
          },
          "colorscale": [
           [
            0.0,
            "rgb(0,0,131)"
           ],
           [
            0.2,
            "rgb(0,60,170)"
           ],
           [
            0.4,
            "rgb(5,255,255)"
           ],
           [
            0.6,
            "rgb(255,255,0)"
           ],
           [
            0.8,
            "rgb(250,0,0)"
           ],
           [
            1.0,
            "rgb(128,0,0)"
           ]
          ],
          "size": 7
         },
         "mode": "markers",
         "showlegend": false,
         "text": [
          "max_features: None<br>n_estimators: 384.0<br>min_samples_split: 14.0<br>Test score: 0.934<br>Training time: 1.285 s",
          "max_features: None<br>n_estimators: 384.0<br>min_samples_split: 14.0<br>Test score: 0.934<br>Training time: 1.301 s",
          "max_features: None<br>n_estimators: 384.0<br>min_samples_split: 10.0<br>Test score: 0.929<br>Training time: 1.251 s",
          "max_features: auto<br>n_estimators: 384.0<br>min_samples_split: 5.0<br>Test score: 0.921<br>Training time: 1.018 s",
          "max_features: sqrt<br>n_estimators: 384.0<br>min_samples_split: 7.0<br>Test score: 0.936<br>Training time: 1.038 s",
          "max_features: auto<br>n_estimators: 384.0<br>min_samples_split: 10.0<br>Test score: 0.93<br>Training time: 1.045 s",
          "max_features: sqrt<br>n_estimators: 384.0<br>min_samples_split: 14.0<br>Test score: 0.92<br>Training time: 1.002 s",
          "max_features: log2<br>n_estimators: 384.0<br>min_samples_split: 5.0<br>Test score: 0.934<br>Training time: 1.111 s",
          "max_features: log2<br>n_estimators: 384.0<br>min_samples_split: 7.0<br>Test score: 0.932<br>Training time: 1.031 s"
         ],
         "type": "scatter3d",
         "uid": "6323f999-3a6c-4c6c-be18-d79681f8f383",
         "x": {
          "dtype": "float64",
          "shape": [
           9
          ]
         },
         "y": {
          "dtype": "float64",
          "shape": [
           9
          ]
         },
         "z": {
          "dtype": "float64",
          "shape": [
           9
          ]
         }
        },
        {
         "hoverinfo": "text",
         "marker": {
          "color": {
           "dtype": "float64",
           "shape": [
            80
           ]
          },
          "colorscale": [
           [
            0.0,
            "rgb(0,0,131)"
           ],
           [
            0.2,
            "rgb(0,60,170)"
           ],
           [
            0.4,
            "rgb(5,255,255)"
           ],
           [
            0.6,
            "rgb(255,255,0)"
           ],
           [
            0.8,
            "rgb(250,0,0)"
           ],
           [
            1.0,
            "rgb(128,0,0)"
           ]
          ],
          "size": 7
         },
         "mode": "markers",
         "showlegend": false,
         "text": [
          "max_features: sqrt<br>n_estimators: 500.0<br>min_samples_split: 5.0<br>Test score: 0.93<br>Training time: 1.327 s",
          "max_features: log2<br>n_estimators: 500.0<br>min_samples_split: 7.0<br>Test score: 0.939<br>Training time: 1.502 s",
          "max_features: auto<br>n_estimators: 500.0<br>min_samples_split: 10.0<br>Test score: 0.938<br>Training time: 1.483 s",
          "max_features: auto<br>n_estimators: 500.0<br>min_samples_split: 7.0<br>Test score: 0.921<br>Training time: 1.372 s",
          "max_features: auto<br>n_estimators: 500.0<br>min_samples_split: 7.0<br>Test score: 0.932<br>Training time: 1.499 s",
          "max_features: None<br>n_estimators: 500.0<br>min_samples_split: 14.0<br>Test score: 0.929<br>Training time: 1.602 s",
          "max_features: log2<br>n_estimators: 500.0<br>min_samples_split: 5.0<br>Test score: 0.932<br>Training time: 1.473 s",
          "max_features: None<br>n_estimators: 500.0<br>min_samples_split: 10.0<br>Test score: 0.929<br>Training time: 1.625 s",
          "max_features: sqrt<br>n_estimators: 500.0<br>min_samples_split: 10.0<br>Test score: 0.936<br>Training time: 1.532 s",
          "max_features: sqrt<br>n_estimators: 500.0<br>min_samples_split: 14.0<br>Test score: 0.932<br>Training time: 1.328 s"
         ],
         "type": "scatter3d",
         "uid": "faad13b1-aa1e-482a-923f-c78d820f7c18",
         "x": {
          "dtype": "float64",
          "shape": [
           10
          ]
         },
         "y": {
          "dtype": "float64",
          "shape": [
           10
          ]
         },
         "z": {
          "dtype": "float64",
          "shape": [
           10
          ]
         }
        },
        {
         "hoverinfo": "text",
         "marker": {
          "color": {
           "dtype": "float64",
           "shape": [
            80
           ]
          },
          "colorscale": [
           [
            0.0,
            "rgb(0,0,131)"
           ],
           [
            0.2,
            "rgb(0,60,170)"
           ],
           [
            0.4,
            "rgb(5,255,255)"
           ],
           [
            0.6,
            "rgb(255,255,0)"
           ],
           [
            0.8,
            "rgb(250,0,0)"
           ],
           [
            1.0,
            "rgb(128,0,0)"
           ]
          ],
          "size": 7
         },
         "mode": "markers",
         "showlegend": false,
         "text": [
          "max_features: auto<br>n_estimators: 617.0<br>min_samples_split: 5.0<br>Test score: 0.938<br>Training time: 1.862 s",
          "max_features: auto<br>n_estimators: 617.0<br>min_samples_split: 10.0<br>Test score: 0.934<br>Training time: 1.82 s",
          "max_features: None<br>n_estimators: 617.0<br>min_samples_split: 10.0<br>Test score: 0.93<br>Training time: 1.792 s",
          "max_features: None<br>n_estimators: 617.0<br>min_samples_split: 7.0<br>Test score: 0.938<br>Training time: 2.146 s",
          "max_features: None<br>n_estimators: 617.0<br>min_samples_split: 5.0<br>Test score: 0.929<br>Training time: 1.781 s"
         ],
         "type": "scatter3d",
         "uid": "e51d7cbb-2008-422b-a649-ad3d96069b3e",
         "x": {
          "dtype": "float64",
          "shape": [
           5
          ]
         },
         "y": {
          "dtype": "float64",
          "shape": [
           5
          ]
         },
         "z": {
          "dtype": "float64",
          "shape": [
           5
          ]
         }
        },
        {
         "hoverinfo": "text",
         "marker": {
          "color": {
           "dtype": "float64",
           "shape": [
            80
           ]
          },
          "colorscale": [
           [
            0.0,
            "rgb(0,0,131)"
           ],
           [
            0.2,
            "rgb(0,60,170)"
           ],
           [
            0.4,
            "rgb(5,255,255)"
           ],
           [
            0.6,
            "rgb(255,255,0)"
           ],
           [
            0.8,
            "rgb(250,0,0)"
           ],
           [
            1.0,
            "rgb(128,0,0)"
           ]
          ],
          "size": 7
         },
         "mode": "markers",
         "showlegend": false,
         "text": [
          "max_features: None<br>n_estimators: 733.0<br>min_samples_split: 7.0<br>Test score: 0.93<br>Training time: 2.464 s",
          "max_features: sqrt<br>n_estimators: 733.0<br>min_samples_split: 7.0<br>Test score: 0.934<br>Training time: 1.977 s",
          "max_features: None<br>n_estimators: 733.0<br>min_samples_split: 14.0<br>Test score: 0.932<br>Training time: 2.468 s",
          "max_features: log2<br>n_estimators: 733.0<br>min_samples_split: 7.0<br>Test score: 0.934<br>Training time: 2.134 s",
          "max_features: sqrt<br>n_estimators: 733.0<br>min_samples_split: 10.0<br>Test score: 0.936<br>Training time: 2.188 s",
          "max_features: None<br>n_estimators: 733.0<br>min_samples_split: 7.0<br>Test score: 0.932<br>Training time: 2.43 s"
         ],
         "type": "scatter3d",
         "uid": "12acb57b-4d85-4c7c-aba1-276f568c577e",
         "x": {
          "dtype": "float64",
          "shape": [
           6
          ]
         },
         "y": {
          "dtype": "float64",
          "shape": [
           6
          ]
         },
         "z": {
          "dtype": "float64",
          "shape": [
           6
          ]
         }
        },
        {
         "hoverinfo": "text",
         "marker": {
          "color": {
           "dtype": "float64",
           "shape": [
            80
           ]
          },
          "colorscale": [
           [
            0.0,
            "rgb(0,0,131)"
           ],
           [
            0.2,
            "rgb(0,60,170)"
           ],
           [
            0.4,
            "rgb(5,255,255)"
           ],
           [
            0.6,
            "rgb(255,255,0)"
           ],
           [
            0.8,
            "rgb(250,0,0)"
           ],
           [
            1.0,
            "rgb(128,0,0)"
           ]
          ],
          "size": 7
         },
         "mode": "markers",
         "showlegend": false,
         "text": [
          "max_features: log2<br>n_estimators: 850.0<br>min_samples_split: 5.0<br>Test score: 0.934<br>Training time: 2.288 s",
          "max_features: auto<br>n_estimators: 850.0<br>min_samples_split: 7.0<br>Test score: 0.921<br>Training time: 2.217 s",
          "max_features: auto<br>n_estimators: 850.0<br>min_samples_split: 7.0<br>Test score: 0.921<br>Training time: 2.244 s",
          "max_features: auto<br>n_estimators: 850.0<br>min_samples_split: 14.0<br>Test score: 0.93<br>Training time: 2.436 s",
          "max_features: sqrt<br>n_estimators: 850.0<br>min_samples_split: 10.0<br>Test score: 0.934<br>Training time: 2.567 s",
          "max_features: log2<br>n_estimators: 850.0<br>min_samples_split: 14.0<br>Test score: 0.934<br>Training time: 2.491 s",
          "max_features: None<br>n_estimators: 850.0<br>min_samples_split: 7.0<br>Test score: 0.932<br>Training time: 2.441 s",
          "max_features: None<br>n_estimators: 850.0<br>min_samples_split: 10.0<br>Test score: 0.929<br>Training time: 2.733 s",
          "max_features: sqrt<br>n_estimators: 850.0<br>min_samples_split: 5.0<br>Test score: 0.932<br>Training time: 2.426 s"
         ],
         "type": "scatter3d",
         "uid": "a733b97e-b5fd-45a5-b57f-81bd6e6182a1",
         "x": {
          "dtype": "float64",
          "shape": [
           9
          ]
         },
         "y": {
          "dtype": "float64",
          "shape": [
           9
          ]
         },
         "z": {
          "dtype": "float64",
          "shape": [
           9
          ]
         }
        },
        {
         "hoverinfo": "text",
         "marker": {
          "color": {
           "dtype": "float64",
           "shape": [
            80
           ]
          },
          "colorscale": [
           [
            0.0,
            "rgb(0,0,131)"
           ],
           [
            0.2,
            "rgb(0,60,170)"
           ],
           [
            0.4,
            "rgb(5,255,255)"
           ],
           [
            0.6,
            "rgb(255,255,0)"
           ],
           [
            0.8,
            "rgb(250,0,0)"
           ],
           [
            1.0,
            "rgb(128,0,0)"
           ]
          ],
          "size": 7
         },
         "mode": "markers",
         "showlegend": false,
         "text": [
          "max_features: sqrt<br>n_estimators: 966.0<br>min_samples_split: 10.0<br>Test score: 0.934<br>Training time: 2.804 s",
          "max_features: None<br>n_estimators: 966.0<br>min_samples_split: 10.0<br>Test score: 0.929<br>Training time: 3.108 s",
          "max_features: sqrt<br>n_estimators: 966.0<br>min_samples_split: 10.0<br>Test score: 0.936<br>Training time: 2.878 s",
          "max_features: None<br>n_estimators: 966.0<br>min_samples_split: 5.0<br>Test score: 0.929<br>Training time: 3.147 s",
          "max_features: log2<br>n_estimators: 966.0<br>min_samples_split: 5.0<br>Test score: 0.932<br>Training time: 2.854 s",
          "max_features: log2<br>n_estimators: 966.0<br>min_samples_split: 14.0<br>Test score: 0.921<br>Training time: 2.544 s",
          "max_features: None<br>n_estimators: 966.0<br>min_samples_split: 10.0<br>Test score: 0.934<br>Training time: 2.773 s"
         ],
         "type": "scatter3d",
         "uid": "2161a4cc-ecc0-4886-ac26-fe16229b16fe",
         "x": {
          "dtype": "float64",
          "shape": [
           7
          ]
         },
         "y": {
          "dtype": "float64",
          "shape": [
           7
          ]
         },
         "z": {
          "dtype": "float64",
          "shape": [
           7
          ]
         }
        },
        {
         "hoverinfo": "text",
         "marker": {
          "color": {
           "dtype": "float64",
           "shape": [
            80
           ]
          },
          "colorscale": [
           [
            0.0,
            "rgb(0,0,131)"
           ],
           [
            0.2,
            "rgb(0,60,170)"
           ],
           [
            0.4,
            "rgb(5,255,255)"
           ],
           [
            0.6,
            "rgb(255,255,0)"
           ],
           [
            0.8,
            "rgb(250,0,0)"
           ],
           [
            1.0,
            "rgb(128,0,0)"
           ]
          ],
          "size": 7
         },
         "mode": "markers",
         "showlegend": false,
         "text": [
          "max_features: log2<br>n_estimators: 1083.0<br>min_samples_split: 7.0<br>Test score: 0.934<br>Training time: 3.185 s",
          "max_features: None<br>n_estimators: 1083.0<br>min_samples_split: 14.0<br>Test score: 0.929<br>Training time: 3.505 s",
          "max_features: None<br>n_estimators: 1083.0<br>min_samples_split: 10.0<br>Test score: 0.934<br>Training time: 3.782 s",
          "max_features: auto<br>n_estimators: 1083.0<br>min_samples_split: 5.0<br>Test score: 0.932<br>Training time: 3.09 s",
          "max_features: None<br>n_estimators: 1083.0<br>min_samples_split: 7.0<br>Test score: 0.929<br>Training time: 3.456 s",
          "max_features: sqrt<br>n_estimators: 1083.0<br>min_samples_split: 5.0<br>Test score: 0.93<br>Training time: 2.886 s"
         ],
         "type": "scatter3d",
         "uid": "9cb6245b-d8ed-4cfb-946b-4e9c108e8f09",
         "x": {
          "dtype": "float64",
          "shape": [
           6
          ]
         },
         "y": {
          "dtype": "float64",
          "shape": [
           6
          ]
         },
         "z": {
          "dtype": "float64",
          "shape": [
           6
          ]
         }
        },
        {
         "hoverinfo": "text",
         "marker": {
          "color": {
           "dtype": "float64",
           "shape": [
            80
           ]
          },
          "colorscale": [
           [
            0.0,
            "rgb(0,0,131)"
           ],
           [
            0.2,
            "rgb(0,60,170)"
           ],
           [
            0.4,
            "rgb(5,255,255)"
           ],
           [
            0.6,
            "rgb(255,255,0)"
           ],
           [
            0.8,
            "rgb(250,0,0)"
           ],
           [
            1.0,
            "rgb(128,0,0)"
           ]
          ],
          "size": 7
         },
         "mode": "markers",
         "showlegend": false,
         "text": [
          "max_features: None<br>n_estimators: 1200.0<br>min_samples_split: 14.0<br>Test score: 0.93<br>Training time: 4.027 s",
          "max_features: sqrt<br>n_estimators: 1200.0<br>min_samples_split: 14.0<br>Test score: 0.936<br>Training time: 3.539 s",
          "max_features: auto<br>n_estimators: 1200.0<br>min_samples_split: 5.0<br>Test score: 0.934<br>Training time: 3.666 s",
          "max_features: auto<br>n_estimators: 1200.0<br>min_samples_split: 10.0<br>Test score: 0.938<br>Training time: 3.568 s",
          "max_features: None<br>n_estimators: 1200.0<br>min_samples_split: 5.0<br>Test score: 0.936<br>Training time: 4.213 s",
          "max_features: auto<br>n_estimators: 1200.0<br>min_samples_split: 14.0<br>Test score: 0.932<br>Training time: 3.173 s",
          "max_features: log2<br>n_estimators: 1200.0<br>min_samples_split: 14.0<br>Test score: 0.93<br>Training time: 3.235 s",
          "max_features: log2<br>n_estimators: 1200.0<br>min_samples_split: 14.0<br>Test score: 0.934<br>Training time: 3.534 s",
          "max_features: None<br>n_estimators: 1200.0<br>min_samples_split: 7.0<br>Test score: 0.934<br>Training time: 3.546 s",
          "max_features: auto<br>n_estimators: 1200.0<br>min_samples_split: 14.0<br>Test score: 0.93<br>Training time: 3.24 s"
         ],
         "type": "scatter3d",
         "uid": "7401cf02-8b25-4ecf-9215-da2d04fa6633",
         "x": {
          "dtype": "float64",
          "shape": [
           10
          ]
         },
         "y": {
          "dtype": "float64",
          "shape": [
           10
          ]
         },
         "z": {
          "dtype": "float64",
          "shape": [
           10
          ]
         }
        }
       ],
       "_dom_classes": [],
       "_js2py_layoutDelta": {},
       "_js2py_pointsCallback": {},
       "_js2py_relayout": {},
       "_js2py_restyle": {},
       "_js2py_traceDeltas": {},
       "_js2py_update": {},
       "_last_layout_edit_id": 0,
       "_last_trace_edit_id": 0,
       "_layout": {
        "height": 600,
        "scene": {
         "camera": {
          "center": {
           "x": 0,
           "y": 0,
           "z": 0
          },
          "eye": {
           "x": 2,
           "y": 2,
           "z": 1.25
          },
          "up": {
           "x": 0,
           "y": 0,
           "z": 1
          }
         },
         "xaxis": {
          "title": {
           "text": "n_estimators"
          }
         },
         "yaxis": {
          "title": {
           "text": "min_leaf"
          },
          "type": "log"
         },
         "zaxis": {
          "title": {
           "text": "accuracy"
          },
          "type": "log"
         }
        },
        "sliders": [
         {
          "active": 4,
          "currentvalue": {
           "prefix": "n_estimators: "
          },
          "len": 0.5,
          "pad": {
           "b": 20,
           "t": 10
          },
          "steps": [
           {
            "args": [
             "visible",
             [
              true,
              false,
              false,
              false,
              false,
              false,
              false,
              false,
              false,
              false,
              false,
              false,
              false,
              false,
              false,
              false,
              false,
              false,
              false,
              false
             ]
            ],
            "label": "151.0",
            "method": "restyle"
           },
           {
            "args": [
             "visible",
             [
              false,
              true,
              false,
              false,
              false,
              false,
              false,
              false,
              false,
              false,
              false,
              false,
              false,
              false,
              false,
              false,
              false,
              false,
              false,
              false
             ]
            ],
            "label": "267.0",
            "method": "restyle"
           },
           {
            "args": [
             "visible",
             [
              false,
              false,
              true,
              false,
              false,
              false,
              false,
              false,
              false,
              false,
              false,
              false,
              false,
              false,
              false,
              false,
              false,
              false,
              false,
              false
             ]
            ],
            "label": "384.0",
            "method": "restyle"
           },
           {
            "args": [
             "visible",
             [
              false,
              false,
              false,
              true,
              false,
              false,
              false,
              false,
              false,
              false,
              false,
              false,
              false,
              false,
              false,
              false,
              false,
              false,
              false,
              false
             ]
            ],
            "label": "500.0",
            "method": "restyle"
           },
           {
            "args": [
             "visible",
             [
              false,
              false,
              false,
              false,
              true,
              false,
              false,
              false,
              false,
              false,
              false,
              false,
              false,
              false,
              false,
              false,
              false,
              false,
              false,
              false
             ]
            ],
            "label": "617.0",
            "method": "restyle"
           },
           {
            "args": [
             "visible",
             [
              false,
              false,
              false,
              false,
              false,
              true,
              false,
              false,
              false,
              false,
              false,
              false,
              false,
              false,
              false,
              false,
              false,
              false,
              false,
              false
             ]
            ],
            "label": "733.0",
            "method": "restyle"
           },
           {
            "args": [
             "visible",
             [
              false,
              false,
              false,
              false,
              false,
              false,
              true,
              false,
              false,
              false,
              false,
              false,
              false,
              false,
              false,
              false,
              false,
              false,
              false,
              false
             ]
            ],
            "label": "850.0",
            "method": "restyle"
           },
           {
            "args": [
             "visible",
             [
              false,
              false,
              false,
              false,
              false,
              false,
              false,
              true,
              false,
              false,
              false,
              false,
              false,
              false,
              false,
              false,
              false,
              false,
              false,
              false
             ]
            ],
            "label": "966.0",
            "method": "restyle"
           },
           {
            "args": [
             "visible",
             [
              false,
              false,
              false,
              false,
              false,
              false,
              false,
              false,
              true,
              false,
              false,
              false,
              false,
              false,
              false,
              false,
              false,
              false,
              false,
              false
             ]
            ],
            "label": "1083.0",
            "method": "restyle"
           },
           {
            "args": [
             "visible",
             [
              false,
              false,
              false,
              false,
              false,
              false,
              false,
              false,
              false,
              true,
              false,
              false,
              false,
              false,
              false,
              false,
              false,
              false,
              false,
              false
             ]
            ],
            "label": "1200.0",
            "method": "restyle"
           }
          ],
          "x": 0.5,
          "xanchor": "center"
         }
        ],
        "title": {
         "text": "Cross-Validation Accuracy Varying n_estimators and min_leaf"
        },
        "width": 700
       },
       "_model_module": "plotlywidget",
       "_model_module_version": "^1.1.0",
       "_model_name": "FigureModel",
       "_py2js_addTraces": {},
       "_py2js_animate": {},
       "_py2js_deleteTraces": {},
       "_py2js_moveTraces": {},
       "_py2js_relayout": null,
       "_py2js_removeLayoutProps": {},
       "_py2js_removeTraceProps": {},
       "_py2js_restyle": {},
       "_py2js_update": {},
       "_view_count": 0,
       "_view_module": "plotlywidget",
       "_view_module_version": "^1.1.0",
       "_view_name": "FigureView"
      }
     },
     "36cd42a679a342229c3018ca2b3ecc75": {
      "model_module": "@jupyter-widgets/output",
      "model_module_version": "1.0.0",
      "model_name": "OutputModel",
      "state": {
       "_dom_classes": [],
       "_model_module": "@jupyter-widgets/output",
       "_model_module_version": "1.0.0",
       "_model_name": "OutputModel",
       "_view_count": null,
       "_view_module": "@jupyter-widgets/output",
       "_view_module_version": "1.0.0",
       "_view_name": "OutputView",
       "layout": "IPY_MODEL_db28100bd8fb4215bb89113829876699",
       "msg_id": "",
       "outputs": []
      }
     },
     "4359700384264659ad73db92ab091757": {
      "model_module": "@jupyter-widgets/controls",
      "model_module_version": "1.5.0",
      "model_name": "ProgressStyleModel",
      "state": {
       "_model_module": "@jupyter-widgets/controls",
       "_model_module_version": "1.5.0",
       "_model_name": "ProgressStyleModel",
       "_view_count": null,
       "_view_module": "@jupyter-widgets/base",
       "_view_module_version": "1.2.0",
       "_view_name": "StyleView",
       "bar_color": null,
       "description_width": "initial"
      }
     },
     "49026c7c41fc4e4197c4c549512d1fb3": {
      "model_module": "@jupyter-widgets/base",
      "model_module_version": "1.2.0",
      "model_name": "LayoutModel",
      "state": {
       "_model_module": "@jupyter-widgets/base",
       "_model_module_version": "1.2.0",
       "_model_name": "LayoutModel",
       "_view_count": null,
       "_view_module": "@jupyter-widgets/base",
       "_view_module_version": "1.2.0",
       "_view_name": "LayoutView",
       "align_content": null,
       "align_items": null,
       "align_self": null,
       "border": null,
       "bottom": null,
       "display": null,
       "flex": null,
       "flex_flow": null,
       "grid_area": null,
       "grid_auto_columns": null,
       "grid_auto_flow": null,
       "grid_auto_rows": null,
       "grid_column": null,
       "grid_gap": null,
       "grid_row": null,
       "grid_template_areas": null,
       "grid_template_columns": null,
       "grid_template_rows": null,
       "height": null,
       "justify_content": null,
       "justify_items": null,
       "left": null,
       "margin": null,
       "max_height": null,
       "max_width": null,
       "min_height": null,
       "min_width": null,
       "object_fit": null,
       "object_position": null,
       "order": null,
       "overflow": null,
       "overflow_x": null,
       "overflow_y": null,
       "padding": null,
       "right": null,
       "top": null,
       "visibility": null,
       "width": null
      }
     },
     "4e9db7d701b3493185a5c24f3cf6a574": {
      "model_module": "@jupyter-widgets/controls",
      "model_module_version": "1.5.0",
      "model_name": "HTMLModel",
      "state": {
       "_dom_classes": [],
       "_model_module": "@jupyter-widgets/controls",
       "_model_module_version": "1.5.0",
       "_model_name": "HTMLModel",
       "_view_count": null,
       "_view_module": "@jupyter-widgets/controls",
       "_view_module_version": "1.5.0",
       "_view_name": "HTMLView",
       "description": "",
       "description_tooltip": null,
       "layout": "IPY_MODEL_ac52e5b2f4c741a9918c093ea7ac75dc",
       "placeholder": "​",
       "style": "IPY_MODEL_8569fef814574358b78c943e2e84ebb6",
       "value": "100% 84/84 [10:12&lt;00:00,  5.67s/pipeline]"
      }
     },
     "5809f5689316448ba6fc3107aebbeef0": {
      "model_module": "@jupyter-widgets/controls",
      "model_module_version": "1.5.0",
      "model_name": "IntProgressModel",
      "state": {
       "_dom_classes": [],
       "_model_module": "@jupyter-widgets/controls",
       "_model_module_version": "1.5.0",
       "_model_name": "IntProgressModel",
       "_view_count": null,
       "_view_module": "@jupyter-widgets/controls",
       "_view_module_version": "1.5.0",
       "_view_name": "ProgressView",
       "bar_style": "",
       "description": "Optimization Progress",
       "description_tooltip": null,
       "layout": "IPY_MODEL_e05e9e56bafe477da9bf29f7557d3682",
       "max": 84,
       "min": 0,
       "orientation": "horizontal",
       "style": "IPY_MODEL_4359700384264659ad73db92ab091757",
       "value": 84
      }
     },
     "647f8c7dea0649c9840ee677d8c1892c": {
      "model_module": "@jupyter-widgets/controls",
      "model_module_version": "1.5.0",
      "model_name": "SliderStyleModel",
      "state": {
       "_model_module": "@jupyter-widgets/controls",
       "_model_module_version": "1.5.0",
       "_model_name": "SliderStyleModel",
       "_view_count": null,
       "_view_module": "@jupyter-widgets/base",
       "_view_module_version": "1.2.0",
       "_view_name": "StyleView",
       "description_width": "",
       "handle_color": null
      }
     },
     "65c9385adad947a98e72cbb33f5f3c35": {
      "buffers": [
       {
        "data": "btu2bdu27T8svuIrvuLtPxZf8RVf8e0/LL7iK77i7T9YfMVXfMXtP1h8xVd8xe0/Qh3UQR3U7T9YfMVXfMXtPxZf8RVf8e0/6qAO6qAO7j8svuIrvuLtPwAAAAAAAO4/AAAAAAAA7j8svuIrvuLtP1h8xVd8xe0/Qh3UQR3U7T+EOqiDOqjtPyy+4iu+4u0/btu2bdu27T/FV3zFV3ztP7D4iq/4iu0/Qh3UQR3U7T8svuIrvuLtPyy+4iu+4u0/xVd8xVd87T/FV3zFV3ztP27btm3btu0/AAAAAAAA7j8svuIrvuLtPxZf8RVf8e0/LL7iK77i7T8WX/EVX/HtP1h8xVd8xe0/btu2bdu27T9CHdRBHdTtP27btm3btu0/Qh3UQR3U7T9u27Zt27btPyy+4iu+4u0/LL7iK77i7T8WX/EVX/HtP0Id1EEd1O0/btu2bdu27T9u27Zt27btP8VXfMVXfO0/WHzFV3zF7T8svuIrvuLtP0Id1EEd1O0/btu2bdu27T9YfMVXfMXtP0Id1EEd1O0/Fl/xFV/x7T8svuIrvuLtPyy+4iu+4u0/27Zt27Zt7T9YfMVXfMXtPwAAAAAAAO4/Qh3UQR3U7T9u27Zt27btPyy+4iu+4u0/LL7iK77i7T9CHdRBHdTtPyy+4iu+4u0/Qh3UQR3U7T9CHdRBHdTtP27btm3btu0/Qh3UQR3U7T9CHdRBHdTtP1h8xVd8xe0/Fl/xFV/x7T8svuIrvuLtP1h8xVd8xe0/Fl/xFV/x7T/FV3zFV3ztP0Id1EEd1O0/Qh3UQR3U7T9CHdRBHdTtP27btm3btu0/LL7iK77i7T9CHdRBHdTtPw==",
        "encoding": "base64",
        "path": [
         "_data",
         0,
         "marker",
         "color",
         "buffer"
        ]
       },
       {
        "data": "AAAAAADgYkAAAAAAAOBiQAAAAAAA4GJAAAAAAADgYkAAAAAAAOBiQAAAAAAA4GJA",
        "encoding": "base64",
        "path": [
         "_data",
         0,
         "x",
         "buffer"
        ]
       },
       {
        "data": "AAAAAAAAGEAAAAAAAAAYQAAAAAAAAChAAAAAAAAAEEAAAAAAAAAoQAAAAAAAACBA",
        "encoding": "base64",
        "path": [
         "_data",
         0,
         "y",
         "buffer"
        ]
       },
       {
        "data": "AAAAAAAAJEAAAAAAAAAkQAAAAAAAACRAAAAAAAAAHEAAAAAAAAAkQAAAAAAAACRA",
        "encoding": "base64",
        "path": [
         "_data",
         0,
         "z",
         "buffer"
        ]
       },
       {
        "data": "btu2bdu27T8svuIrvuLtPxZf8RVf8e0/LL7iK77i7T9YfMVXfMXtP1h8xVd8xe0/Qh3UQR3U7T9YfMVXfMXtPxZf8RVf8e0/6qAO6qAO7j8svuIrvuLtPwAAAAAAAO4/AAAAAAAA7j8svuIrvuLtP1h8xVd8xe0/Qh3UQR3U7T+EOqiDOqjtPyy+4iu+4u0/btu2bdu27T/FV3zFV3ztP7D4iq/4iu0/Qh3UQR3U7T8svuIrvuLtPyy+4iu+4u0/xVd8xVd87T/FV3zFV3ztP27btm3btu0/AAAAAAAA7j8svuIrvuLtPxZf8RVf8e0/LL7iK77i7T8WX/EVX/HtP1h8xVd8xe0/btu2bdu27T9CHdRBHdTtP27btm3btu0/Qh3UQR3U7T9u27Zt27btPyy+4iu+4u0/LL7iK77i7T8WX/EVX/HtP0Id1EEd1O0/btu2bdu27T9u27Zt27btP8VXfMVXfO0/WHzFV3zF7T8svuIrvuLtP0Id1EEd1O0/btu2bdu27T9YfMVXfMXtP0Id1EEd1O0/Fl/xFV/x7T8svuIrvuLtPyy+4iu+4u0/27Zt27Zt7T9YfMVXfMXtPwAAAAAAAO4/Qh3UQR3U7T9u27Zt27btPyy+4iu+4u0/LL7iK77i7T9CHdRBHdTtPyy+4iu+4u0/Qh3UQR3U7T9CHdRBHdTtP27btm3btu0/Qh3UQR3U7T9CHdRBHdTtP1h8xVd8xe0/Fl/xFV/x7T8svuIrvuLtP1h8xVd8xe0/Fl/xFV/x7T/FV3zFV3ztP0Id1EEd1O0/Qh3UQR3U7T9CHdRBHdTtP27btm3btu0/LL7iK77i7T9CHdRBHdTtPw==",
        "encoding": "base64",
        "path": [
         "_data",
         1,
         "marker",
         "color",
         "buffer"
        ]
       },
       {
        "data": "AAAAAACwcEAAAAAAALBwQAAAAAAAsHBAAAAAAACwcEAAAAAAALBwQAAAAAAAsHBAAAAAAACwcEAAAAAAALBwQAAAAAAAsHBAAAAAAACwcEAAAAAAALBwQAAAAAAAsHBA",
        "encoding": "base64",
        "path": [
         "_data",
         1,
         "x",
         "buffer"
        ]
       },
       {
        "data": "AAAAAAAAEEAAAAAAAAAgQAAAAAAAABhAAAAAAAAAEEAAAAAAAAAgQAAAAAAAABhAAAAAAAAAEEAAAAAAAAAYQAAAAAAAAChAAAAAAAAAGEAAAAAAAAAYQAAAAAAAABBA",
        "encoding": "base64",
        "path": [
         "_data",
         1,
         "y",
         "buffer"
        ]
       },
       {
        "data": "AAAAAAAALEAAAAAAAAAUQAAAAAAAACRAAAAAAAAAJEAAAAAAAAAsQAAAAAAAABxAAAAAAAAAHEAAAAAAAAAUQAAAAAAAABxAAAAAAAAAFEAAAAAAAAAsQAAAAAAAABxA",
        "encoding": "base64",
        "path": [
         "_data",
         1,
         "z",
         "buffer"
        ]
       },
       {
        "data": "btu2bdu27T8svuIrvuLtPxZf8RVf8e0/LL7iK77i7T9YfMVXfMXtP1h8xVd8xe0/Qh3UQR3U7T9YfMVXfMXtPxZf8RVf8e0/6qAO6qAO7j8svuIrvuLtPwAAAAAAAO4/AAAAAAAA7j8svuIrvuLtP1h8xVd8xe0/Qh3UQR3U7T+EOqiDOqjtPyy+4iu+4u0/btu2bdu27T/FV3zFV3ztP7D4iq/4iu0/Qh3UQR3U7T8svuIrvuLtPyy+4iu+4u0/xVd8xVd87T/FV3zFV3ztP27btm3btu0/AAAAAAAA7j8svuIrvuLtPxZf8RVf8e0/LL7iK77i7T8WX/EVX/HtP1h8xVd8xe0/btu2bdu27T9CHdRBHdTtP27btm3btu0/Qh3UQR3U7T9u27Zt27btPyy+4iu+4u0/LL7iK77i7T8WX/EVX/HtP0Id1EEd1O0/btu2bdu27T9u27Zt27btP8VXfMVXfO0/WHzFV3zF7T8svuIrvuLtP0Id1EEd1O0/btu2bdu27T9YfMVXfMXtP0Id1EEd1O0/Fl/xFV/x7T8svuIrvuLtPyy+4iu+4u0/27Zt27Zt7T9YfMVXfMXtPwAAAAAAAO4/Qh3UQR3U7T9u27Zt27btPyy+4iu+4u0/LL7iK77i7T9CHdRBHdTtPyy+4iu+4u0/Qh3UQR3U7T9CHdRBHdTtP27btm3btu0/Qh3UQR3U7T9CHdRBHdTtP1h8xVd8xe0/Fl/xFV/x7T8svuIrvuLtP1h8xVd8xe0/Fl/xFV/x7T/FV3zFV3ztP0Id1EEd1O0/Qh3UQR3U7T9CHdRBHdTtP27btm3btu0/LL7iK77i7T9CHdRBHdTtPw==",
        "encoding": "base64",
        "path": [
         "_data",
         2,
         "marker",
         "color",
         "buffer"
        ]
       },
       {
        "data": "AAAAAAAAeEAAAAAAAAB4QAAAAAAAAHhAAAAAAAAAeEAAAAAAAAB4QAAAAAAAAHhAAAAAAAAAeEAAAAAAAAB4QAAAAAAAAHhA",
        "encoding": "base64",
        "path": [
         "_data",
         2,
         "x",
         "buffer"
        ]
       },
       {
        "data": "AAAAAAAAGEAAAAAAAAAYQAAAAAAAAChAAAAAAAAAKEAAAAAAAAAQQAAAAAAAABhAAAAAAAAAKEAAAAAAAAAgQAAAAAAAABhA",
        "encoding": "base64",
        "path": [
         "_data",
         2,
         "y",
         "buffer"
        ]
       },
       {
        "data": "AAAAAAAALEAAAAAAAAAsQAAAAAAAACRAAAAAAAAAFEAAAAAAAAAcQAAAAAAAACRAAAAAAAAALEAAAAAAAAAUQAAAAAAAABxA",
        "encoding": "base64",
        "path": [
         "_data",
         2,
         "z",
         "buffer"
        ]
       },
       {
        "data": "btu2bdu27T8svuIrvuLtPxZf8RVf8e0/LL7iK77i7T9YfMVXfMXtP1h8xVd8xe0/Qh3UQR3U7T9YfMVXfMXtPxZf8RVf8e0/6qAO6qAO7j8svuIrvuLtPwAAAAAAAO4/AAAAAAAA7j8svuIrvuLtP1h8xVd8xe0/Qh3UQR3U7T+EOqiDOqjtPyy+4iu+4u0/btu2bdu27T/FV3zFV3ztP7D4iq/4iu0/Qh3UQR3U7T8svuIrvuLtPyy+4iu+4u0/xVd8xVd87T/FV3zFV3ztP27btm3btu0/AAAAAAAA7j8svuIrvuLtPxZf8RVf8e0/LL7iK77i7T8WX/EVX/HtP1h8xVd8xe0/btu2bdu27T9CHdRBHdTtP27btm3btu0/Qh3UQR3U7T9u27Zt27btPyy+4iu+4u0/LL7iK77i7T8WX/EVX/HtP0Id1EEd1O0/btu2bdu27T9u27Zt27btP8VXfMVXfO0/WHzFV3zF7T8svuIrvuLtP0Id1EEd1O0/btu2bdu27T9YfMVXfMXtP0Id1EEd1O0/Fl/xFV/x7T8svuIrvuLtPyy+4iu+4u0/27Zt27Zt7T9YfMVXfMXtPwAAAAAAAO4/Qh3UQR3U7T9u27Zt27btPyy+4iu+4u0/LL7iK77i7T9CHdRBHdTtPyy+4iu+4u0/Qh3UQR3U7T9CHdRBHdTtP27btm3btu0/Qh3UQR3U7T9CHdRBHdTtP1h8xVd8xe0/Fl/xFV/x7T8svuIrvuLtP1h8xVd8xe0/Fl/xFV/x7T/FV3zFV3ztP0Id1EEd1O0/Qh3UQR3U7T9CHdRBHdTtP27btm3btu0/LL7iK77i7T9CHdRBHdTtPw==",
        "encoding": "base64",
        "path": [
         "_data",
         3,
         "marker",
         "color",
         "buffer"
        ]
       },
       {
        "data": "AAAAAABAf0AAAAAAAEB/QAAAAAAAQH9AAAAAAABAf0AAAAAAAEB/QAAAAAAAQH9AAAAAAABAf0AAAAAAAEB/QAAAAAAAQH9AAAAAAABAf0A=",
        "encoding": "base64",
        "path": [
         "_data",
         3,
         "x",
         "buffer"
        ]
       },
       {
        "data": "AAAAAAAAGEAAAAAAAAAQQAAAAAAAABhAAAAAAAAAKEAAAAAAAAAgQAAAAAAAAChAAAAAAAAAIEAAAAAAAAAoQAAAAAAAACBAAAAAAAAAIEA=",
        "encoding": "base64",
        "path": [
         "_data",
         3,
         "y",
         "buffer"
        ]
       },
       {
        "data": "AAAAAAAAFEAAAAAAAAAcQAAAAAAAACRAAAAAAAAAHEAAAAAAAAAcQAAAAAAAACxAAAAAAAAAFEAAAAAAAAAkQAAAAAAAACRAAAAAAAAALEA=",
        "encoding": "base64",
        "path": [
         "_data",
         3,
         "z",
         "buffer"
        ]
       },
       {
        "data": "btu2bdu27T8svuIrvuLtPxZf8RVf8e0/LL7iK77i7T9YfMVXfMXtP1h8xVd8xe0/Qh3UQR3U7T9YfMVXfMXtPxZf8RVf8e0/6qAO6qAO7j8svuIrvuLtPwAAAAAAAO4/AAAAAAAA7j8svuIrvuLtP1h8xVd8xe0/Qh3UQR3U7T+EOqiDOqjtPyy+4iu+4u0/btu2bdu27T/FV3zFV3ztP7D4iq/4iu0/Qh3UQR3U7T8svuIrvuLtPyy+4iu+4u0/xVd8xVd87T/FV3zFV3ztP27btm3btu0/AAAAAAAA7j8svuIrvuLtPxZf8RVf8e0/LL7iK77i7T8WX/EVX/HtP1h8xVd8xe0/btu2bdu27T9CHdRBHdTtP27btm3btu0/Qh3UQR3U7T9u27Zt27btPyy+4iu+4u0/LL7iK77i7T8WX/EVX/HtP0Id1EEd1O0/btu2bdu27T9u27Zt27btP8VXfMVXfO0/WHzFV3zF7T8svuIrvuLtP0Id1EEd1O0/btu2bdu27T9YfMVXfMXtP0Id1EEd1O0/Fl/xFV/x7T8svuIrvuLtPyy+4iu+4u0/27Zt27Zt7T9YfMVXfMXtPwAAAAAAAO4/Qh3UQR3U7T9u27Zt27btPyy+4iu+4u0/LL7iK77i7T9CHdRBHdTtPyy+4iu+4u0/Qh3UQR3U7T9CHdRBHdTtP27btm3btu0/Qh3UQR3U7T9CHdRBHdTtP1h8xVd8xe0/Fl/xFV/x7T8svuIrvuLtP1h8xVd8xe0/Fl/xFV/x7T/FV3zFV3ztP0Id1EEd1O0/Qh3UQR3U7T9CHdRBHdTtP27btm3btu0/LL7iK77i7T9CHdRBHdTtPw==",
        "encoding": "base64",
        "path": [
         "_data",
         4,
         "marker",
         "color",
         "buffer"
        ]
       },
       {
        "data": "AAAAAABIg0AAAAAAAEiDQAAAAAAASINAAAAAAABIg0AAAAAAAEiDQA==",
        "encoding": "base64",
        "path": [
         "_data",
         4,
         "x",
         "buffer"
        ]
       },
       {
        "data": "AAAAAAAAEEAAAAAAAAAYQAAAAAAAACBAAAAAAAAAEEAAAAAAAAAgQA==",
        "encoding": "base64",
        "path": [
         "_data",
         4,
         "y",
         "buffer"
        ]
       },
       {
        "data": "AAAAAAAAFEAAAAAAAAAkQAAAAAAAACRAAAAAAAAAHEAAAAAAAAAUQA==",
        "encoding": "base64",
        "path": [
         "_data",
         4,
         "z",
         "buffer"
        ]
       },
       {
        "data": "btu2bdu27T8svuIrvuLtPxZf8RVf8e0/LL7iK77i7T9YfMVXfMXtP1h8xVd8xe0/Qh3UQR3U7T9YfMVXfMXtPxZf8RVf8e0/6qAO6qAO7j8svuIrvuLtPwAAAAAAAO4/AAAAAAAA7j8svuIrvuLtP1h8xVd8xe0/Qh3UQR3U7T+EOqiDOqjtPyy+4iu+4u0/btu2bdu27T/FV3zFV3ztP7D4iq/4iu0/Qh3UQR3U7T8svuIrvuLtPyy+4iu+4u0/xVd8xVd87T/FV3zFV3ztP27btm3btu0/AAAAAAAA7j8svuIrvuLtPxZf8RVf8e0/LL7iK77i7T8WX/EVX/HtP1h8xVd8xe0/btu2bdu27T9CHdRBHdTtP27btm3btu0/Qh3UQR3U7T9u27Zt27btPyy+4iu+4u0/LL7iK77i7T8WX/EVX/HtP0Id1EEd1O0/btu2bdu27T9u27Zt27btP8VXfMVXfO0/WHzFV3zF7T8svuIrvuLtP0Id1EEd1O0/btu2bdu27T9YfMVXfMXtP0Id1EEd1O0/Fl/xFV/x7T8svuIrvuLtPyy+4iu+4u0/27Zt27Zt7T9YfMVXfMXtPwAAAAAAAO4/Qh3UQR3U7T9u27Zt27btPyy+4iu+4u0/LL7iK77i7T9CHdRBHdTtPyy+4iu+4u0/Qh3UQR3U7T9CHdRBHdTtP27btm3btu0/Qh3UQR3U7T9CHdRBHdTtP1h8xVd8xe0/Fl/xFV/x7T8svuIrvuLtP1h8xVd8xe0/Fl/xFV/x7T/FV3zFV3ztP0Id1EEd1O0/Qh3UQR3U7T9CHdRBHdTtP27btm3btu0/LL7iK77i7T9CHdRBHdTtPw==",
        "encoding": "base64",
        "path": [
         "_data",
         5,
         "marker",
         "color",
         "buffer"
        ]
       },
       {
        "data": "AAAAAADohkAAAAAAAOiGQAAAAAAA6IZAAAAAAADohkAAAAAAAOiGQAAAAAAA6IZA",
        "encoding": "base64",
        "path": [
         "_data",
         5,
         "x",
         "buffer"
        ]
       },
       {
        "data": "AAAAAAAAIEAAAAAAAAAYQAAAAAAAACBAAAAAAAAAGEAAAAAAAAAYQAAAAAAAACBA",
        "encoding": "base64",
        "path": [
         "_data",
         5,
         "y",
         "buffer"
        ]
       },
       {
        "data": "AAAAAAAAHEAAAAAAAAAcQAAAAAAAACxAAAAAAAAAHEAAAAAAAAAkQAAAAAAAABxA",
        "encoding": "base64",
        "path": [
         "_data",
         5,
         "z",
         "buffer"
        ]
       },
       {
        "data": "btu2bdu27T8svuIrvuLtPxZf8RVf8e0/LL7iK77i7T9YfMVXfMXtP1h8xVd8xe0/Qh3UQR3U7T9YfMVXfMXtPxZf8RVf8e0/6qAO6qAO7j8svuIrvuLtPwAAAAAAAO4/AAAAAAAA7j8svuIrvuLtP1h8xVd8xe0/Qh3UQR3U7T+EOqiDOqjtPyy+4iu+4u0/btu2bdu27T/FV3zFV3ztP7D4iq/4iu0/Qh3UQR3U7T8svuIrvuLtPyy+4iu+4u0/xVd8xVd87T/FV3zFV3ztP27btm3btu0/AAAAAAAA7j8svuIrvuLtPxZf8RVf8e0/LL7iK77i7T8WX/EVX/HtP1h8xVd8xe0/btu2bdu27T9CHdRBHdTtP27btm3btu0/Qh3UQR3U7T9u27Zt27btPyy+4iu+4u0/LL7iK77i7T8WX/EVX/HtP0Id1EEd1O0/btu2bdu27T9u27Zt27btP8VXfMVXfO0/WHzFV3zF7T8svuIrvuLtP0Id1EEd1O0/btu2bdu27T9YfMVXfMXtP0Id1EEd1O0/Fl/xFV/x7T8svuIrvuLtPyy+4iu+4u0/27Zt27Zt7T9YfMVXfMXtPwAAAAAAAO4/Qh3UQR3U7T9u27Zt27btPyy+4iu+4u0/LL7iK77i7T9CHdRBHdTtPyy+4iu+4u0/Qh3UQR3U7T9CHdRBHdTtP27btm3btu0/Qh3UQR3U7T9CHdRBHdTtP1h8xVd8xe0/Fl/xFV/x7T8svuIrvuLtP1h8xVd8xe0/Fl/xFV/x7T/FV3zFV3ztP0Id1EEd1O0/Qh3UQR3U7T9CHdRBHdTtP27btm3btu0/LL7iK77i7T9CHdRBHdTtPw==",
        "encoding": "base64",
        "path": [
         "_data",
         6,
         "marker",
         "color",
         "buffer"
        ]
       },
       {
        "data": "AAAAAACQikAAAAAAAJCKQAAAAAAAkIpAAAAAAACQikAAAAAAAJCKQAAAAAAAkIpAAAAAAACQikAAAAAAAJCKQAAAAAAAkIpA",
        "encoding": "base64",
        "path": [
         "_data",
         6,
         "x",
         "buffer"
        ]
       },
       {
        "data": "AAAAAAAAEEAAAAAAAAAoQAAAAAAAAChAAAAAAAAAKEAAAAAAAAAgQAAAAAAAACBAAAAAAAAAGEAAAAAAAAAoQAAAAAAAAChA",
        "encoding": "base64",
        "path": [
         "_data",
         6,
         "y",
         "buffer"
        ]
       },
       {
        "data": "AAAAAAAAFEAAAAAAAAAcQAAAAAAAABxAAAAAAAAALEAAAAAAAAAkQAAAAAAAACxAAAAAAAAAHEAAAAAAAAAkQAAAAAAAABRA",
        "encoding": "base64",
        "path": [
         "_data",
         6,
         "z",
         "buffer"
        ]
       },
       {
        "data": "btu2bdu27T8svuIrvuLtPxZf8RVf8e0/LL7iK77i7T9YfMVXfMXtP1h8xVd8xe0/Qh3UQR3U7T9YfMVXfMXtPxZf8RVf8e0/6qAO6qAO7j8svuIrvuLtPwAAAAAAAO4/AAAAAAAA7j8svuIrvuLtP1h8xVd8xe0/Qh3UQR3U7T+EOqiDOqjtPyy+4iu+4u0/btu2bdu27T/FV3zFV3ztP7D4iq/4iu0/Qh3UQR3U7T8svuIrvuLtPyy+4iu+4u0/xVd8xVd87T/FV3zFV3ztP27btm3btu0/AAAAAAAA7j8svuIrvuLtPxZf8RVf8e0/LL7iK77i7T8WX/EVX/HtP1h8xVd8xe0/btu2bdu27T9CHdRBHdTtP27btm3btu0/Qh3UQR3U7T9u27Zt27btPyy+4iu+4u0/LL7iK77i7T8WX/EVX/HtP0Id1EEd1O0/btu2bdu27T9u27Zt27btP8VXfMVXfO0/WHzFV3zF7T8svuIrvuLtP0Id1EEd1O0/btu2bdu27T9YfMVXfMXtP0Id1EEd1O0/Fl/xFV/x7T8svuIrvuLtPyy+4iu+4u0/27Zt27Zt7T9YfMVXfMXtPwAAAAAAAO4/Qh3UQR3U7T9u27Zt27btPyy+4iu+4u0/LL7iK77i7T9CHdRBHdTtPyy+4iu+4u0/Qh3UQR3U7T9CHdRBHdTtP27btm3btu0/Qh3UQR3U7T9CHdRBHdTtP1h8xVd8xe0/Fl/xFV/x7T8svuIrvuLtP1h8xVd8xe0/Fl/xFV/x7T/FV3zFV3ztP0Id1EEd1O0/Qh3UQR3U7T9CHdRBHdTtP27btm3btu0/LL7iK77i7T9CHdRBHdTtPw==",
        "encoding": "base64",
        "path": [
         "_data",
         7,
         "marker",
         "color",
         "buffer"
        ]
       },
       {
        "data": "AAAAAAAwjkAAAAAAADCOQAAAAAAAMI5AAAAAAAAwjkAAAAAAADCOQAAAAAAAMI5AAAAAAAAwjkA=",
        "encoding": "base64",
        "path": [
         "_data",
         7,
         "x",
         "buffer"
        ]
       },
       {
        "data": "AAAAAAAAIEAAAAAAAAAoQAAAAAAAABBAAAAAAAAAKEAAAAAAAAAoQAAAAAAAAChAAAAAAAAAGEA=",
        "encoding": "base64",
        "path": [
         "_data",
         7,
         "y",
         "buffer"
        ]
       },
       {
        "data": "AAAAAAAAJEAAAAAAAAAkQAAAAAAAACRAAAAAAAAAFEAAAAAAAAAUQAAAAAAAACxAAAAAAAAAJEA=",
        "encoding": "base64",
        "path": [
         "_data",
         7,
         "z",
         "buffer"
        ]
       },
       {
        "data": "btu2bdu27T8svuIrvuLtPxZf8RVf8e0/LL7iK77i7T9YfMVXfMXtP1h8xVd8xe0/Qh3UQR3U7T9YfMVXfMXtPxZf8RVf8e0/6qAO6qAO7j8svuIrvuLtPwAAAAAAAO4/AAAAAAAA7j8svuIrvuLtP1h8xVd8xe0/Qh3UQR3U7T+EOqiDOqjtPyy+4iu+4u0/btu2bdu27T/FV3zFV3ztP7D4iq/4iu0/Qh3UQR3U7T8svuIrvuLtPyy+4iu+4u0/xVd8xVd87T/FV3zFV3ztP27btm3btu0/AAAAAAAA7j8svuIrvuLtPxZf8RVf8e0/LL7iK77i7T8WX/EVX/HtP1h8xVd8xe0/btu2bdu27T9CHdRBHdTtP27btm3btu0/Qh3UQR3U7T9u27Zt27btPyy+4iu+4u0/LL7iK77i7T8WX/EVX/HtP0Id1EEd1O0/btu2bdu27T9u27Zt27btP8VXfMVXfO0/WHzFV3zF7T8svuIrvuLtP0Id1EEd1O0/btu2bdu27T9YfMVXfMXtP0Id1EEd1O0/Fl/xFV/x7T8svuIrvuLtPyy+4iu+4u0/27Zt27Zt7T9YfMVXfMXtPwAAAAAAAO4/Qh3UQR3U7T9u27Zt27btPyy+4iu+4u0/LL7iK77i7T9CHdRBHdTtPyy+4iu+4u0/Qh3UQR3U7T9CHdRBHdTtP27btm3btu0/Qh3UQR3U7T9CHdRBHdTtP1h8xVd8xe0/Fl/xFV/x7T8svuIrvuLtP1h8xVd8xe0/Fl/xFV/x7T/FV3zFV3ztP0Id1EEd1O0/Qh3UQR3U7T9CHdRBHdTtP27btm3btu0/LL7iK77i7T9CHdRBHdTtPw==",
        "encoding": "base64",
        "path": [
         "_data",
         8,
         "marker",
         "color",
         "buffer"
        ]
       },
       {
        "data": "AAAAAADskEAAAAAAAOyQQAAAAAAA7JBAAAAAAADskEAAAAAAAOyQQAAAAAAA7JBA",
        "encoding": "base64",
        "path": [
         "_data",
         8,
         "x",
         "buffer"
        ]
       },
       {
        "data": "AAAAAAAAIEAAAAAAAAAoQAAAAAAAABhAAAAAAAAAKEAAAAAAAAAoQAAAAAAAACBA",
        "encoding": "base64",
        "path": [
         "_data",
         8,
         "y",
         "buffer"
        ]
       },
       {
        "data": "AAAAAAAAHEAAAAAAAAAsQAAAAAAAACRAAAAAAAAAFEAAAAAAAAAcQAAAAAAAABRA",
        "encoding": "base64",
        "path": [
         "_data",
         8,
         "z",
         "buffer"
        ]
       },
       {
        "data": "btu2bdu27T8svuIrvuLtPxZf8RVf8e0/LL7iK77i7T9YfMVXfMXtP1h8xVd8xe0/Qh3UQR3U7T9YfMVXfMXtPxZf8RVf8e0/6qAO6qAO7j8svuIrvuLtPwAAAAAAAO4/AAAAAAAA7j8svuIrvuLtP1h8xVd8xe0/Qh3UQR3U7T+EOqiDOqjtPyy+4iu+4u0/btu2bdu27T/FV3zFV3ztP7D4iq/4iu0/Qh3UQR3U7T8svuIrvuLtPyy+4iu+4u0/xVd8xVd87T/FV3zFV3ztP27btm3btu0/AAAAAAAA7j8svuIrvuLtPxZf8RVf8e0/LL7iK77i7T8WX/EVX/HtP1h8xVd8xe0/btu2bdu27T9CHdRBHdTtP27btm3btu0/Qh3UQR3U7T9u27Zt27btPyy+4iu+4u0/LL7iK77i7T8WX/EVX/HtP0Id1EEd1O0/btu2bdu27T9u27Zt27btP8VXfMVXfO0/WHzFV3zF7T8svuIrvuLtP0Id1EEd1O0/btu2bdu27T9YfMVXfMXtP0Id1EEd1O0/Fl/xFV/x7T8svuIrvuLtPyy+4iu+4u0/27Zt27Zt7T9YfMVXfMXtPwAAAAAAAO4/Qh3UQR3U7T9u27Zt27btPyy+4iu+4u0/LL7iK77i7T9CHdRBHdTtPyy+4iu+4u0/Qh3UQR3U7T9CHdRBHdTtP27btm3btu0/Qh3UQR3U7T9CHdRBHdTtP1h8xVd8xe0/Fl/xFV/x7T8svuIrvuLtP1h8xVd8xe0/Fl/xFV/x7T/FV3zFV3ztP0Id1EEd1O0/Qh3UQR3U7T9CHdRBHdTtP27btm3btu0/LL7iK77i7T9CHdRBHdTtPw==",
        "encoding": "base64",
        "path": [
         "_data",
         9,
         "marker",
         "color",
         "buffer"
        ]
       },
       {
        "data": "AAAAAADAkkAAAAAAAMCSQAAAAAAAwJJAAAAAAADAkkAAAAAAAMCSQAAAAAAAwJJAAAAAAADAkkAAAAAAAMCSQAAAAAAAwJJAAAAAAADAkkA=",
        "encoding": "base64",
        "path": [
         "_data",
         9,
         "x",
         "buffer"
        ]
       },
       {
        "data": "AAAAAAAAIEAAAAAAAAAYQAAAAAAAABhAAAAAAAAAEEAAAAAAAAAQQAAAAAAAACBAAAAAAAAAEEAAAAAAAAAYQAAAAAAAABBAAAAAAAAAGEA=",
        "encoding": "base64",
        "path": [
         "_data",
         9,
         "y",
         "buffer"
        ]
       },
       {
        "data": "AAAAAAAALEAAAAAAAAAsQAAAAAAAABRAAAAAAAAAJEAAAAAAAAAUQAAAAAAAACxAAAAAAAAALEAAAAAAAAAsQAAAAAAAABxAAAAAAAAALEA=",
        "encoding": "base64",
        "path": [
         "_data",
         9,
         "z",
         "buffer"
        ]
       }
      ],
      "model_module": "plotlywidget",
      "model_module_version": "^1.1.0",
      "model_name": "FigureModel",
      "state": {
       "_config": {
        "plotlyServerURL": "https://plot.ly"
       },
       "_data": [
        {
         "hoverinfo": "text",
         "marker": {
          "color": {
           "dtype": "float64",
           "shape": [
            80
           ]
          },
          "colorbar": {
           "title": {
            "text": "Cross-Validation Accuracy"
           }
          },
          "colorscale": [
           [
            0.0,
            "rgb(0,0,131)"
           ],
           [
            0.2,
            "rgb(0,60,170)"
           ],
           [
            0.4,
            "rgb(5,255,255)"
           ],
           [
            0.6,
            "rgb(255,255,0)"
           ],
           [
            0.8,
            "rgb(250,0,0)"
           ],
           [
            1.0,
            "rgb(128,0,0)"
           ]
          ],
          "size": 7
         },
         "mode": "markers",
         "showlegend": false,
         "text": [
          "max_features: auto<br>n_estimators: 151.0<br>min_samples_split: 10.0<br>Test score: 0.932<br>Training time: 0.441 s",
          "max_features: sqrt<br>n_estimators: 151.0<br>min_samples_split: 10.0<br>Test score: 0.927<br>Training time: 0.411 s",
          "max_features: auto<br>n_estimators: 151.0<br>min_samples_split: 10.0<br>Test score: 0.923<br>Training time: 0.396 s",
          "max_features: auto<br>n_estimators: 151.0<br>min_samples_split: 7.0<br>Test score: 0.932<br>Training time: 0.41 s",
          "max_features: auto<br>n_estimators: 151.0<br>min_samples_split: 10.0<br>Test score: 0.932<br>Training time: 0.438 s",
          "max_features: log2<br>n_estimators: 151.0<br>min_samples_split: 10.0<br>Test score: 0.932<br>Training time: 0.442 s"
         ],
         "type": "scatter3d",
         "uid": "417830dc-403c-4ae6-ad0b-af22c581a055",
         "x": {
          "dtype": "float64",
          "shape": [
           6
          ]
         },
         "y": {
          "dtype": "float64",
          "shape": [
           6
          ]
         },
         "z": {
          "dtype": "float64",
          "shape": [
           6
          ]
         }
        },
        {
         "hoverinfo": "text",
         "marker": {
          "color": {
           "dtype": "float64",
           "shape": [
            80
           ]
          },
          "colorbar": {
           "title": {
            "text": "Cross-Validation Accuracy"
           }
          },
          "colorscale": [
           [
            0.0,
            "rgb(0,0,131)"
           ],
           [
            0.2,
            "rgb(0,60,170)"
           ],
           [
            0.4,
            "rgb(5,255,255)"
           ],
           [
            0.6,
            "rgb(255,255,0)"
           ],
           [
            0.8,
            "rgb(250,0,0)"
           ],
           [
            1.0,
            "rgb(128,0,0)"
           ]
          ],
          "size": 7
         },
         "mode": "markers",
         "showlegend": false,
         "text": [
          "max_features: log2<br>n_estimators: 267.0<br>min_samples_split: 14.0<br>Test score: 0.929<br>Training time: 0.708 s",
          "max_features: auto<br>n_estimators: 267.0<br>min_samples_split: 5.0<br>Test score: 0.936<br>Training time: 0.791 s",
          "max_features: log2<br>n_estimators: 267.0<br>min_samples_split: 10.0<br>Test score: 0.932<br>Training time: 0.788 s",
          "max_features: None<br>n_estimators: 267.0<br>min_samples_split: 10.0<br>Test score: 0.93<br>Training time: 0.773 s",
          "max_features: auto<br>n_estimators: 267.0<br>min_samples_split: 14.0<br>Test score: 0.934<br>Training time: 0.712 s",
          "max_features: log2<br>n_estimators: 267.0<br>min_samples_split: 7.0<br>Test score: 0.934<br>Training time: 0.799 s",
          "max_features: None<br>n_estimators: 267.0<br>min_samples_split: 7.0<br>Test score: 0.934<br>Training time: 0.796 s",
          "max_features: sqrt<br>n_estimators: 267.0<br>min_samples_split: 5.0<br>Test score: 0.929<br>Training time: 0.714 s",
          "max_features: None<br>n_estimators: 267.0<br>min_samples_split: 7.0<br>Test score: 0.929<br>Training time: 0.857 s",
          "max_features: sqrt<br>n_estimators: 267.0<br>min_samples_split: 5.0<br>Test score: 0.932<br>Training time: 0.794 s",
          "max_features: auto<br>n_estimators: 267.0<br>min_samples_split: 14.0<br>Test score: 0.932<br>Training time: 0.795 s",
          "max_features: log2<br>n_estimators: 267.0<br>min_samples_split: 7.0<br>Test score: 0.936<br>Training time: 0.806 s"
         ],
         "type": "scatter3d",
         "uid": "c48631ce-6952-43aa-8384-0e143a2aa102",
         "x": {
          "dtype": "float64",
          "shape": [
           12
          ]
         },
         "y": {
          "dtype": "float64",
          "shape": [
           12
          ]
         },
         "z": {
          "dtype": "float64",
          "shape": [
           12
          ]
         }
        },
        {
         "hoverinfo": "text",
         "marker": {
          "color": {
           "dtype": "float64",
           "shape": [
            80
           ]
          },
          "colorbar": {
           "title": {
            "text": "Cross-Validation Accuracy"
           }
          },
          "colorscale": [
           [
            0.0,
            "rgb(0,0,131)"
           ],
           [
            0.2,
            "rgb(0,60,170)"
           ],
           [
            0.4,
            "rgb(5,255,255)"
           ],
           [
            0.6,
            "rgb(255,255,0)"
           ],
           [
            0.8,
            "rgb(250,0,0)"
           ],
           [
            1.0,
            "rgb(128,0,0)"
           ]
          ],
          "size": 7
         },
         "mode": "markers",
         "showlegend": false,
         "text": [
          "max_features: None<br>n_estimators: 384.0<br>min_samples_split: 14.0<br>Test score: 0.934<br>Training time: 1.285 s",
          "max_features: None<br>n_estimators: 384.0<br>min_samples_split: 14.0<br>Test score: 0.934<br>Training time: 1.301 s",
          "max_features: None<br>n_estimators: 384.0<br>min_samples_split: 10.0<br>Test score: 0.929<br>Training time: 1.251 s",
          "max_features: auto<br>n_estimators: 384.0<br>min_samples_split: 5.0<br>Test score: 0.921<br>Training time: 1.018 s",
          "max_features: sqrt<br>n_estimators: 384.0<br>min_samples_split: 7.0<br>Test score: 0.936<br>Training time: 1.038 s",
          "max_features: auto<br>n_estimators: 384.0<br>min_samples_split: 10.0<br>Test score: 0.93<br>Training time: 1.045 s",
          "max_features: sqrt<br>n_estimators: 384.0<br>min_samples_split: 14.0<br>Test score: 0.92<br>Training time: 1.002 s",
          "max_features: log2<br>n_estimators: 384.0<br>min_samples_split: 5.0<br>Test score: 0.934<br>Training time: 1.111 s",
          "max_features: log2<br>n_estimators: 384.0<br>min_samples_split: 7.0<br>Test score: 0.932<br>Training time: 1.031 s"
         ],
         "type": "scatter3d",
         "uid": "87db076d-cdf4-4d60-b453-d6a40e292121",
         "x": {
          "dtype": "float64",
          "shape": [
           9
          ]
         },
         "y": {
          "dtype": "float64",
          "shape": [
           9
          ]
         },
         "z": {
          "dtype": "float64",
          "shape": [
           9
          ]
         }
        },
        {
         "hoverinfo": "text",
         "marker": {
          "color": {
           "dtype": "float64",
           "shape": [
            80
           ]
          },
          "colorbar": {
           "title": {
            "text": "Cross-Validation Accuracy"
           }
          },
          "colorscale": [
           [
            0.0,
            "rgb(0,0,131)"
           ],
           [
            0.2,
            "rgb(0,60,170)"
           ],
           [
            0.4,
            "rgb(5,255,255)"
           ],
           [
            0.6,
            "rgb(255,255,0)"
           ],
           [
            0.8,
            "rgb(250,0,0)"
           ],
           [
            1.0,
            "rgb(128,0,0)"
           ]
          ],
          "size": 7
         },
         "mode": "markers",
         "showlegend": false,
         "text": [
          "max_features: sqrt<br>n_estimators: 500.0<br>min_samples_split: 5.0<br>Test score: 0.93<br>Training time: 1.327 s",
          "max_features: log2<br>n_estimators: 500.0<br>min_samples_split: 7.0<br>Test score: 0.939<br>Training time: 1.502 s",
          "max_features: auto<br>n_estimators: 500.0<br>min_samples_split: 10.0<br>Test score: 0.938<br>Training time: 1.483 s",
          "max_features: auto<br>n_estimators: 500.0<br>min_samples_split: 7.0<br>Test score: 0.921<br>Training time: 1.372 s",
          "max_features: auto<br>n_estimators: 500.0<br>min_samples_split: 7.0<br>Test score: 0.932<br>Training time: 1.499 s",
          "max_features: None<br>n_estimators: 500.0<br>min_samples_split: 14.0<br>Test score: 0.929<br>Training time: 1.602 s",
          "max_features: log2<br>n_estimators: 500.0<br>min_samples_split: 5.0<br>Test score: 0.932<br>Training time: 1.473 s",
          "max_features: None<br>n_estimators: 500.0<br>min_samples_split: 10.0<br>Test score: 0.929<br>Training time: 1.625 s",
          "max_features: sqrt<br>n_estimators: 500.0<br>min_samples_split: 10.0<br>Test score: 0.936<br>Training time: 1.532 s",
          "max_features: sqrt<br>n_estimators: 500.0<br>min_samples_split: 14.0<br>Test score: 0.932<br>Training time: 1.328 s"
         ],
         "type": "scatter3d",
         "uid": "12921490-021a-4b67-892a-f4a89c0813ab",
         "x": {
          "dtype": "float64",
          "shape": [
           10
          ]
         },
         "y": {
          "dtype": "float64",
          "shape": [
           10
          ]
         },
         "z": {
          "dtype": "float64",
          "shape": [
           10
          ]
         }
        },
        {
         "hoverinfo": "text",
         "marker": {
          "color": {
           "dtype": "float64",
           "shape": [
            80
           ]
          },
          "colorbar": {
           "title": {
            "text": "Cross-Validation Accuracy"
           }
          },
          "colorscale": [
           [
            0.0,
            "rgb(0,0,131)"
           ],
           [
            0.2,
            "rgb(0,60,170)"
           ],
           [
            0.4,
            "rgb(5,255,255)"
           ],
           [
            0.6,
            "rgb(255,255,0)"
           ],
           [
            0.8,
            "rgb(250,0,0)"
           ],
           [
            1.0,
            "rgb(128,0,0)"
           ]
          ],
          "size": 7
         },
         "mode": "markers",
         "showlegend": false,
         "text": [
          "max_features: auto<br>n_estimators: 617.0<br>min_samples_split: 5.0<br>Test score: 0.938<br>Training time: 1.862 s",
          "max_features: auto<br>n_estimators: 617.0<br>min_samples_split: 10.0<br>Test score: 0.934<br>Training time: 1.82 s",
          "max_features: None<br>n_estimators: 617.0<br>min_samples_split: 10.0<br>Test score: 0.93<br>Training time: 1.792 s",
          "max_features: None<br>n_estimators: 617.0<br>min_samples_split: 7.0<br>Test score: 0.938<br>Training time: 2.146 s",
          "max_features: None<br>n_estimators: 617.0<br>min_samples_split: 5.0<br>Test score: 0.929<br>Training time: 1.781 s"
         ],
         "type": "scatter3d",
         "uid": "3825f14c-f1ee-440f-95d9-248c04a228db",
         "x": {
          "dtype": "float64",
          "shape": [
           5
          ]
         },
         "y": {
          "dtype": "float64",
          "shape": [
           5
          ]
         },
         "z": {
          "dtype": "float64",
          "shape": [
           5
          ]
         }
        },
        {
         "hoverinfo": "text",
         "marker": {
          "color": {
           "dtype": "float64",
           "shape": [
            80
           ]
          },
          "colorbar": {
           "title": {
            "text": "Cross-Validation Accuracy"
           }
          },
          "colorscale": [
           [
            0.0,
            "rgb(0,0,131)"
           ],
           [
            0.2,
            "rgb(0,60,170)"
           ],
           [
            0.4,
            "rgb(5,255,255)"
           ],
           [
            0.6,
            "rgb(255,255,0)"
           ],
           [
            0.8,
            "rgb(250,0,0)"
           ],
           [
            1.0,
            "rgb(128,0,0)"
           ]
          ],
          "size": 7
         },
         "mode": "markers",
         "showlegend": false,
         "text": [
          "max_features: None<br>n_estimators: 733.0<br>min_samples_split: 7.0<br>Test score: 0.93<br>Training time: 2.464 s",
          "max_features: sqrt<br>n_estimators: 733.0<br>min_samples_split: 7.0<br>Test score: 0.934<br>Training time: 1.977 s",
          "max_features: None<br>n_estimators: 733.0<br>min_samples_split: 14.0<br>Test score: 0.932<br>Training time: 2.468 s",
          "max_features: log2<br>n_estimators: 733.0<br>min_samples_split: 7.0<br>Test score: 0.934<br>Training time: 2.134 s",
          "max_features: sqrt<br>n_estimators: 733.0<br>min_samples_split: 10.0<br>Test score: 0.936<br>Training time: 2.188 s",
          "max_features: None<br>n_estimators: 733.0<br>min_samples_split: 7.0<br>Test score: 0.932<br>Training time: 2.43 s"
         ],
         "type": "scatter3d",
         "uid": "ace9bd8b-8158-4193-9acc-cdbfb966a2f7",
         "x": {
          "dtype": "float64",
          "shape": [
           6
          ]
         },
         "y": {
          "dtype": "float64",
          "shape": [
           6
          ]
         },
         "z": {
          "dtype": "float64",
          "shape": [
           6
          ]
         }
        },
        {
         "hoverinfo": "text",
         "marker": {
          "color": {
           "dtype": "float64",
           "shape": [
            80
           ]
          },
          "colorbar": {
           "title": {
            "text": "Cross-Validation Accuracy"
           }
          },
          "colorscale": [
           [
            0.0,
            "rgb(0,0,131)"
           ],
           [
            0.2,
            "rgb(0,60,170)"
           ],
           [
            0.4,
            "rgb(5,255,255)"
           ],
           [
            0.6,
            "rgb(255,255,0)"
           ],
           [
            0.8,
            "rgb(250,0,0)"
           ],
           [
            1.0,
            "rgb(128,0,0)"
           ]
          ],
          "size": 7
         },
         "mode": "markers",
         "showlegend": false,
         "text": [
          "max_features: log2<br>n_estimators: 850.0<br>min_samples_split: 5.0<br>Test score: 0.934<br>Training time: 2.288 s",
          "max_features: auto<br>n_estimators: 850.0<br>min_samples_split: 7.0<br>Test score: 0.921<br>Training time: 2.217 s",
          "max_features: auto<br>n_estimators: 850.0<br>min_samples_split: 7.0<br>Test score: 0.921<br>Training time: 2.244 s",
          "max_features: auto<br>n_estimators: 850.0<br>min_samples_split: 14.0<br>Test score: 0.93<br>Training time: 2.436 s",
          "max_features: sqrt<br>n_estimators: 850.0<br>min_samples_split: 10.0<br>Test score: 0.934<br>Training time: 2.567 s",
          "max_features: log2<br>n_estimators: 850.0<br>min_samples_split: 14.0<br>Test score: 0.934<br>Training time: 2.491 s",
          "max_features: None<br>n_estimators: 850.0<br>min_samples_split: 7.0<br>Test score: 0.932<br>Training time: 2.441 s",
          "max_features: None<br>n_estimators: 850.0<br>min_samples_split: 10.0<br>Test score: 0.929<br>Training time: 2.733 s",
          "max_features: sqrt<br>n_estimators: 850.0<br>min_samples_split: 5.0<br>Test score: 0.932<br>Training time: 2.426 s"
         ],
         "type": "scatter3d",
         "uid": "c9007a6e-39f5-4909-9462-99f627beda48",
         "x": {
          "dtype": "float64",
          "shape": [
           9
          ]
         },
         "y": {
          "dtype": "float64",
          "shape": [
           9
          ]
         },
         "z": {
          "dtype": "float64",
          "shape": [
           9
          ]
         }
        },
        {
         "hoverinfo": "text",
         "marker": {
          "color": {
           "dtype": "float64",
           "shape": [
            80
           ]
          },
          "colorbar": {
           "title": {
            "text": "Cross-Validation Accuracy"
           }
          },
          "colorscale": [
           [
            0.0,
            "rgb(0,0,131)"
           ],
           [
            0.2,
            "rgb(0,60,170)"
           ],
           [
            0.4,
            "rgb(5,255,255)"
           ],
           [
            0.6,
            "rgb(255,255,0)"
           ],
           [
            0.8,
            "rgb(250,0,0)"
           ],
           [
            1.0,
            "rgb(128,0,0)"
           ]
          ],
          "size": 7
         },
         "mode": "markers",
         "showlegend": false,
         "text": [
          "max_features: sqrt<br>n_estimators: 966.0<br>min_samples_split: 10.0<br>Test score: 0.934<br>Training time: 2.804 s",
          "max_features: None<br>n_estimators: 966.0<br>min_samples_split: 10.0<br>Test score: 0.929<br>Training time: 3.108 s",
          "max_features: sqrt<br>n_estimators: 966.0<br>min_samples_split: 10.0<br>Test score: 0.936<br>Training time: 2.878 s",
          "max_features: None<br>n_estimators: 966.0<br>min_samples_split: 5.0<br>Test score: 0.929<br>Training time: 3.147 s",
          "max_features: log2<br>n_estimators: 966.0<br>min_samples_split: 5.0<br>Test score: 0.932<br>Training time: 2.854 s",
          "max_features: log2<br>n_estimators: 966.0<br>min_samples_split: 14.0<br>Test score: 0.921<br>Training time: 2.544 s",
          "max_features: None<br>n_estimators: 966.0<br>min_samples_split: 10.0<br>Test score: 0.934<br>Training time: 2.773 s"
         ],
         "type": "scatter3d",
         "uid": "fb8c34cd-d54f-4adc-bda7-f058e1e6f313",
         "x": {
          "dtype": "float64",
          "shape": [
           7
          ]
         },
         "y": {
          "dtype": "float64",
          "shape": [
           7
          ]
         },
         "z": {
          "dtype": "float64",
          "shape": [
           7
          ]
         }
        },
        {
         "hoverinfo": "text",
         "marker": {
          "color": {
           "dtype": "float64",
           "shape": [
            80
           ]
          },
          "colorbar": {
           "title": {
            "text": "Cross-Validation Accuracy"
           }
          },
          "colorscale": [
           [
            0.0,
            "rgb(0,0,131)"
           ],
           [
            0.2,
            "rgb(0,60,170)"
           ],
           [
            0.4,
            "rgb(5,255,255)"
           ],
           [
            0.6,
            "rgb(255,255,0)"
           ],
           [
            0.8,
            "rgb(250,0,0)"
           ],
           [
            1.0,
            "rgb(128,0,0)"
           ]
          ],
          "size": 7
         },
         "mode": "markers",
         "showlegend": false,
         "text": [
          "max_features: log2<br>n_estimators: 1083.0<br>min_samples_split: 7.0<br>Test score: 0.934<br>Training time: 3.185 s",
          "max_features: None<br>n_estimators: 1083.0<br>min_samples_split: 14.0<br>Test score: 0.929<br>Training time: 3.505 s",
          "max_features: None<br>n_estimators: 1083.0<br>min_samples_split: 10.0<br>Test score: 0.934<br>Training time: 3.782 s",
          "max_features: auto<br>n_estimators: 1083.0<br>min_samples_split: 5.0<br>Test score: 0.932<br>Training time: 3.09 s",
          "max_features: None<br>n_estimators: 1083.0<br>min_samples_split: 7.0<br>Test score: 0.929<br>Training time: 3.456 s",
          "max_features: sqrt<br>n_estimators: 1083.0<br>min_samples_split: 5.0<br>Test score: 0.93<br>Training time: 2.886 s"
         ],
         "type": "scatter3d",
         "uid": "bedb562a-94cd-4b9c-bc1e-c5ed95ef6823",
         "x": {
          "dtype": "float64",
          "shape": [
           6
          ]
         },
         "y": {
          "dtype": "float64",
          "shape": [
           6
          ]
         },
         "z": {
          "dtype": "float64",
          "shape": [
           6
          ]
         }
        },
        {
         "hoverinfo": "text",
         "marker": {
          "color": {
           "dtype": "float64",
           "shape": [
            80
           ]
          },
          "colorbar": {
           "title": {
            "text": "Cross-Validation Accuracy"
           }
          },
          "colorscale": [
           [
            0.0,
            "rgb(0,0,131)"
           ],
           [
            0.2,
            "rgb(0,60,170)"
           ],
           [
            0.4,
            "rgb(5,255,255)"
           ],
           [
            0.6,
            "rgb(255,255,0)"
           ],
           [
            0.8,
            "rgb(250,0,0)"
           ],
           [
            1.0,
            "rgb(128,0,0)"
           ]
          ],
          "size": 7
         },
         "mode": "markers",
         "showlegend": false,
         "text": [
          "max_features: None<br>n_estimators: 1200.0<br>min_samples_split: 14.0<br>Test score: 0.93<br>Training time: 4.027 s",
          "max_features: sqrt<br>n_estimators: 1200.0<br>min_samples_split: 14.0<br>Test score: 0.936<br>Training time: 3.539 s",
          "max_features: auto<br>n_estimators: 1200.0<br>min_samples_split: 5.0<br>Test score: 0.934<br>Training time: 3.666 s",
          "max_features: auto<br>n_estimators: 1200.0<br>min_samples_split: 10.0<br>Test score: 0.938<br>Training time: 3.568 s",
          "max_features: None<br>n_estimators: 1200.0<br>min_samples_split: 5.0<br>Test score: 0.936<br>Training time: 4.213 s",
          "max_features: auto<br>n_estimators: 1200.0<br>min_samples_split: 14.0<br>Test score: 0.932<br>Training time: 3.173 s",
          "max_features: log2<br>n_estimators: 1200.0<br>min_samples_split: 14.0<br>Test score: 0.93<br>Training time: 3.235 s",
          "max_features: log2<br>n_estimators: 1200.0<br>min_samples_split: 14.0<br>Test score: 0.934<br>Training time: 3.534 s",
          "max_features: None<br>n_estimators: 1200.0<br>min_samples_split: 7.0<br>Test score: 0.934<br>Training time: 3.546 s",
          "max_features: auto<br>n_estimators: 1200.0<br>min_samples_split: 14.0<br>Test score: 0.93<br>Training time: 3.24 s"
         ],
         "type": "scatter3d",
         "uid": "8f1fdebe-e66d-4a1f-b42a-64c8fbe7a709",
         "x": {
          "dtype": "float64",
          "shape": [
           10
          ]
         },
         "y": {
          "dtype": "float64",
          "shape": [
           10
          ]
         },
         "z": {
          "dtype": "float64",
          "shape": [
           10
          ]
         }
        }
       ],
       "_dom_classes": [],
       "_js2py_layoutDelta": {},
       "_js2py_pointsCallback": {},
       "_js2py_relayout": {},
       "_js2py_restyle": {},
       "_js2py_traceDeltas": {},
       "_js2py_update": {},
       "_last_layout_edit_id": 0,
       "_last_trace_edit_id": 0,
       "_layout": {
        "height": 600,
        "scene": {
         "camera": {
          "center": {
           "x": 0,
           "y": 0,
           "z": 0
          },
          "eye": {
           "x": 2,
           "y": 2,
           "z": 1.25
          },
          "up": {
           "x": 0,
           "y": 0,
           "z": 1
          }
         },
         "xaxis": {
          "title": {
           "text": "n_estimators"
          }
         },
         "yaxis": {
          "title": {
           "text": "min_leaf"
          },
          "type": "log"
         },
         "zaxis": {
          "title": {
           "text": "min_split"
          },
          "type": "log"
         }
        },
        "sliders": [
         {
          "active": 4,
          "currentvalue": {
           "prefix": "n_estimators: "
          },
          "len": 0.5,
          "pad": {
           "b": 20,
           "t": 10
          },
          "steps": [
           {
            "args": [
             "visible",
             [
              true,
              false,
              false,
              false,
              false,
              false,
              false,
              false,
              false,
              false,
              false,
              false,
              false,
              false,
              false,
              false,
              false,
              false,
              false,
              false
             ]
            ],
            "label": "151.0",
            "method": "restyle"
           },
           {
            "args": [
             "visible",
             [
              false,
              true,
              false,
              false,
              false,
              false,
              false,
              false,
              false,
              false,
              false,
              false,
              false,
              false,
              false,
              false,
              false,
              false,
              false,
              false
             ]
            ],
            "label": "267.0",
            "method": "restyle"
           },
           {
            "args": [
             "visible",
             [
              false,
              false,
              true,
              false,
              false,
              false,
              false,
              false,
              false,
              false,
              false,
              false,
              false,
              false,
              false,
              false,
              false,
              false,
              false,
              false
             ]
            ],
            "label": "384.0",
            "method": "restyle"
           },
           {
            "args": [
             "visible",
             [
              false,
              false,
              false,
              true,
              false,
              false,
              false,
              false,
              false,
              false,
              false,
              false,
              false,
              false,
              false,
              false,
              false,
              false,
              false,
              false
             ]
            ],
            "label": "500.0",
            "method": "restyle"
           },
           {
            "args": [
             "visible",
             [
              false,
              false,
              false,
              false,
              true,
              false,
              false,
              false,
              false,
              false,
              false,
              false,
              false,
              false,
              false,
              false,
              false,
              false,
              false,
              false
             ]
            ],
            "label": "617.0",
            "method": "restyle"
           },
           {
            "args": [
             "visible",
             [
              false,
              false,
              false,
              false,
              false,
              true,
              false,
              false,
              false,
              false,
              false,
              false,
              false,
              false,
              false,
              false,
              false,
              false,
              false,
              false
             ]
            ],
            "label": "733.0",
            "method": "restyle"
           },
           {
            "args": [
             "visible",
             [
              false,
              false,
              false,
              false,
              false,
              false,
              true,
              false,
              false,
              false,
              false,
              false,
              false,
              false,
              false,
              false,
              false,
              false,
              false,
              false
             ]
            ],
            "label": "850.0",
            "method": "restyle"
           },
           {
            "args": [
             "visible",
             [
              false,
              false,
              false,
              false,
              false,
              false,
              false,
              true,
              false,
              false,
              false,
              false,
              false,
              false,
              false,
              false,
              false,
              false,
              false,
              false
             ]
            ],
            "label": "966.0",
            "method": "restyle"
           },
           {
            "args": [
             "visible",
             [
              false,
              false,
              false,
              false,
              false,
              false,
              false,
              false,
              true,
              false,
              false,
              false,
              false,
              false,
              false,
              false,
              false,
              false,
              false,
              false
             ]
            ],
            "label": "1083.0",
            "method": "restyle"
           },
           {
            "args": [
             "visible",
             [
              false,
              false,
              false,
              false,
              false,
              false,
              false,
              false,
              false,
              true,
              false,
              false,
              false,
              false,
              false,
              false,
              false,
              false,
              false,
              false
             ]
            ],
            "label": "1200.0",
            "method": "restyle"
           }
          ],
          "x": 0.5,
          "xanchor": "center"
         }
        ],
        "title": {
         "text": "Cross-Validation Accuracy Varying Hyperparameters"
        },
        "width": 700
       },
       "_model_module": "plotlywidget",
       "_model_module_version": "^1.1.0",
       "_model_name": "FigureModel",
       "_py2js_addTraces": {},
       "_py2js_animate": {},
       "_py2js_deleteTraces": {},
       "_py2js_moveTraces": {},
       "_py2js_relayout": null,
       "_py2js_removeLayoutProps": {},
       "_py2js_removeTraceProps": {},
       "_py2js_restyle": {},
       "_py2js_update": {},
       "_view_count": 0,
       "_view_module": "plotlywidget",
       "_view_module_version": "^1.1.0",
       "_view_name": "FigureView"
      }
     },
     "71addeaf28cd4c05b158cb9a4a9f80eb": {
      "model_module": "@jupyter-widgets/base",
      "model_module_version": "1.2.0",
      "model_name": "LayoutModel",
      "state": {
       "_model_module": "@jupyter-widgets/base",
       "_model_module_version": "1.2.0",
       "_model_name": "LayoutModel",
       "_view_count": null,
       "_view_module": "@jupyter-widgets/base",
       "_view_module_version": "1.2.0",
       "_view_name": "LayoutView",
       "align_content": null,
       "align_items": null,
       "align_self": null,
       "border": null,
       "bottom": null,
       "display": null,
       "flex": null,
       "flex_flow": null,
       "grid_area": null,
       "grid_auto_columns": null,
       "grid_auto_flow": null,
       "grid_auto_rows": null,
       "grid_column": null,
       "grid_gap": null,
       "grid_row": null,
       "grid_template_areas": null,
       "grid_template_columns": null,
       "grid_template_rows": null,
       "height": null,
       "justify_content": null,
       "justify_items": null,
       "left": null,
       "margin": null,
       "max_height": null,
       "max_width": null,
       "min_height": null,
       "min_width": null,
       "object_fit": null,
       "object_position": null,
       "order": null,
       "overflow": null,
       "overflow_x": null,
       "overflow_y": null,
       "padding": null,
       "right": null,
       "top": null,
       "visibility": null,
       "width": "700px"
      }
     },
     "82eed30d030043e8aa3d6b21cf1f5bdc": {
      "buffers": [
       {
        "data": "btu2bdu27T8svuIrvuLtPxZf8RVf8e0/LL7iK77i7T9YfMVXfMXtP1h8xVd8xe0/Qh3UQR3U7T9YfMVXfMXtPxZf8RVf8e0/6qAO6qAO7j8svuIrvuLtPwAAAAAAAO4/AAAAAAAA7j8svuIrvuLtP1h8xVd8xe0/Qh3UQR3U7T+EOqiDOqjtPyy+4iu+4u0/btu2bdu27T/FV3zFV3ztP7D4iq/4iu0/Qh3UQR3U7T8svuIrvuLtPyy+4iu+4u0/xVd8xVd87T/FV3zFV3ztP27btm3btu0/AAAAAAAA7j8svuIrvuLtPxZf8RVf8e0/LL7iK77i7T8WX/EVX/HtP1h8xVd8xe0/btu2bdu27T9CHdRBHdTtP27btm3btu0/Qh3UQR3U7T9u27Zt27btPyy+4iu+4u0/LL7iK77i7T8WX/EVX/HtP0Id1EEd1O0/btu2bdu27T9u27Zt27btP8VXfMVXfO0/WHzFV3zF7T8svuIrvuLtP0Id1EEd1O0/btu2bdu27T9YfMVXfMXtP0Id1EEd1O0/Fl/xFV/x7T8svuIrvuLtPyy+4iu+4u0/27Zt27Zt7T9YfMVXfMXtPwAAAAAAAO4/Qh3UQR3U7T9u27Zt27btPyy+4iu+4u0/LL7iK77i7T9CHdRBHdTtPyy+4iu+4u0/Qh3UQR3U7T9CHdRBHdTtP27btm3btu0/Qh3UQR3U7T9CHdRBHdTtP1h8xVd8xe0/Fl/xFV/x7T8svuIrvuLtP1h8xVd8xe0/Fl/xFV/x7T/FV3zFV3ztP0Id1EEd1O0/Qh3UQR3U7T9CHdRBHdTtP27btm3btu0/LL7iK77i7T9CHdRBHdTtPw==",
        "encoding": "base64",
        "path": [
         "_data",
         0,
         "marker",
         "color",
         "buffer"
        ]
       },
       {
        "data": "AAAAAACwcEAAAAAAADCOQAAAAAAAsHBAAAAAAACQikAAAAAAAOiGQAAAAAAAwJJAAAAAAACwcEAAAAAAAEB/QAAAAAAAwJJAAAAAAABAf0AAAAAAAAB4QAAAAAAASINAAAAAAABAf0AAAAAAAAB4QAAAAAAAsHBAAAAAAADgYkAAAAAAAOBiQAAAAAAASINAAAAAAAAAeEAAAAAAAEB/QAAAAAAA4GJAAAAAAABAf0AAAAAAAMCSQAAAAAAAsHBAAAAAAAAAeEAAAAAAAJCKQAAAAAAAMI5AAAAAAADAkkAAAAAAALBwQAAAAAAAMI5AAAAAAADskEAAAAAAAAB4QAAAAAAASINAAAAAAABAf0AAAAAAAEB/QAAAAAAA7JBAAAAAAADgYkAAAAAAADCOQAAAAAAAsHBAAAAAAADohkAAAAAAAMCSQAAAAAAAwJJAAAAAAACwcEAAAAAAAEB/QAAAAAAAkIpAAAAAAAAAeEAAAAAAAOyQQAAAAAAA6IZAAAAAAACwcEAAAAAAAJCKQAAAAAAAMI5AAAAAAABAf0AAAAAAAJCKQAAAAAAAkIpAAAAAAAAAeEAAAAAAAMCSQAAAAAAASINAAAAAAACwcEAAAAAAAEiDQAAAAAAAAHhAAAAAAADohkAAAAAAALBwQAAAAAAAwJJAAAAAAADskEAAAAAAAAB4QAAAAAAA7JBAAAAAAADgYkAAAAAAAEB/QAAAAAAA7JBAAAAAAACwcEAAAAAAAMCSQAAAAAAAwJJAAAAAAADohkAAAAAAADCOQAAAAAAAkIpAAAAAAADgYkAAAAAAAOiGQAAAAAAAkIpAAAAAAAAwjkAAAAAAAJCKQA==",
        "encoding": "base64",
        "path": [
         "_data",
         0,
         "x",
         "buffer"
        ]
       },
       {
        "data": "AAAAAAAAEEAAAAAAAAAgQAAAAAAAACBAAAAAAAAAEEAAAAAAAAAgQAAAAAAAACBAAAAAAAAAGEAAAAAAAAAYQAAAAAAAABhAAAAAAAAAEEAAAAAAAAAYQAAAAAAAABBAAAAAAAAAGEAAAAAAAAAYQAAAAAAAABBAAAAAAAAAGEAAAAAAAAAYQAAAAAAAABhAAAAAAAAAKEAAAAAAAAAoQAAAAAAAAChAAAAAAAAAIEAAAAAAAAAYQAAAAAAAACBAAAAAAAAAKEAAAAAAAAAoQAAAAAAAAChAAAAAAAAAEEAAAAAAAAAYQAAAAAAAABBAAAAAAAAAIEAAAAAAAAAQQAAAAAAAACBAAAAAAAAAKEAAAAAAAAAgQAAAAAAAAChAAAAAAAAAEEAAAAAAAAAoQAAAAAAAABBAAAAAAAAAGEAAAAAAAAAQQAAAAAAAACBAAAAAAAAAGEAAAAAAAAAoQAAAAAAAAChAAAAAAAAAGEAAAAAAAAAYQAAAAAAAACBAAAAAAAAAKEAAAAAAAAAoQAAAAAAAAChAAAAAAAAAIEAAAAAAAAAgQAAAAAAAACBAAAAAAAAAKEAAAAAAAAAQQAAAAAAAABBAAAAAAAAAGEAAAAAAAAAgQAAAAAAAACBAAAAAAAAAGEAAAAAAAAAYQAAAAAAAABhAAAAAAAAAKEAAAAAAAAAYQAAAAAAAAChAAAAAAAAAKEAAAAAAAAAgQAAAAAAAACBAAAAAAAAAEEAAAAAAAAAQQAAAAAAAABhAAAAAAAAAGEAAAAAAAAAoQAAAAAAAABhAAAAAAAAAIEAAAAAAAAAgQAAAAAAAAChAAAAAAAAAGEAAAAAAAAAoQA==",
        "encoding": "base64",
        "path": [
         "_data",
         0,
         "y",
         "buffer"
        ]
       },
       {
        "data": "AAAAAAAALEAAAAAAAAAkQAAAAAAAABRAAAAAAAAAFEAAAAAAAAAcQAAAAAAAACxAAAAAAAAAJEAAAAAAAAAUQAAAAAAAACxAAAAAAAAAHEAAAAAAAAAsQAAAAAAAABRAAAAAAAAAJEAAAAAAAAAsQAAAAAAAACRAAAAAAAAAJEAAAAAAAAAkQAAAAAAAACRAAAAAAAAAJEAAAAAAAAAcQAAAAAAAACRAAAAAAAAAHEAAAAAAAAAUQAAAAAAAACxAAAAAAAAAFEAAAAAAAAAcQAAAAAAAACRAAAAAAAAAJEAAAAAAAAAcQAAAAAAAACRAAAAAAAAAHEAAAAAAAAAcQAAAAAAAACRAAAAAAAAALEAAAAAAAAAUQAAAAAAAACxAAAAAAAAAHEAAAAAAAAAUQAAAAAAAABxAAAAAAAAAHEAAAAAAAAAUQAAAAAAAACxAAAAAAAAAFEAAAAAAAAAkQAAAAAAAABxAAAAAAAAAJEAAAAAAAAAkQAAAAAAAACxAAAAAAAAAHEAAAAAAAAAsQAAAAAAAABRAAAAAAAAAJEAAAAAAAAAkQAAAAAAAACxAAAAAAAAALEAAAAAAAAAsQAAAAAAAABxAAAAAAAAAFEAAAAAAAAAUQAAAAAAAABRAAAAAAAAAHEAAAAAAAAAsQAAAAAAAACxAAAAAAAAAFEAAAAAAAAAcQAAAAAAAABxAAAAAAAAAJEAAAAAAAAAsQAAAAAAAABRAAAAAAAAAHEAAAAAAAAAcQAAAAAAAACxAAAAAAAAAJEAAAAAAAAAsQAAAAAAAABxAAAAAAAAAJEAAAAAAAAAcQAAAAAAAACRAAAAAAAAAJEAAAAAAAAAUQA==",
        "encoding": "base64",
        "path": [
         "_data",
         0,
         "z",
         "buffer"
        ]
       }
      ],
      "model_module": "plotlywidget",
      "model_module_version": "^1.1.0",
      "model_name": "FigureModel",
      "state": {
       "_config": {
        "plotlyServerURL": "https://plot.ly"
       },
       "_data": [
        {
         "hoverinfo": "text",
         "marker": {
          "color": {
           "dtype": "float64",
           "shape": [
            80
           ]
          },
          "colorbar": {
           "title": {
            "text": "Cross-Validation Accuracy"
           }
          },
          "colorscale": [
           [
            0.0,
            "rgb(0,0,131)"
           ],
           [
            0.2,
            "rgb(0,60,170)"
           ],
           [
            0.4,
            "rgb(5,255,255)"
           ],
           [
            0.6,
            "rgb(255,255,0)"
           ],
           [
            0.8,
            "rgb(250,0,0)"
           ],
           [
            1.0,
            "rgb(128,0,0)"
           ]
          ],
          "size": 7
         },
         "mode": "markers",
         "text": [
          "max_features: log2<br>n_estimators: 267.0<br>min_samples_split: 14.0<br>Test score: 0.929<br>Training time: 0.708 s",
          "max_features: sqrt<br>n_estimators: 966.0<br>min_samples_split: 10.0<br>Test score: 0.934<br>Training time: 2.804 s",
          "max_features: auto<br>n_estimators: 267.0<br>min_samples_split: 5.0<br>Test score: 0.936<br>Training time: 0.791 s",
          "max_features: log2<br>n_estimators: 850.0<br>min_samples_split: 5.0<br>Test score: 0.934<br>Training time: 2.288 s",
          "max_features: None<br>n_estimators: 733.0<br>min_samples_split: 7.0<br>Test score: 0.93<br>Training time: 2.464 s",
          "max_features: None<br>n_estimators: 1200.0<br>min_samples_split: 14.0<br>Test score: 0.93<br>Training time: 4.027 s",
          "max_features: log2<br>n_estimators: 267.0<br>min_samples_split: 10.0<br>Test score: 0.932<br>Training time: 0.788 s",
          "max_features: sqrt<br>n_estimators: 500.0<br>min_samples_split: 5.0<br>Test score: 0.93<br>Training time: 1.327 s",
          "max_features: sqrt<br>n_estimators: 1200.0<br>min_samples_split: 14.0<br>Test score: 0.936<br>Training time: 3.539 s",
          "max_features: log2<br>n_estimators: 500.0<br>min_samples_split: 7.0<br>Test score: 0.939<br>Training time: 1.502 s",
          "max_features: None<br>n_estimators: 384.0<br>min_samples_split: 14.0<br>Test score: 0.934<br>Training time: 1.285 s",
          "max_features: auto<br>n_estimators: 617.0<br>min_samples_split: 5.0<br>Test score: 0.938<br>Training time: 1.862 s",
          "max_features: auto<br>n_estimators: 500.0<br>min_samples_split: 10.0<br>Test score: 0.938<br>Training time: 1.483 s",
          "max_features: None<br>n_estimators: 384.0<br>min_samples_split: 14.0<br>Test score: 0.934<br>Training time: 1.301 s",
          "max_features: None<br>n_estimators: 267.0<br>min_samples_split: 10.0<br>Test score: 0.93<br>Training time: 0.773 s",
          "max_features: auto<br>n_estimators: 151.0<br>min_samples_split: 10.0<br>Test score: 0.932<br>Training time: 0.441 s",
          "max_features: sqrt<br>n_estimators: 151.0<br>min_samples_split: 10.0<br>Test score: 0.927<br>Training time: 0.411 s",
          "max_features: auto<br>n_estimators: 617.0<br>min_samples_split: 10.0<br>Test score: 0.934<br>Training time: 1.82 s",
          "max_features: None<br>n_estimators: 384.0<br>min_samples_split: 10.0<br>Test score: 0.929<br>Training time: 1.251 s",
          "max_features: auto<br>n_estimators: 500.0<br>min_samples_split: 7.0<br>Test score: 0.921<br>Training time: 1.372 s",
          "max_features: auto<br>n_estimators: 151.0<br>min_samples_split: 10.0<br>Test score: 0.923<br>Training time: 0.396 s",
          "max_features: auto<br>n_estimators: 500.0<br>min_samples_split: 7.0<br>Test score: 0.932<br>Training time: 1.499 s",
          "max_features: auto<br>n_estimators: 1200.0<br>min_samples_split: 5.0<br>Test score: 0.934<br>Training time: 3.666 s",
          "max_features: auto<br>n_estimators: 267.0<br>min_samples_split: 14.0<br>Test score: 0.934<br>Training time: 0.712 s",
          "max_features: auto<br>n_estimators: 384.0<br>min_samples_split: 5.0<br>Test score: 0.921<br>Training time: 1.018 s",
          "max_features: auto<br>n_estimators: 850.0<br>min_samples_split: 7.0<br>Test score: 0.921<br>Training time: 2.217 s",
          "max_features: None<br>n_estimators: 966.0<br>min_samples_split: 10.0<br>Test score: 0.929<br>Training time: 3.108 s",
          "max_features: auto<br>n_estimators: 1200.0<br>min_samples_split: 10.0<br>Test score: 0.938<br>Training time: 3.568 s",
          "max_features: log2<br>n_estimators: 267.0<br>min_samples_split: 7.0<br>Test score: 0.934<br>Training time: 0.799 s",
          "max_features: sqrt<br>n_estimators: 966.0<br>min_samples_split: 10.0<br>Test score: 0.936<br>Training time: 2.878 s",
          "max_features: log2<br>n_estimators: 1083.0<br>min_samples_split: 7.0<br>Test score: 0.934<br>Training time: 3.185 s",
          "max_features: sqrt<br>n_estimators: 384.0<br>min_samples_split: 7.0<br>Test score: 0.936<br>Training time: 1.038 s",
          "max_features: None<br>n_estimators: 617.0<br>min_samples_split: 10.0<br>Test score: 0.93<br>Training time: 1.792 s",
          "max_features: None<br>n_estimators: 500.0<br>min_samples_split: 14.0<br>Test score: 0.929<br>Training time: 1.602 s",
          "max_features: log2<br>n_estimators: 500.0<br>min_samples_split: 5.0<br>Test score: 0.932<br>Training time: 1.473 s",
          "max_features: None<br>n_estimators: 1083.0<br>min_samples_split: 14.0<br>Test score: 0.929<br>Training time: 3.505 s",
          "max_features: auto<br>n_estimators: 151.0<br>min_samples_split: 7.0<br>Test score: 0.932<br>Training time: 0.41 s",
          "max_features: None<br>n_estimators: 966.0<br>min_samples_split: 5.0<br>Test score: 0.929<br>Training time: 3.147 s",
          "max_features: None<br>n_estimators: 267.0<br>min_samples_split: 7.0<br>Test score: 0.934<br>Training time: 0.796 s",
          "max_features: sqrt<br>n_estimators: 733.0<br>min_samples_split: 7.0<br>Test score: 0.934<br>Training time: 1.977 s",
          "max_features: None<br>n_estimators: 1200.0<br>min_samples_split: 5.0<br>Test score: 0.936<br>Training time: 4.213 s",
          "max_features: auto<br>n_estimators: 1200.0<br>min_samples_split: 14.0<br>Test score: 0.932<br>Training time: 3.173 s",
          "max_features: sqrt<br>n_estimators: 267.0<br>min_samples_split: 5.0<br>Test score: 0.929<br>Training time: 0.714 s",
          "max_features: None<br>n_estimators: 500.0<br>min_samples_split: 10.0<br>Test score: 0.929<br>Training time: 1.625 s",
          "max_features: auto<br>n_estimators: 850.0<br>min_samples_split: 7.0<br>Test score: 0.921<br>Training time: 2.244 s",
          "max_features: auto<br>n_estimators: 384.0<br>min_samples_split: 10.0<br>Test score: 0.93<br>Training time: 1.045 s",
          "max_features: None<br>n_estimators: 1083.0<br>min_samples_split: 10.0<br>Test score: 0.934<br>Training time: 3.782 s",
          "max_features: None<br>n_estimators: 733.0<br>min_samples_split: 14.0<br>Test score: 0.932<br>Training time: 2.468 s",
          "max_features: None<br>n_estimators: 267.0<br>min_samples_split: 7.0<br>Test score: 0.929<br>Training time: 0.857 s",
          "max_features: auto<br>n_estimators: 850.0<br>min_samples_split: 14.0<br>Test score: 0.93<br>Training time: 2.436 s",
          "max_features: log2<br>n_estimators: 966.0<br>min_samples_split: 5.0<br>Test score: 0.932<br>Training time: 2.854 s",
          "max_features: sqrt<br>n_estimators: 500.0<br>min_samples_split: 10.0<br>Test score: 0.936<br>Training time: 1.532 s",
          "max_features: sqrt<br>n_estimators: 850.0<br>min_samples_split: 10.0<br>Test score: 0.934<br>Training time: 2.567 s",
          "max_features: log2<br>n_estimators: 850.0<br>min_samples_split: 14.0<br>Test score: 0.934<br>Training time: 2.491 s",
          "max_features: sqrt<br>n_estimators: 384.0<br>min_samples_split: 14.0<br>Test score: 0.92<br>Training time: 1.002 s",
          "max_features: log2<br>n_estimators: 1200.0<br>min_samples_split: 14.0<br>Test score: 0.93<br>Training time: 3.235 s",
          "max_features: None<br>n_estimators: 617.0<br>min_samples_split: 7.0<br>Test score: 0.938<br>Training time: 2.146 s",
          "max_features: sqrt<br>n_estimators: 267.0<br>min_samples_split: 5.0<br>Test score: 0.932<br>Training time: 0.794 s",
          "max_features: None<br>n_estimators: 617.0<br>min_samples_split: 5.0<br>Test score: 0.929<br>Training time: 1.781 s",
          "max_features: log2<br>n_estimators: 384.0<br>min_samples_split: 5.0<br>Test score: 0.934<br>Training time: 1.111 s",
          "max_features: log2<br>n_estimators: 733.0<br>min_samples_split: 7.0<br>Test score: 0.934<br>Training time: 2.134 s",
          "max_features: auto<br>n_estimators: 267.0<br>min_samples_split: 14.0<br>Test score: 0.932<br>Training time: 0.795 s",
          "max_features: log2<br>n_estimators: 1200.0<br>min_samples_split: 14.0<br>Test score: 0.934<br>Training time: 3.534 s",
          "max_features: auto<br>n_estimators: 1083.0<br>min_samples_split: 5.0<br>Test score: 0.932<br>Training time: 3.09 s",
          "max_features: log2<br>n_estimators: 384.0<br>min_samples_split: 7.0<br>Test score: 0.932<br>Training time: 1.031 s",
          "max_features: None<br>n_estimators: 1083.0<br>min_samples_split: 7.0<br>Test score: 0.929<br>Training time: 3.456 s",
          "max_features: auto<br>n_estimators: 151.0<br>min_samples_split: 10.0<br>Test score: 0.932<br>Training time: 0.438 s",
          "max_features: sqrt<br>n_estimators: 500.0<br>min_samples_split: 14.0<br>Test score: 0.932<br>Training time: 1.328 s",
          "max_features: sqrt<br>n_estimators: 1083.0<br>min_samples_split: 5.0<br>Test score: 0.93<br>Training time: 2.886 s",
          "max_features: log2<br>n_estimators: 267.0<br>min_samples_split: 7.0<br>Test score: 0.936<br>Training time: 0.806 s",
          "max_features: None<br>n_estimators: 1200.0<br>min_samples_split: 7.0<br>Test score: 0.934<br>Training time: 3.546 s",
          "max_features: auto<br>n_estimators: 1200.0<br>min_samples_split: 14.0<br>Test score: 0.93<br>Training time: 3.24 s",
          "max_features: sqrt<br>n_estimators: 733.0<br>min_samples_split: 10.0<br>Test score: 0.936<br>Training time: 2.188 s",
          "max_features: log2<br>n_estimators: 966.0<br>min_samples_split: 14.0<br>Test score: 0.921<br>Training time: 2.544 s",
          "max_features: None<br>n_estimators: 850.0<br>min_samples_split: 7.0<br>Test score: 0.932<br>Training time: 2.441 s",
          "max_features: log2<br>n_estimators: 151.0<br>min_samples_split: 10.0<br>Test score: 0.932<br>Training time: 0.442 s",
          "max_features: None<br>n_estimators: 733.0<br>min_samples_split: 7.0<br>Test score: 0.932<br>Training time: 2.43 s",
          "max_features: None<br>n_estimators: 850.0<br>min_samples_split: 10.0<br>Test score: 0.929<br>Training time: 2.733 s",
          "max_features: None<br>n_estimators: 966.0<br>min_samples_split: 10.0<br>Test score: 0.934<br>Training time: 2.773 s",
          "max_features: sqrt<br>n_estimators: 850.0<br>min_samples_split: 5.0<br>Test score: 0.932<br>Training time: 2.426 s"
         ],
         "type": "scatter3d",
         "uid": "fb54caa1-b0f5-4fe0-bdfe-4314a1a9355d",
         "x": {
          "dtype": "float64",
          "shape": [
           80
          ]
         },
         "y": {
          "dtype": "float64",
          "shape": [
           80
          ]
         },
         "z": {
          "dtype": "float64",
          "shape": [
           80
          ]
         }
        }
       ],
       "_dom_classes": [],
       "_js2py_layoutDelta": {},
       "_js2py_pointsCallback": {},
       "_js2py_relayout": {},
       "_js2py_restyle": {},
       "_js2py_traceDeltas": {},
       "_js2py_update": {},
       "_last_layout_edit_id": 0,
       "_last_trace_edit_id": 0,
       "_layout": {
        "scene": {
         "camera": {
          "center": {
           "x": 0,
           "y": 0,
           "z": 0
          },
          "eye": {
           "x": 2,
           "y": 2,
           "z": 1.25
          },
          "up": {
           "x": 0,
           "y": 0,
           "z": 1
          }
         },
         "xaxis": {
          "range": [
           151.0,
           1200.0
          ],
          "title": {
           "text": "n_estimators"
          }
         },
         "yaxis": {
          "title": {
           "text": "min_leaf"
          },
          "type": "log"
         },
         "zaxis": {
          "title": {
           "text": "min_split"
          },
          "type": "log"
         }
        }
       },
       "_model_module": "plotlywidget",
       "_model_module_version": "^1.1.0",
       "_model_name": "FigureModel",
       "_py2js_addTraces": {},
       "_py2js_animate": {},
       "_py2js_deleteTraces": {},
       "_py2js_moveTraces": {},
       "_py2js_relayout": null,
       "_py2js_removeLayoutProps": {},
       "_py2js_removeTraceProps": {},
       "_py2js_restyle": {},
       "_py2js_update": {},
       "_view_count": 0,
       "_view_module": "plotlywidget",
       "_view_module_version": "^1.1.0",
       "_view_name": "FigureView"
      }
     },
     "8569fef814574358b78c943e2e84ebb6": {
      "model_module": "@jupyter-widgets/controls",
      "model_module_version": "1.5.0",
      "model_name": "DescriptionStyleModel",
      "state": {
       "_model_module": "@jupyter-widgets/controls",
       "_model_module_version": "1.5.0",
       "_model_name": "DescriptionStyleModel",
       "_view_count": null,
       "_view_module": "@jupyter-widgets/base",
       "_view_module_version": "1.2.0",
       "_view_name": "StyleView",
       "description_width": ""
      }
     },
     "a593b51bbcb24163a9a6a6017e4ad3a7": {
      "model_module": "@jupyter-widgets/base",
      "model_module_version": "1.2.0",
      "model_name": "LayoutModel",
      "state": {
       "_model_module": "@jupyter-widgets/base",
       "_model_module_version": "1.2.0",
       "_model_name": "LayoutModel",
       "_view_count": null,
       "_view_module": "@jupyter-widgets/base",
       "_view_module_version": "1.2.0",
       "_view_name": "LayoutView",
       "align_content": null,
       "align_items": "center",
       "align_self": null,
       "border": null,
       "bottom": null,
       "display": null,
       "flex": null,
       "flex_flow": null,
       "grid_area": null,
       "grid_auto_columns": null,
       "grid_auto_flow": null,
       "grid_auto_rows": null,
       "grid_column": null,
       "grid_gap": null,
       "grid_row": null,
       "grid_template_areas": null,
       "grid_template_columns": null,
       "grid_template_rows": null,
       "height": null,
       "justify_content": null,
       "justify_items": null,
       "left": null,
       "margin": null,
       "max_height": null,
       "max_width": null,
       "min_height": null,
       "min_width": null,
       "object_fit": null,
       "object_position": null,
       "order": null,
       "overflow": null,
       "overflow_x": null,
       "overflow_y": null,
       "padding": null,
       "right": null,
       "top": null,
       "visibility": null,
       "width": null
      }
     },
     "ac52e5b2f4c741a9918c093ea7ac75dc": {
      "model_module": "@jupyter-widgets/base",
      "model_module_version": "1.2.0",
      "model_name": "LayoutModel",
      "state": {
       "_model_module": "@jupyter-widgets/base",
       "_model_module_version": "1.2.0",
       "_model_name": "LayoutModel",
       "_view_count": null,
       "_view_module": "@jupyter-widgets/base",
       "_view_module_version": "1.2.0",
       "_view_name": "LayoutView",
       "align_content": null,
       "align_items": null,
       "align_self": null,
       "border": null,
       "bottom": null,
       "display": null,
       "flex": null,
       "flex_flow": null,
       "grid_area": null,
       "grid_auto_columns": null,
       "grid_auto_flow": null,
       "grid_auto_rows": null,
       "grid_column": null,
       "grid_gap": null,
       "grid_row": null,
       "grid_template_areas": null,
       "grid_template_columns": null,
       "grid_template_rows": null,
       "height": null,
       "justify_content": null,
       "justify_items": null,
       "left": null,
       "margin": null,
       "max_height": null,
       "max_width": null,
       "min_height": null,
       "min_width": null,
       "object_fit": null,
       "object_position": null,
       "order": null,
       "overflow": null,
       "overflow_x": null,
       "overflow_y": null,
       "padding": null,
       "right": null,
       "top": null,
       "visibility": null,
       "width": null
      }
     },
     "c081de3dd04e4990a5aceb649036b2ee": {
      "model_module": "@jupyter-widgets/controls",
      "model_module_version": "1.5.0",
      "model_name": "VBoxModel",
      "state": {
       "_dom_classes": [],
       "_model_module": "@jupyter-widgets/controls",
       "_model_module_version": "1.5.0",
       "_model_name": "VBoxModel",
       "_view_count": null,
       "_view_module": "@jupyter-widgets/controls",
       "_view_module_version": "1.5.0",
       "_view_name": "VBoxView",
       "box_style": "",
       "children": [
        "IPY_MODEL_e26bc368dfa7416aa05d4c6410ba14d2",
        "IPY_MODEL_82eed30d030043e8aa3d6b21cf1f5bdc"
       ],
       "layout": "IPY_MODEL_a593b51bbcb24163a9a6a6017e4ad3a7"
      }
     },
     "db28100bd8fb4215bb89113829876699": {
      "model_module": "@jupyter-widgets/base",
      "model_module_version": "1.2.0",
      "model_name": "LayoutModel",
      "state": {
       "_model_module": "@jupyter-widgets/base",
       "_model_module_version": "1.2.0",
       "_model_name": "LayoutModel",
       "_view_count": null,
       "_view_module": "@jupyter-widgets/base",
       "_view_module_version": "1.2.0",
       "_view_name": "LayoutView",
       "align_content": null,
       "align_items": null,
       "align_self": null,
       "border": null,
       "bottom": null,
       "display": null,
       "flex": null,
       "flex_flow": null,
       "grid_area": null,
       "grid_auto_columns": null,
       "grid_auto_flow": null,
       "grid_auto_rows": null,
       "grid_column": null,
       "grid_gap": null,
       "grid_row": null,
       "grid_template_areas": null,
       "grid_template_columns": null,
       "grid_template_rows": null,
       "height": null,
       "justify_content": null,
       "justify_items": null,
       "left": null,
       "margin": null,
       "max_height": null,
       "max_width": null,
       "min_height": null,
       "min_width": null,
       "object_fit": null,
       "object_position": null,
       "order": null,
       "overflow": null,
       "overflow_x": null,
       "overflow_y": null,
       "padding": null,
       "right": null,
       "top": null,
       "visibility": null,
       "width": null
      }
     },
     "e05e9e56bafe477da9bf29f7557d3682": {
      "model_module": "@jupyter-widgets/base",
      "model_module_version": "1.2.0",
      "model_name": "LayoutModel",
      "state": {
       "_model_module": "@jupyter-widgets/base",
       "_model_module_version": "1.2.0",
       "_model_name": "LayoutModel",
       "_view_count": null,
       "_view_module": "@jupyter-widgets/base",
       "_view_module_version": "1.2.0",
       "_view_name": "LayoutView",
       "align_content": null,
       "align_items": null,
       "align_self": null,
       "border": null,
       "bottom": null,
       "display": null,
       "flex": null,
       "flex_flow": null,
       "grid_area": null,
       "grid_auto_columns": null,
       "grid_auto_flow": null,
       "grid_auto_rows": null,
       "grid_column": null,
       "grid_gap": null,
       "grid_row": null,
       "grid_template_areas": null,
       "grid_template_columns": null,
       "grid_template_rows": null,
       "height": null,
       "justify_content": null,
       "justify_items": null,
       "left": null,
       "margin": null,
       "max_height": null,
       "max_width": null,
       "min_height": null,
       "min_width": null,
       "object_fit": null,
       "object_position": null,
       "order": null,
       "overflow": null,
       "overflow_x": null,
       "overflow_y": null,
       "padding": null,
       "right": null,
       "top": null,
       "visibility": null,
       "width": null
      }
     },
     "e137e74a5fbf44f5a344652df1758136": {
      "model_module": "@jupyter-widgets/controls",
      "model_module_version": "1.5.0",
      "model_name": "HBoxModel",
      "state": {
       "_dom_classes": [],
       "_model_module": "@jupyter-widgets/controls",
       "_model_module_version": "1.5.0",
       "_model_name": "HBoxModel",
       "_view_count": null,
       "_view_module": "@jupyter-widgets/controls",
       "_view_module_version": "1.5.0",
       "_view_name": "HBoxView",
       "box_style": "",
       "children": [
        "IPY_MODEL_5809f5689316448ba6fc3107aebbeef0",
        "IPY_MODEL_4e9db7d701b3493185a5c24f3cf6a574"
       ],
       "layout": "IPY_MODEL_eb3cbb92d22243b0aeade382fa708927"
      }
     },
     "e26bc368dfa7416aa05d4c6410ba14d2": {
      "model_module": "@jupyter-widgets/controls",
      "model_module_version": "1.5.0",
      "model_name": "VBoxModel",
      "state": {
       "_dom_classes": [
        "widget-interact"
       ],
       "_model_module": "@jupyter-widgets/controls",
       "_model_module_version": "1.5.0",
       "_model_name": "VBoxModel",
       "_view_count": null,
       "_view_module": "@jupyter-widgets/controls",
       "_view_module_version": "1.5.0",
       "_view_name": "VBoxView",
       "box_style": "",
       "children": [
        "IPY_MODEL_e67877a433cf45af84c9e36a34ff0a25",
        "IPY_MODEL_36cd42a679a342229c3018ca2b3ecc75"
       ],
       "layout": "IPY_MODEL_49026c7c41fc4e4197c4c549512d1fb3"
      }
     },
     "e67877a433cf45af84c9e36a34ff0a25": {
      "model_module": "@jupyter-widgets/controls",
      "model_module_version": "1.5.0",
      "model_name": "FloatRangeSliderModel",
      "state": {
       "_dom_classes": [],
       "_model_module": "@jupyter-widgets/controls",
       "_model_module_version": "1.5.0",
       "_model_name": "FloatRangeSliderModel",
       "_view_count": null,
       "_view_module": "@jupyter-widgets/controls",
       "_view_module_version": "1.5.0",
       "_view_name": "FloatRangeSliderView",
       "continuous_update": true,
       "description": "n_estimators",
       "description_tooltip": null,
       "disabled": false,
       "layout": "IPY_MODEL_71addeaf28cd4c05b158cb9a4a9f80eb",
       "max": 1200.0,
       "min": 151.0,
       "orientation": "horizontal",
       "readout": true,
       "readout_format": ".2f",
       "step": 20.98,
       "style": "IPY_MODEL_647f8c7dea0649c9840ee677d8c1892c",
       "value": [
        151.0,
        1200.0
       ]
      }
     },
     "eb3cbb92d22243b0aeade382fa708927": {
      "model_module": "@jupyter-widgets/base",
      "model_module_version": "1.2.0",
      "model_name": "LayoutModel",
      "state": {
       "_model_module": "@jupyter-widgets/base",
       "_model_module_version": "1.2.0",
       "_model_name": "LayoutModel",
       "_view_count": null,
       "_view_module": "@jupyter-widgets/base",
       "_view_module_version": "1.2.0",
       "_view_name": "LayoutView",
       "align_content": null,
       "align_items": null,
       "align_self": null,
       "border": null,
       "bottom": null,
       "display": null,
       "flex": null,
       "flex_flow": null,
       "grid_area": null,
       "grid_auto_columns": null,
       "grid_auto_flow": null,
       "grid_auto_rows": null,
       "grid_column": null,
       "grid_gap": null,
       "grid_row": null,
       "grid_template_areas": null,
       "grid_template_columns": null,
       "grid_template_rows": null,
       "height": null,
       "justify_content": null,
       "justify_items": null,
       "left": null,
       "margin": null,
       "max_height": null,
       "max_width": null,
       "min_height": null,
       "min_width": null,
       "object_fit": null,
       "object_position": null,
       "order": null,
       "overflow": null,
       "overflow_x": null,
       "overflow_y": null,
       "padding": null,
       "right": null,
       "top": null,
       "visibility": null,
       "width": null
      }
     }
    },
    "version_major": 2,
    "version_minor": 0
   }
  }
 },
 "nbformat": 4,
 "nbformat_minor": 1
}